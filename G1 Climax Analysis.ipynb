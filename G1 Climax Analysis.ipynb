{
 "cells": [
  {
   "cell_type": "markdown",
   "metadata": {},
   "source": [
    "The G1 Climax is an annual Japanase wrestling tournament that's held every summer over 20 days. Rather than a simple knockout tournament it's a league made up two blocks each consisting of 20 wrestlers. The winner of each block then face off and the winner goes to headline wrestle kingdom in January"
   ]
  },
  {
   "cell_type": "markdown",
   "metadata": {},
   "source": [
    "Let's start off with importing all the relevant libraries which will be updated as we go"
   ]
  },
  {
   "cell_type": "code",
   "execution_count": 59,
   "metadata": {
    "collapsed": false
   },
   "outputs": [
    {
     "name": "stdout",
     "output_type": "stream",
     "text": [
      "Collecting plotly\n",
      "  Downloading plotly-2.0.16.tar.gz (1.0MB)\n",
      "Requirement already satisfied: decorator>=4.0.6 in c:\\users\\shahnur islam\\appdata\\local\\continuum\\anaconda3\\lib\\site-packages (from plotly)\n",
      "Collecting nbformat>=4.2 (from plotly)\n",
      "  Downloading nbformat-4.4.0-py2.py3-none-any.whl (155kB)\n",
      "Requirement already satisfied: pytz in c:\\users\\shahnur islam\\appdata\\local\\continuum\\anaconda3\\lib\\site-packages (from plotly)\n",
      "Requirement already satisfied: requests in c:\\users\\shahnur islam\\appdata\\local\\continuum\\anaconda3\\lib\\site-packages (from plotly)\n",
      "Requirement already satisfied: six in c:\\users\\shahnur islam\\appdata\\local\\continuum\\anaconda3\\lib\\site-packages (from plotly)\n",
      "Requirement already satisfied: jsonschema!=2.5.0,>=2.4 in c:\\users\\shahnur islam\\appdata\\local\\continuum\\anaconda3\\lib\\site-packages (from nbformat>=4.2->plotly)\n",
      "Requirement already satisfied: ipython-genutils in c:\\users\\shahnur islam\\appdata\\local\\continuum\\anaconda3\\lib\\site-packages (from nbformat>=4.2->plotly)\n",
      "Requirement already satisfied: traitlets>=4.1 in c:\\users\\shahnur islam\\appdata\\local\\continuum\\anaconda3\\lib\\site-packages (from nbformat>=4.2->plotly)\n",
      "Requirement already satisfied: jupyter-core in c:\\users\\shahnur islam\\appdata\\local\\continuum\\anaconda3\\lib\\site-packages (from nbformat>=4.2->plotly)\n",
      "Building wheels for collected packages: plotly\n",
      "  Running setup.py bdist_wheel for plotly: started\n",
      "  Running setup.py bdist_wheel for plotly: finished with status 'done'\n",
      "  Stored in directory: C:\\Users\\shahnur islam\\AppData\\Local\\pip\\Cache\\wheels\\82\\8a\\9a\\3c849456631272e7077301fa6385226c2a507dd1b9f9720e60\n",
      "Successfully built plotly\n",
      "Installing collected packages: nbformat, plotly\n",
      "  Found existing installation: nbformat 4.1.0\n",
      "    Uninstalling nbformat-4.1.0:\n",
      "      Successfully uninstalled nbformat-4.1.0\n",
      "Successfully installed nbformat-4.4.0 plotly-2.0.16\n"
     ]
    },
    {
     "name": "stderr",
     "output_type": "stream",
     "text": [
      "    DEPRECATION: Uninstalling a distutils installed project (nbformat) has been deprecated and will be removed in a future version. This is due to the fact that uninstalling a distutils project will only partially uninstall the project.\n"
     ]
    }
   ],
   "source": [
    "!pip install plotly"
   ]
  },
  {
   "cell_type": "code",
   "execution_count": 60,
   "metadata": {
    "collapsed": false
   },
   "outputs": [],
   "source": [
    "import pandas as pd\n",
    "import math\n",
    "import numpy as np\n",
    "import itertools\n",
    "import matplotlib.pyplot as plt\n",
    "import seaborn as sns\n",
    "import decimal\n",
    "import datetime\n",
    "import plotly.plotly as py\n",
    "import plotly.graph_objs as go\n",
    "sns.set_style('white')"
   ]
  },
  {
   "cell_type": "markdown",
   "metadata": {},
   "source": [
    "Here are some potential things to look at:\n",
    "Who on average has the longest time?\n",
    "Does a wrestler style, weight, momemntum make a diffenece?\n",
    "Does Dave Metlzer's rating correlate with match time or any other variables?\n",
    "If they won the last match are they going to win the next one?\n"
   ]
  },
  {
   "cell_type": "markdown",
   "metadata": {},
   "source": [
    "Let's start off by reading the csv file with the wrestler's names and which block they're in."
   ]
  },
  {
   "cell_type": "code",
   "execution_count": 2,
   "metadata": {
    "collapsed": true
   },
   "outputs": [],
   "source": [
    "df = pd.read_csv(\"G1 Competitors.csv\")"
   ]
  },
  {
   "cell_type": "code",
   "execution_count": 42,
   "metadata": {
    "collapsed": false,
    "scrolled": true
   },
   "outputs": [
    {
     "name": "stdout",
     "output_type": "stream",
     "text": [
      "<class 'pandas.core.frame.DataFrame'>\n",
      "RangeIndex: 10 entries, 0 to 9\n",
      "Data columns (total 2 columns):\n",
      "A Block    10 non-null object\n",
      "B Block    10 non-null object\n",
      "dtypes: object(2)\n",
      "memory usage: 240.0+ bytes\n"
     ]
    }
   ],
   "source": [
    "df.info()#use .info() to give us information on the dataframe"
   ]
  },
  {
   "cell_type": "markdown",
   "metadata": {},
   "source": [
    "The dataframe only contain 10 entries with No null objects which is good to see. We can just type in **df** into the console and see what the whole dataframe looks like. Of course if we had more rows we wouldn't be able to do this and would use *df.head()*"
   ]
  },
  {
   "cell_type": "code",
   "execution_count": 43,
   "metadata": {
    "collapsed": false,
    "scrolled": true
   },
   "outputs": [
    {
     "data": {
      "text/html": [
       "<div>\n",
       "<table border=\"1\" class=\"dataframe\">\n",
       "  <thead>\n",
       "    <tr style=\"text-align: right;\">\n",
       "      <th></th>\n",
       "      <th>A Block</th>\n",
       "      <th>B Block</th>\n",
       "    </tr>\n",
       "  </thead>\n",
       "  <tbody>\n",
       "    <tr>\n",
       "      <th>0</th>\n",
       "      <td>Hiroshi Tanahashi</td>\n",
       "      <td>Kazuchika Okada</td>\n",
       "    </tr>\n",
       "    <tr>\n",
       "      <th>1</th>\n",
       "      <td>Togi Makabe</td>\n",
       "      <td>Toru Yano</td>\n",
       "    </tr>\n",
       "    <tr>\n",
       "      <th>2</th>\n",
       "      <td>Tomohiro Ishii</td>\n",
       "      <td>Satoshi Kojima</td>\n",
       "    </tr>\n",
       "    <tr>\n",
       "      <th>3</th>\n",
       "      <td>Hirooki Goto</td>\n",
       "      <td>Michael Elgin</td>\n",
       "    </tr>\n",
       "    <tr>\n",
       "      <th>4</th>\n",
       "      <td>YOSHI-HASHI</td>\n",
       "      <td>Juice Robinson</td>\n",
       "    </tr>\n",
       "    <tr>\n",
       "      <th>5</th>\n",
       "      <td>Bad Luck Fale</td>\n",
       "      <td>Tama Tonga</td>\n",
       "    </tr>\n",
       "    <tr>\n",
       "      <th>6</th>\n",
       "      <td>Yuji Nagata</td>\n",
       "      <td>SANADA</td>\n",
       "    </tr>\n",
       "    <tr>\n",
       "      <th>7</th>\n",
       "      <td>Zack Sabre Jr.</td>\n",
       "      <td>EVIL</td>\n",
       "    </tr>\n",
       "    <tr>\n",
       "      <th>8</th>\n",
       "      <td>Kota Ibushi</td>\n",
       "      <td>Minoru Suzuki</td>\n",
       "    </tr>\n",
       "    <tr>\n",
       "      <th>9</th>\n",
       "      <td>Tetsuya Naito</td>\n",
       "      <td>Kenny Omega</td>\n",
       "    </tr>\n",
       "  </tbody>\n",
       "</table>\n",
       "</div>"
      ],
      "text/plain": [
       "             A Block          B Block\n",
       "0  Hiroshi Tanahashi  Kazuchika Okada\n",
       "1        Togi Makabe        Toru Yano\n",
       "2     Tomohiro Ishii   Satoshi Kojima\n",
       "3       Hirooki Goto    Michael Elgin\n",
       "4        YOSHI-HASHI   Juice Robinson\n",
       "5      Bad Luck Fale       Tama Tonga\n",
       "6        Yuji Nagata           SANADA\n",
       "7     Zack Sabre Jr.             EVIL\n",
       "8        Kota Ibushi    Minoru Suzuki\n",
       "9      Tetsuya Naito      Kenny Omega"
      ]
     },
     "execution_count": 43,
     "metadata": {},
     "output_type": "execute_result"
    }
   ],
   "source": [
    "df"
   ]
  },
  {
   "cell_type": "markdown",
   "metadata": {},
   "source": [
    "I noticed that some of the wrestler's name have capitals while others don't, let's seperate these into two blocks and make sure we convert all strings to uppercase so formatting is consistent"
   ]
  },
  {
   "cell_type": "code",
   "execution_count": 44,
   "metadata": {
    "collapsed": true
   },
   "outputs": [],
   "source": [
    "A_Block = pd.DataFrame(df['A Block'].str.upper())\n",
    "A_Block.columns = ['Wrestler']\n",
    "B_Block = pd.DataFrame(df['B Block'].str.upper())\n",
    "B_Block.columns = ['Wrestler']"
   ]
  },
  {
   "cell_type": "markdown",
   "metadata": {},
   "source": [
    "Ok we've now got two seperate dataframes called *A_Block* & *B_Block*. Let's use these two dataframes as our league table for the tournament blocks. We'll add the usual columns you'd see in any sports league **'Matches','Wins','Losses','Draws'**. \n",
    "\n",
    "I'm going to include **'Match Time'** as the total time a wrestler has wrestled. I'm also going to add another called **'DMR'**, which stand Dave Meltzer Rating who is a 30 year wrestling journalist whose ratings of matches are out of five and is held in high standing"
   ]
  },
  {
   "cell_type": "code",
   "execution_count": 45,
   "metadata": {
    "collapsed": true
   },
   "outputs": [],
   "source": [
    "A_Block['Matches'] = np.NAN\n",
    "A_Block['Wins'] = np.NAN\n",
    "A_Block['Losses'] = np.NAN\n",
    "A_Block['Draws'] = np.NAN\n",
    "A_Block['Points'] = np.NAN\n",
    "A_Block['Match_Time'] = np.NAN\n",
    "A_Block['DMR'] = 0.00\n",
    "B_Block['Matches'] = np.NAN\n",
    "B_Block['Wins'] = np.NAN\n",
    "B_Block['Losses'] = np.NAN\n",
    "B_Block['Draws'] = np.NAN\n",
    "B_Block['Points'] = np.NAN\n",
    "B_Block['Match_Time'] = np.NAN\n",
    "B_Block['DMR'] = 0.00"
   ]
  },
  {
   "cell_type": "code",
   "execution_count": 48,
   "metadata": {
    "collapsed": false
   },
   "outputs": [
    {
     "data": {
      "text/html": [
       "<div>\n",
       "<table border=\"1\" class=\"dataframe\">\n",
       "  <thead>\n",
       "    <tr style=\"text-align: right;\">\n",
       "      <th></th>\n",
       "      <th>Wrestler</th>\n",
       "      <th>Matches</th>\n",
       "      <th>Wins</th>\n",
       "      <th>Losses</th>\n",
       "      <th>Draws</th>\n",
       "      <th>Points</th>\n",
       "      <th>Match_Time</th>\n",
       "      <th>DMR</th>\n",
       "    </tr>\n",
       "  </thead>\n",
       "  <tbody>\n",
       "    <tr>\n",
       "      <th>0</th>\n",
       "      <td>HIROSHI TANAHASHI</td>\n",
       "      <td>NaN</td>\n",
       "      <td>NaN</td>\n",
       "      <td>NaN</td>\n",
       "      <td>NaN</td>\n",
       "      <td>NaN</td>\n",
       "      <td>NaN</td>\n",
       "      <td>0.0</td>\n",
       "    </tr>\n",
       "  </tbody>\n",
       "</table>\n",
       "</div>"
      ],
      "text/plain": [
       "            Wrestler  Matches  Wins  Losses  Draws  Points  Match_Time  DMR\n",
       "0  HIROSHI TANAHASHI      NaN   NaN     NaN    NaN     NaN         NaN  0.0"
      ]
     },
     "execution_count": 48,
     "metadata": {},
     "output_type": "execute_result"
    }
   ],
   "source": [
    "A_Block.head(1)"
   ]
  },
  {
   "cell_type": "code",
   "execution_count": 49,
   "metadata": {
    "collapsed": false
   },
   "outputs": [
    {
     "data": {
      "text/html": [
       "<div>\n",
       "<table border=\"1\" class=\"dataframe\">\n",
       "  <thead>\n",
       "    <tr style=\"text-align: right;\">\n",
       "      <th></th>\n",
       "      <th>Wrestler</th>\n",
       "      <th>Matches</th>\n",
       "      <th>Wins</th>\n",
       "      <th>Losses</th>\n",
       "      <th>Draws</th>\n",
       "      <th>Points</th>\n",
       "      <th>Match_Time</th>\n",
       "      <th>DMR</th>\n",
       "    </tr>\n",
       "  </thead>\n",
       "  <tbody>\n",
       "    <tr>\n",
       "      <th>0</th>\n",
       "      <td>KAZUCHIKA OKADA</td>\n",
       "      <td>NaN</td>\n",
       "      <td>NaN</td>\n",
       "      <td>NaN</td>\n",
       "      <td>NaN</td>\n",
       "      <td>NaN</td>\n",
       "      <td>NaN</td>\n",
       "      <td>0.0</td>\n",
       "    </tr>\n",
       "  </tbody>\n",
       "</table>\n",
       "</div>"
      ],
      "text/plain": [
       "          Wrestler  Matches  Wins  Losses  Draws  Points  Match_Time  DMR\n",
       "0  KAZUCHIKA OKADA      NaN   NaN     NaN    NaN     NaN         NaN  0.0"
      ]
     },
     "execution_count": 49,
     "metadata": {},
     "output_type": "execute_result"
    }
   ],
   "source": [
    "B_Block.head(1)"
   ]
  },
  {
   "cell_type": "markdown",
   "metadata": {},
   "source": [
    "How many potential matches per block?\n",
    "Using the old permuations formula"
   ]
  },
  {
   "cell_type": "code",
   "execution_count": 9,
   "metadata": {
    "collapsed": false,
    "scrolled": true
   },
   "outputs": [
    {
     "data": {
      "text/plain": [
       "45.0"
      ]
     },
     "execution_count": 9,
     "metadata": {},
     "output_type": "execute_result"
    }
   ],
   "source": [
    "math.factorial(10)/(math.factorial(2)*math.factorial(10-2))"
   ]
  },
  {
   "cell_type": "markdown",
   "metadata": {},
   "source": [
    "Ok there are 45 possible matches, I was going to write a custom function to list all these out but the python community is so large someone has already done what you need. Luckily they have and it comes from the library itertools. We use the function combinations as we're looking for all unique combinations and not permutations. The combination takes a list so we can't simply pass in the data frame and need to select the Wrestler column as a series. W"
   ]
  },
  {
   "cell_type": "code",
   "execution_count": 10,
   "metadata": {
    "collapsed": true
   },
   "outputs": [],
   "source": [
    "A_matches = pd.DataFrame.from_records(list(itertools.combinations(A_Block['Wrestler'],2)), columns = ['Wrestler 1', 'Wrestler 2'])\n",
    "B_matches = pd.DataFrame.from_records(list(itertools.combinations(B_Block['Wrestler'],2)), columns = ['Wrestler 1', 'Wrestler 2'])\n",
    "A_matches['Winner'] = np.NAN\n",
    "B_matches['Winner'] = np.NAN\n",
    "A_matches['Loser'] = np.NAN\n",
    "B_matches['Loser'] = np.NAN\n",
    "A_matches['Match'] = 1\n",
    "B_matches['Match'] = 1\n",
    "B_matches['Match_Time'] = np.NAN\n",
    "A_matches['Match_Time'] = np.NAN\n",
    "B_matches['Draw'] = False\n",
    "A_matches['Draw'] = False\n",
    "B_matches['DMR'] = 0.00\n",
    "A_matches['DMR'] = 0.00"
   ]
  },
  {
   "cell_type": "code",
   "execution_count": 50,
   "metadata": {
    "collapsed": false
   },
   "outputs": [
    {
     "data": {
      "text/html": [
       "<div>\n",
       "<table border=\"1\" class=\"dataframe\">\n",
       "  <thead>\n",
       "    <tr style=\"text-align: right;\">\n",
       "      <th></th>\n",
       "      <th>Wrestler 1</th>\n",
       "      <th>Wrestler 2</th>\n",
       "      <th>Winner</th>\n",
       "      <th>Loser</th>\n",
       "      <th>Match</th>\n",
       "      <th>Match_Time</th>\n",
       "      <th>Draw</th>\n",
       "      <th>DMR</th>\n",
       "    </tr>\n",
       "  </thead>\n",
       "  <tbody>\n",
       "    <tr>\n",
       "      <th>0</th>\n",
       "      <td>HIROSHI TANAHASHI</td>\n",
       "      <td>TOGI MAKABE</td>\n",
       "      <td>HIROSHI TANAHASHI</td>\n",
       "      <td>TOGI MAKABE</td>\n",
       "      <td>1</td>\n",
       "      <td>13:34</td>\n",
       "      <td>False</td>\n",
       "      <td>3.50</td>\n",
       "    </tr>\n",
       "    <tr>\n",
       "      <th>1</th>\n",
       "      <td>HIROSHI TANAHASHI</td>\n",
       "      <td>TOMOHIRO ISHII</td>\n",
       "      <td>HIROSHI TANAHASHI</td>\n",
       "      <td>TOMOHIRO ISHII</td>\n",
       "      <td>1</td>\n",
       "      <td>23:30</td>\n",
       "      <td>False</td>\n",
       "      <td>4.50</td>\n",
       "    </tr>\n",
       "    <tr>\n",
       "      <th>2</th>\n",
       "      <td>HIROSHI TANAHASHI</td>\n",
       "      <td>HIROOKI GOTO</td>\n",
       "      <td>HIROSHI TANAHASHI</td>\n",
       "      <td>HIROOKI GOTO</td>\n",
       "      <td>1</td>\n",
       "      <td>1:22</td>\n",
       "      <td>False</td>\n",
       "      <td>3.25</td>\n",
       "    </tr>\n",
       "    <tr>\n",
       "      <th>3</th>\n",
       "      <td>HIROSHI TANAHASHI</td>\n",
       "      <td>YOSHI-HASHI</td>\n",
       "      <td>HIROSHI TANAHASHI</td>\n",
       "      <td>YOSHI-HASHI</td>\n",
       "      <td>1</td>\n",
       "      <td>13:34</td>\n",
       "      <td>False</td>\n",
       "      <td>3.75</td>\n",
       "    </tr>\n",
       "    <tr>\n",
       "      <th>4</th>\n",
       "      <td>HIROSHI TANAHASHI</td>\n",
       "      <td>BAD LUCK FALE</td>\n",
       "      <td>HIROSHI TANAHASHI</td>\n",
       "      <td>BAD LUCK FALE</td>\n",
       "      <td>1</td>\n",
       "      <td>11:05</td>\n",
       "      <td>False</td>\n",
       "      <td>3.50</td>\n",
       "    </tr>\n",
       "  </tbody>\n",
       "</table>\n",
       "</div>"
      ],
      "text/plain": [
       "          Wrestler 1      Wrestler 2             Winner           Loser  \\\n",
       "0  HIROSHI TANAHASHI     TOGI MAKABE  HIROSHI TANAHASHI     TOGI MAKABE   \n",
       "1  HIROSHI TANAHASHI  TOMOHIRO ISHII  HIROSHI TANAHASHI  TOMOHIRO ISHII   \n",
       "2  HIROSHI TANAHASHI    HIROOKI GOTO  HIROSHI TANAHASHI    HIROOKI GOTO   \n",
       "3  HIROSHI TANAHASHI     YOSHI-HASHI  HIROSHI TANAHASHI     YOSHI-HASHI   \n",
       "4  HIROSHI TANAHASHI   BAD LUCK FALE  HIROSHI TANAHASHI   BAD LUCK FALE   \n",
       "\n",
       "   Match Match_Time   Draw   DMR  \n",
       "0      1      13:34  False  3.50  \n",
       "1      1      23:30  False  4.50  \n",
       "2      1       1:22  False  3.25  \n",
       "3      1      13:34  False  3.75  \n",
       "4      1      11:05  False  3.50  "
      ]
     },
     "execution_count": 50,
     "metadata": {},
     "output_type": "execute_result"
    }
   ],
   "source": [
    "A_matches.head(5)"
   ]
  },
  {
   "cell_type": "code",
   "execution_count": 51,
   "metadata": {
    "collapsed": false,
    "scrolled": true
   },
   "outputs": [
    {
     "data": {
      "text/html": [
       "<div>\n",
       "<table border=\"1\" class=\"dataframe\">\n",
       "  <thead>\n",
       "    <tr style=\"text-align: right;\">\n",
       "      <th></th>\n",
       "      <th>Wrestler 1</th>\n",
       "      <th>Wrestler 2</th>\n",
       "      <th>Winner</th>\n",
       "      <th>Loser</th>\n",
       "      <th>Match</th>\n",
       "      <th>Match_Time</th>\n",
       "      <th>Draw</th>\n",
       "      <th>DMR</th>\n",
       "    </tr>\n",
       "  </thead>\n",
       "  <tbody>\n",
       "    <tr>\n",
       "      <th>0</th>\n",
       "      <td>KAZUCHIKA OKADA</td>\n",
       "      <td>TORU YANO</td>\n",
       "      <td>KAZUCHIKA OKADA</td>\n",
       "      <td>TORU YANO</td>\n",
       "      <td>1</td>\n",
       "      <td>10:31</td>\n",
       "      <td>False</td>\n",
       "      <td>3.25</td>\n",
       "    </tr>\n",
       "    <tr>\n",
       "      <th>1</th>\n",
       "      <td>KAZUCHIKA OKADA</td>\n",
       "      <td>SATOSHI KOJIMA</td>\n",
       "      <td>KAZUCHIKA OKADA</td>\n",
       "      <td>SATOSHI KOJIMA</td>\n",
       "      <td>1</td>\n",
       "      <td>15:26</td>\n",
       "      <td>False</td>\n",
       "      <td>4.25</td>\n",
       "    </tr>\n",
       "    <tr>\n",
       "      <th>2</th>\n",
       "      <td>KAZUCHIKA OKADA</td>\n",
       "      <td>MICHAEL ELGIN</td>\n",
       "      <td>KAZUCHIKA OKADA</td>\n",
       "      <td>MICHAEL ELGIN</td>\n",
       "      <td>1</td>\n",
       "      <td>25:49</td>\n",
       "      <td>False</td>\n",
       "      <td>4.75</td>\n",
       "    </tr>\n",
       "    <tr>\n",
       "      <th>3</th>\n",
       "      <td>KAZUCHIKA OKADA</td>\n",
       "      <td>JUICE ROBINSON</td>\n",
       "      <td>KAZUCHIKA OKADA</td>\n",
       "      <td>JUICE ROBINSON</td>\n",
       "      <td>1</td>\n",
       "      <td>20:29</td>\n",
       "      <td>False</td>\n",
       "      <td>3.50</td>\n",
       "    </tr>\n",
       "    <tr>\n",
       "      <th>4</th>\n",
       "      <td>KAZUCHIKA OKADA</td>\n",
       "      <td>TAMA TONGA</td>\n",
       "      <td>KAZUCHIKA OKADA</td>\n",
       "      <td>TAMA TONGA</td>\n",
       "      <td>1</td>\n",
       "      <td>11:22</td>\n",
       "      <td>False</td>\n",
       "      <td>3.25</td>\n",
       "    </tr>\n",
       "  </tbody>\n",
       "</table>\n",
       "</div>"
      ],
      "text/plain": [
       "        Wrestler 1      Wrestler 2           Winner           Loser  Match  \\\n",
       "0  KAZUCHIKA OKADA       TORU YANO  KAZUCHIKA OKADA       TORU YANO      1   \n",
       "1  KAZUCHIKA OKADA  SATOSHI KOJIMA  KAZUCHIKA OKADA  SATOSHI KOJIMA      1   \n",
       "2  KAZUCHIKA OKADA   MICHAEL ELGIN  KAZUCHIKA OKADA   MICHAEL ELGIN      1   \n",
       "3  KAZUCHIKA OKADA  JUICE ROBINSON  KAZUCHIKA OKADA  JUICE ROBINSON      1   \n",
       "4  KAZUCHIKA OKADA      TAMA TONGA  KAZUCHIKA OKADA      TAMA TONGA      1   \n",
       "\n",
       "  Match_Time   Draw   DMR  \n",
       "0      10:31  False  3.25  \n",
       "1      15:26  False  4.25  \n",
       "2      25:49  False  4.75  \n",
       "3      20:29  False  3.50  \n",
       "4      11:22  False  3.25  "
      ]
     },
     "execution_count": 51,
     "metadata": {},
     "output_type": "execute_result"
    }
   ],
   "source": [
    "B_matches.head(5)"
   ]
  },
  {
   "cell_type": "markdown",
   "metadata": {},
   "source": [
    "Ok we now have a table of the potential matches, I decided to write a quick function to update the dataframe with the results rather than updating each row manually. I didn't want to type out the full names either as the spellings of Japanese names can be quite hard. So the function does a partial match and prints out the names it's matched as a check"
   ]
  },
  {
   "cell_type": "code",
   "execution_count": 52,
   "metadata": {
    "collapsed": true
   },
   "outputs": [],
   "source": [
    "def updateresults(df,winner,loser, time, DMR, draw = False):#We want to find the index for the match for these two wrestlers\n",
    "    winner = winner.upper() #Tidy up the names\n",
    "    loser = loser.upper()\n",
    "    # Search for them in the results table and return their position\n",
    "    #I really should an error handler but I'm being lazy and this function is a one time use\n",
    "    w1 = list(df[df['Wrestler 1'].str.contains(winner)].index) \n",
    "    w2 = list(df[df['Wrestler 2'].str.contains(winner)].index)\n",
    "    w3 = w1 + w2\n",
    "    if not w1:\n",
    "        winner = df.iloc[w2[0],1]\n",
    "    else:\n",
    "        winner = df.iloc[w1[0],0]\n",
    "    \n",
    "    l1 = list(df[df['Wrestler 1'].str.contains(loser)].index)\n",
    "    l2 = list(df[df['Wrestler 2'].str.contains(loser)].index)\n",
    "    l3 = l1 + l2\n",
    "    if not l1:\n",
    "        loser = df.iloc[l2[0],1]\n",
    "    else:\n",
    "        loser = df.iloc[l1[0],0]\n",
    "    i = list(set(w3).intersection(l3))\n",
    "    i = i[0]\n",
    "    print(winner + ',' +loser)\n",
    "    df.iloc[i,5] = time\n",
    "    df.iloc[i,7] = DMR\n",
    "    #if it's draw add none to winner & loser and turn the draw value to True\n",
    "    if draw == False:\n",
    "        df.iloc[i,2] = winner\n",
    "        df.iloc[i,3] = loser\n",
    "    else:\n",
    "        df.iloc[i,2] = 'None'\n",
    "        df.iloc[i,3] = 'None'\n",
    "        df.iloc[i,6] = True       \n",
    "    updatetable()\n",
    " \n",
    "\n"
   ]
  },
  {
   "cell_type": "code",
   "execution_count": 53,
   "metadata": {
    "collapsed": true
   },
   "outputs": [],
   "source": [
    "def updatetable():# Function to update the table standings after match results\n",
    "    global A_Block\n",
    "    global B_Block\n",
    "    cols = ['Matches','Wins','Losses','Draws','Points']\n",
    "    \n",
    "    A_Block['Wins'] = A_Block['Wrestler'].map(A_matches['Winner'].value_counts())\n",
    "    A_Block['Losses'] = A_Block['Wrestler'].map(A_matches['Loser'].value_counts())\n",
    "    x = A_matches.loc[A_matches.Draw == True, ['Wrestler 1','Wrestler 2']]\n",
    "    Draws = (pd.concat([x['Wrestler 1'],x['Wrestler 2']]))\n",
    "    A_Block['Draws'] = A_Block['Wrestler'].map(Draws.value_counts())\n",
    "    A_Block = A_Block.fillna(0)#replace the nan's with zeroes so we can tally later\n",
    "    A_Block['Matches'] = A_Block['Wins'] + A_Block['Losses'] + A_Block['Draws']\n",
    "    A_Block['Points'] = A_Block['Wins']*2 + A_Block['Draws']\n",
    "    a=A_matches[['Wrestler 1','DMR']]\n",
    "    b=A_matches[['Wrestler 2','DMR']]\n",
    "    a.columns = ['Wrestler','DMR']\n",
    "    b.columns = ['Wrestler','DMR']\n",
    "    c = [a,b]\n",
    "    d = pd.concat(c)\n",
    "    ratings  = d.groupby('Wrestler').mean().reset_index()\n",
    "    A_Block['DMR'] = A_Block['Wrestler'].map(ratings.set_index('Wrestler')['DMR'])\n",
    "    A_Block = A_Block.sort_values(['Points'],ascending=False).reset_index(drop=True)\n",
    "    A_Block[cols] = A_Block[cols].applymap(np.int64)\n",
    "    \n",
    "    \n",
    "    \n",
    "    B_Block['Wins'] = B_Block['Wrestler'].map(B_matches['Winner'].value_counts())\n",
    "    B_Block['Losses'] = B_Block['Wrestler'].map(B_matches['Loser'].value_counts())\n",
    "    x =B_matches.loc[B_matches.Draw == True, ['Wrestler 1','Wrestler 2']]\n",
    "    Draws = (pd.concat([x['Wrestler 1'],x['Wrestler 2']]))\n",
    "    B_Block['Draws'] = B_Block['Wrestler'].map(Draws.value_counts())    \n",
    "    B_Block = B_Block.fillna(0)#replace the nan's with zeroes so we can tally later\n",
    "    B_Block['Matches'] = B_Block['Wins'] + B_Block['Losses'] + B_Block['Draws']\n",
    "    B_Block['Points'] = B_Block['Wins']*2 + B_Block['Draws']\n",
    "    a=B_matches[['Wrestler 1','DMR']]\n",
    "    b=B_matches[['Wrestler 2','DMR']]\n",
    "    a.columns = ['Wrestler','DMR']\n",
    "    b.columns = ['Wrestler','DMR']\n",
    "    c = [a,b]\n",
    "    d = pd.concat(c)\n",
    "    ratings  = d.groupby('Wrestler').mean().reset_index()\n",
    "    B_Block['DMR'] = B_Block['Wrestler'].map(ratings.set_index('Wrestler')['DMR'])\n",
    "    B_Block = B_Block.sort_values(['Points'],ascending=False).reset_index(drop=True)\n",
    "    B_Block[cols] = B_Block[cols].applymap(np.int64)"
   ]
  },
  {
   "cell_type": "markdown",
   "metadata": {},
   "source": [
    "Let's update our results with Day 1 results. Surprised to see Zack Sabre win over Tanahashi considering he's like the Japan John Cena. If you didn't understand I don't think you'd be reading this!"
   ]
  },
  {
   "cell_type": "code",
   "execution_count": 54,
   "metadata": {
    "collapsed": false
   },
   "outputs": [
    {
     "name": "stdout",
     "output_type": "stream",
     "text": [
      "YOSHI-HASHI,YUJI NAGATA\n",
      "BAD LUCK FALE,TOGI MAKABE\n",
      "HIROOKI GOTO,TOMOHIRO ISHII\n",
      "ZACK SABRE JR.,HIROSHI TANAHASHI\n",
      "TETSUYA NAITO,KOTA IBUSHI\n"
     ]
    }
   ],
   "source": [
    "updateresults(A_matches, 'YOSHI', 'Nagata', '16:29',4.25)# Day 1\n",
    "updateresults(A_matches, 'Fale', 'Togi', '09:25',3.50)\n",
    "updateresults(A_matches, 'Hirooki', 'Tomohiro', '13:43',4.25)\n",
    "updateresults(A_matches, 'Zack', 'Tanahashi', '17:18',4.25)\n",
    "updateresults(A_matches, 'Tetsuya', 'Kota', '24:41',4.75)"
   ]
  },
  {
   "cell_type": "markdown",
   "metadata": {},
   "source": [
    "Update the B block matches, no surprises with Okada and Omega going over. I expect one of them to be in the final"
   ]
  },
  {
   "cell_type": "code",
   "execution_count": 55,
   "metadata": {
    "collapsed": false
   },
   "outputs": [
    {
     "name": "stdout",
     "output_type": "stream",
     "text": [
      "JUICE ROBINSON,SATOSHI KOJIMA\n",
      "TAMA TONGA,MICHAEL ELGIN\n",
      "SANADA,EVIL\n",
      "KAZUCHIKA OKADA,TORU YANO\n",
      "KENNY OMEGA,MINORU SUZUKI\n",
      "HIROOKI GOTO,YUJI NAGATA\n",
      "TOMOHIRO ISHII,TOGI MAKABE\n",
      "KOTA IBUSHI,ZACK SABRE JR.\n",
      "HIROSHI TANAHASHI,BAD LUCK FALE\n",
      "TETSUYA NAITO,YOSHI-HASHI\n",
      "TORU YANO,SATOSHI KOJIMA\n",
      "EVIL,JUICE ROBINSON\n",
      "MINORU SUZUKI,SANADA\n",
      "KENNY OMEGA,TAMA TONGA\n",
      "KAZUCHIKA OKADA,MICHAEL ELGIN\n",
      "ZACK SABRE JR.,YOSHI-HASHI\n",
      "HIROSHI TANAHASHI,YUJI NAGATA\n",
      "BAD LUCK FALE,TETSUYA NAITO\n",
      "KOTA IBUSHI,TOMOHIRO ISHII\n",
      "TOGI MAKABE,HIROOKI GOTO\n",
      "MICHAEL ELGIN,SATOSHI KOJIMA\n",
      "EVIL,TAMA TONGA\n",
      "MINORU SUZUKI,JUICE ROBINSON\n",
      "KENNY OMEGA,TORU YANO\n",
      "KAZUCHIKA OKADA,SANADA\n",
      "TOMOHIRO ISHII,YOSHI-HASHI\n",
      "ZACK SABRE JR.,BAD LUCK FALE\n",
      "TOGI MAKABE,KOTA IBUSHI\n",
      "TETSUYA NAITO,YUJI NAGATA\n",
      "HIROSHI TANAHASHI,HIROOKI GOTO\n",
      "TAMA TONGA,JUICE ROBINSON\n",
      "SANADA,TORU YANO\n",
      "EVIL,MINORU SUZUKI\n",
      "KAZUCHIKA OKADA,SATOSHI KOJIMA\n",
      "MICHAEL ELGIN,KENNY OMEGA\n",
      "TOGI MAKABE,YUJI NAGATA\n",
      "BAD LUCK FALE,KOTA IBUSHI\n",
      "HIROOKI GOTO,ZACK SABRE JR.\n",
      "HIROSHI TANAHASHI,YOSHI-HASHI\n",
      "TOMOHIRO ISHII,TETSUYA NAITO\n",
      "EVIL,TORU YANO\n",
      "MINORU SUZUKI,TAMA TONGA\n",
      "SANADA,MICHAEL ELGIN\n",
      "KENNY OMEGA,SATOSHI KOJIMA\n",
      "KAZUCHIKA OKADA,JUICE ROBINSON\n",
      "YOSHI-HASHI,BAD LUCK FALE\n",
      "ZACK SABRE JR.,TOGI MAKABE\n",
      "TOMOHIRO ISHII,YUJI NAGATA\n",
      "TETSUYA NAITO,HIROOKI GOTO\n",
      "KOTA IBUSHI,HIROSHI TANAHASHI\n",
      "SANADA,JUICE ROBINSON\n",
      "TORU YANO,MICHAEL ELGIN\n",
      "MINORU SUZUKI,SATOSHI KOJIMA\n",
      "KAZUCHIKA OKADA,TAMA TONGA\n",
      "KENNY OMEGA,EVIL\n",
      "KOTA IBUSHI,YUJI NAGATA\n",
      "BAD LUCK FALE,TOMOHIRO ISHII\n",
      "HIROOKI GOTO,YOSHI-HASHI\n",
      "TETSUYA NAITO,ZACK SABRE JR.\n",
      "HIROSHI TANAHASHI,TOGI MAKABE\n",
      "TORU YANO,TAMA TONGA\n",
      "SATOSHI KOJIMA,SANADA\n",
      "MICHAEL ELGIN,MINORU SUZUKI\n",
      "JUICE ROBINSON,KENNY OMEGA\n",
      "EVIL,KAZUCHIKA OKADA\n",
      "YUJI NAGATA,ZACK SABRE JR.\n",
      "KOTA IBUSHI,YOSHI-HASHI\n",
      "BAD LUCK FALE,HIROOKI GOTO\n",
      "TETSUYA NAITO,TOGI MAKABE\n",
      "HIROSHI TANAHASHI,TOMOHIRO ISHII\n",
      "TAMA TONGA,SATOSHI KOJIMA\n",
      "JUICE ROBINSON,TORU YANO\n",
      "MICHAEL ELGIN,EVIL\n",
      "KENNY OMEGA,SANADA\n",
      "KAZUCHIKA OKADA,MINORU SUZUKI\n",
      "BAD LUCK FALE,YUJI NAGATA\n",
      "TOGI MAKABE,YOSHI-HASHI\n",
      "ZACK SABRE JR.,TOMOHIRO ISHII\n",
      "HIROOKI GOTO,KOTA IBUSHI\n",
      "TETSUYA NAITO,HIROSHI TANAHASHI\n",
      "JUICE ROBINSON,MICHAEL ELGIN\n",
      "TAMA TONGA,SANADA\n",
      "TORU YANO,MINORU SUZUKI\n",
      "EVIL,SATOSHI KOJIMA\n",
      "KENNY OMEGA,KAZUCHIKA OKADA\n"
     ]
    }
   ],
   "source": [
    "updateresults(B_matches,'Juice','Satoshi', '11:48',3.5) # Day 2\n",
    "updateresults(B_matches,'Tonga','Elgin', '13:46',3.25)\n",
    "updateresults(B_matches,'Sanada','Evil','15:48',4.00)\n",
    "updateresults(B_matches,'Okada','Yano', '10:31',3.25)\n",
    "updateresults(B_matches,'Omega','Suzuki','21:24',4.75)\n",
    "\n",
    "updateresults(A_matches, 'Hirooki', 'Nagata', '15:02',4.50)# Day3\n",
    "updateresults(A_matches,'ISHII', 'Togi', '15:51',4.50)\n",
    "updateresults(A_matches,'Ibushi', 'Zack', '15:51',4.50)\n",
    "updateresults(A_matches,'Tanaha', 'Fale', '11:05',3.50)\n",
    "updateresults(A_matches,'Tetsuya', 'Yoshi', '22:19',4.25)\n",
    "\n",
    "updateresults(B_matches, 'Yano', 'Kojima','09:12',1.50) # Day 4\n",
    "updateresults(B_matches, 'Evil', 'Juice','11:46',4.00)\n",
    "updateresults(B_matches, 'Suzuki', 'Sanada','11:22',3.75)\n",
    "updateresults(B_matches, 'Omega', 'Tama','11:42',3.50)\n",
    "updateresults(B_matches, 'Okada', 'Elgin','25:49',4.75)\n",
    "\n",
    "\n",
    "updateresults(A_matches, 'Zack', 'Yoshi','11:48',3.50) # Day 5\n",
    "updateresults(A_matches, 'Hiroshi', 'YUji', '14:47',4.50)\n",
    "updateresults(A_matches, 'Fale', 'Tetsuya', '11:55',2.50)\n",
    "updateresults(A_matches, 'Kota', 'Ishii', '17:14',4.50)\n",
    "updateresults(A_matches, 'Togi', 'Hirooki','16:55',4.00)\n",
    "\n",
    "updateresults(B_matches, 'Elgin', 'Kojima','13:09',3.75) # Day 6\n",
    "updateresults(B_matches, 'Evil', 'Tonga','10:27',2.75)\n",
    "updateresults(B_matches, 'Suzuki', 'Juice', '11:23',3.25)\n",
    "updateresults(B_matches, 'Omega', 'Yano', '11:31',1.00)\n",
    "updateresults(B_matches, 'Okada', 'Sanada', '20:49',4.25)\n",
    "\n",
    "\n",
    "updateresults(A_matches, 'Ishii', 'Yoshi', '15:43',3.75) #Day 7\n",
    "updateresults(A_matches, 'Zack', 'Fale', '09:02',2.50)\n",
    "updateresults(A_matches, 'Togi', 'Kota', '13:20',4.00)\n",
    "updateresults(A_matches, 'Tetsuya', 'Nagata', '15:16',4.00)\n",
    "updateresults(A_matches, 'Hiroshi', 'hirooki', '1:22',3.25)\n",
    "\n",
    "updateresults(B_matches, 'Tonga', 'Juice','10:36',2.75)# Day 8\n",
    "updateresults(B_matches, 'Sanada', 'Toru', '04:33',3.00)\n",
    "updateresults(B_matches, 'Evil', 'Suzuki', '08:38',3.50)\n",
    "updateresults(B_matches, 'Okada', 'Kojima', '15:26',4.25)\n",
    "updateresults(B_matches, 'Elgin', 'Omega', '24:39',4.75)\n",
    "\n",
    "updateresults(A_matches, 'Togi', 'Nagata', '10:45',3.50)# Day 9\n",
    "updateresults(A_matches, 'Fale', 'Kota', '11:37',3.50)\n",
    "updateresults(A_matches, 'Hirooki', 'Zack','10:10',3.50)\n",
    "updateresults(A_matches, 'Hiroshi', 'Yoshi', '13:34',3.75) \n",
    "updateresults(A_matches, 'Ishii', 'Tetsuya', '20:58',4.50)\n",
    "\n",
    "updateresults(B_matches, 'Evil', 'Yano', '01:33',0.50) # Day 10\n",
    "updateresults(B_matches, 'Suzuki', 'Tama','10:22',3.50)\n",
    "updateresults(B_matches, 'Sanada', 'Elgin', '15:06',4.00)\n",
    "updateresults(B_matches, 'Omega', 'Kojima','12:42',3.50)\n",
    "updateresults(B_matches, 'Okada', 'Juice', '20:29',3.50)\n",
    "\n",
    "updateresults(A_matches, 'Yoshi', 'Fale', '10:21',3.00)# Day 11\n",
    "updateresults(A_matches, 'Zack', 'Togi', '09:30',2.75)\n",
    "updateresults(A_matches, 'Ishii', 'Nagata', '13:51',4.50)\n",
    "updateresults(A_matches, 'Naito', 'Goto', '13:30',4.00)\n",
    "updateresults(A_matches, 'Ibushi', 'Hiroshi', '20:40',4.75) \n",
    "\n",
    "updateresults(B_matches, 'Sanada', 'Juice', '13:48',3.00) # Day 12\n",
    "updateresults(B_matches, 'Yano', 'Elgin', '02:58',1.00)\n",
    "updateresults(B_matches, 'Suzuki', 'Kojima', '10:13',3.00)\n",
    "updateresults(B_matches, 'Okada', 'Tonga','11:22',3.25)\n",
    "updateresults(B_matches, 'Omega', 'Evil','23:33',4.00)\n",
    "\n",
    "updateresults(A_matches, 'Ibushi', 'Nagata', '15:54',4.25) # Day 13\n",
    "updateresults(A_matches, 'Fale', 'ishii', '11:58',3.50)\n",
    "updateresults(A_matches, 'Goto', 'Yoshi', '11:26',3.25)\n",
    "updateresults(A_matches, 'Naito', 'Zack', '14:20',3.75)\n",
    "updateresults(A_matches, 'Tanahashi', 'Togi', '13:34',3.50)\n",
    "\n",
    "updateresults(B_matches, 'Yano', 'Tonga', '03:15',1.00) # Day 14\n",
    "updateresults(B_matches, 'Satoshi', 'Sanada', '12:09',3.50)\n",
    "updateresults(B_matches, 'Elgin', 'Suzuki', '11:13',3.00)\n",
    "updateresults(B_matches, 'Juice', 'Omega','15:36',3.75)\n",
    "updateresults(B_matches, 'Evil', 'Okada','22:47',4.25)\n",
    "\n",
    "updateresults(A_matches, 'Nagata', 'Zack', '15:08',3.50) # Day 15\n",
    "updateresults(A_matches, 'Ibushi', 'Yoshi', '14:28',3.50) \n",
    "updateresults(A_matches, 'Fale', 'Goto', '9:34',2.25)\n",
    "updateresults(A_matches, 'Naito', 'Makabe', '11:31',3.25)\n",
    "updateresults(A_matches, 'Tanahashi', 'Ishii', '23:30',4.5)\n",
    "\n",
    "updateresults(B_matches, 'Tonga', 'Koji', '10:43',2.75) # Day 16\n",
    "updateresults(B_matches, 'Juice', 'Yano', '04:25',1.50)\n",
    "updateresults(B_matches, 'Elgin', 'Evil', '11:07',4.00)\n",
    "updateresults(B_matches, 'Omega', 'Sanada','15:03',3.75)\n",
    "updateresults(B_matches, 'Okada', 'Suzuki','30:00',4.75,True)\n",
    "\n",
    "updateresults(A_matches, 'Fale', 'Nagata', '11:56',4.25) # Day 17\n",
    "updateresults(A_matches, 'Makabe', 'Yoshi', '11:28',3.50) \n",
    "updateresults(A_matches, 'Zack', 'Ishii', '15:22',4.25)\n",
    "updateresults(A_matches, 'Goto', 'Ibushi', '11:03',4.25)\n",
    "updateresults(A_matches, 'Naito', 'Tanahashi', '26:41',5.00)\n",
    "\n",
    "updateresults(B_matches, 'Juice', 'Elgin', '11:48',3.75) # Day 18\n",
    "updateresults(B_matches, 'Tonga', 'Sanada', '11:59',3.75)\n",
    "updateresults(B_matches, 'Yano', 'Suzuki', '06:56',3.00)\n",
    "updateresults(B_matches, 'Evil', 'Satoshi','14:23',4.00)\n",
    "updateresults(B_matches, 'Omega', 'Okada','24:40',6.00)"
   ]
  },
  {
   "cell_type": "markdown",
   "metadata": {},
   "source": [
    "Now that we've got some results, let's update the A block and B block tables that summarise the current standings. I was looking for the equivalent of Excel's countif and found that you can the Series.map function. In the tournamenet a win counts as 2 points, tie counts as 1(having factored this in yet) and 0 points for a loss. This can be a function I think that updates"
   ]
  },
  {
   "cell_type": "code",
   "execution_count": 56,
   "metadata": {
    "collapsed": false
   },
   "outputs": [
    {
     "data": {
      "text/html": [
       "<div>\n",
       "<table border=\"1\" class=\"dataframe\">\n",
       "  <thead>\n",
       "    <tr style=\"text-align: right;\">\n",
       "      <th></th>\n",
       "      <th>Wrestler</th>\n",
       "      <th>Matches</th>\n",
       "      <th>Wins</th>\n",
       "      <th>Losses</th>\n",
       "      <th>Draws</th>\n",
       "      <th>Points</th>\n",
       "      <th>Match_Time</th>\n",
       "      <th>DMR</th>\n",
       "    </tr>\n",
       "  </thead>\n",
       "  <tbody>\n",
       "    <tr>\n",
       "      <th>0</th>\n",
       "      <td>TETSUYA NAITO</td>\n",
       "      <td>9</td>\n",
       "      <td>7</td>\n",
       "      <td>2</td>\n",
       "      <td>0</td>\n",
       "      <td>14</td>\n",
       "      <td>0.0</td>\n",
       "      <td>4.000000</td>\n",
       "    </tr>\n",
       "    <tr>\n",
       "      <th>1</th>\n",
       "      <td>HIROSHI TANAHASHI</td>\n",
       "      <td>9</td>\n",
       "      <td>6</td>\n",
       "      <td>3</td>\n",
       "      <td>0</td>\n",
       "      <td>12</td>\n",
       "      <td>0.0</td>\n",
       "      <td>4.111111</td>\n",
       "    </tr>\n",
       "    <tr>\n",
       "      <th>2</th>\n",
       "      <td>BAD LUCK FALE</td>\n",
       "      <td>9</td>\n",
       "      <td>6</td>\n",
       "      <td>3</td>\n",
       "      <td>0</td>\n",
       "      <td>12</td>\n",
       "      <td>0.0</td>\n",
       "      <td>3.166667</td>\n",
       "    </tr>\n",
       "    <tr>\n",
       "      <th>3</th>\n",
       "      <td>HIROOKI GOTO</td>\n",
       "      <td>9</td>\n",
       "      <td>5</td>\n",
       "      <td>4</td>\n",
       "      <td>0</td>\n",
       "      <td>10</td>\n",
       "      <td>0.0</td>\n",
       "      <td>3.694444</td>\n",
       "    </tr>\n",
       "    <tr>\n",
       "      <th>4</th>\n",
       "      <td>ZACK SABRE JR.</td>\n",
       "      <td>9</td>\n",
       "      <td>5</td>\n",
       "      <td>4</td>\n",
       "      <td>0</td>\n",
       "      <td>10</td>\n",
       "      <td>0.0</td>\n",
       "      <td>3.611111</td>\n",
       "    </tr>\n",
       "    <tr>\n",
       "      <th>5</th>\n",
       "      <td>KOTA IBUSHI</td>\n",
       "      <td>9</td>\n",
       "      <td>5</td>\n",
       "      <td>4</td>\n",
       "      <td>0</td>\n",
       "      <td>10</td>\n",
       "      <td>0.0</td>\n",
       "      <td>4.222222</td>\n",
       "    </tr>\n",
       "    <tr>\n",
       "      <th>6</th>\n",
       "      <td>TOGI MAKABE</td>\n",
       "      <td>9</td>\n",
       "      <td>4</td>\n",
       "      <td>5</td>\n",
       "      <td>0</td>\n",
       "      <td>8</td>\n",
       "      <td>0.0</td>\n",
       "      <td>3.611111</td>\n",
       "    </tr>\n",
       "    <tr>\n",
       "      <th>7</th>\n",
       "      <td>TOMOHIRO ISHII</td>\n",
       "      <td>9</td>\n",
       "      <td>4</td>\n",
       "      <td>5</td>\n",
       "      <td>0</td>\n",
       "      <td>8</td>\n",
       "      <td>0.0</td>\n",
       "      <td>4.250000</td>\n",
       "    </tr>\n",
       "    <tr>\n",
       "      <th>8</th>\n",
       "      <td>YOSHI-HASHI</td>\n",
       "      <td>9</td>\n",
       "      <td>2</td>\n",
       "      <td>7</td>\n",
       "      <td>0</td>\n",
       "      <td>4</td>\n",
       "      <td>0.0</td>\n",
       "      <td>3.638889</td>\n",
       "    </tr>\n",
       "    <tr>\n",
       "      <th>9</th>\n",
       "      <td>YUJI NAGATA</td>\n",
       "      <td>9</td>\n",
       "      <td>1</td>\n",
       "      <td>8</td>\n",
       "      <td>0</td>\n",
       "      <td>2</td>\n",
       "      <td>0.0</td>\n",
       "      <td>4.138889</td>\n",
       "    </tr>\n",
       "  </tbody>\n",
       "</table>\n",
       "</div>"
      ],
      "text/plain": [
       "            Wrestler  Matches  Wins  Losses  Draws  Points  Match_Time  \\\n",
       "0      TETSUYA NAITO        9     7       2      0      14         0.0   \n",
       "1  HIROSHI TANAHASHI        9     6       3      0      12         0.0   \n",
       "2      BAD LUCK FALE        9     6       3      0      12         0.0   \n",
       "3       HIROOKI GOTO        9     5       4      0      10         0.0   \n",
       "4     ZACK SABRE JR.        9     5       4      0      10         0.0   \n",
       "5        KOTA IBUSHI        9     5       4      0      10         0.0   \n",
       "6        TOGI MAKABE        9     4       5      0       8         0.0   \n",
       "7     TOMOHIRO ISHII        9     4       5      0       8         0.0   \n",
       "8        YOSHI-HASHI        9     2       7      0       4         0.0   \n",
       "9        YUJI NAGATA        9     1       8      0       2         0.0   \n",
       "\n",
       "        DMR  \n",
       "0  4.000000  \n",
       "1  4.111111  \n",
       "2  3.166667  \n",
       "3  3.694444  \n",
       "4  3.611111  \n",
       "5  4.222222  \n",
       "6  3.611111  \n",
       "7  4.250000  \n",
       "8  3.638889  \n",
       "9  4.138889  "
      ]
     },
     "execution_count": 56,
     "metadata": {},
     "output_type": "execute_result"
    }
   ],
   "source": [
    "A_Block"
   ]
  },
  {
   "cell_type": "code",
   "execution_count": 57,
   "metadata": {
    "collapsed": false,
    "scrolled": true
   },
   "outputs": [
    {
     "data": {
      "text/html": [
       "<div>\n",
       "<table border=\"1\" class=\"dataframe\">\n",
       "  <thead>\n",
       "    <tr style=\"text-align: right;\">\n",
       "      <th></th>\n",
       "      <th>Wrestler</th>\n",
       "      <th>Matches</th>\n",
       "      <th>Wins</th>\n",
       "      <th>Losses</th>\n",
       "      <th>Draws</th>\n",
       "      <th>Points</th>\n",
       "      <th>Match_Time</th>\n",
       "      <th>DMR</th>\n",
       "    </tr>\n",
       "  </thead>\n",
       "  <tbody>\n",
       "    <tr>\n",
       "      <th>0</th>\n",
       "      <td>KENNY OMEGA</td>\n",
       "      <td>9</td>\n",
       "      <td>7</td>\n",
       "      <td>2</td>\n",
       "      <td>0</td>\n",
       "      <td>14</td>\n",
       "      <td>0.0</td>\n",
       "      <td>3.888889</td>\n",
       "    </tr>\n",
       "    <tr>\n",
       "      <th>1</th>\n",
       "      <td>KAZUCHIKA OKADA</td>\n",
       "      <td>9</td>\n",
       "      <td>6</td>\n",
       "      <td>2</td>\n",
       "      <td>1</td>\n",
       "      <td>13</td>\n",
       "      <td>0.0</td>\n",
       "      <td>4.250000</td>\n",
       "    </tr>\n",
       "    <tr>\n",
       "      <th>2</th>\n",
       "      <td>EVIL</td>\n",
       "      <td>9</td>\n",
       "      <td>6</td>\n",
       "      <td>3</td>\n",
       "      <td>0</td>\n",
       "      <td>12</td>\n",
       "      <td>0.0</td>\n",
       "      <td>3.444444</td>\n",
       "    </tr>\n",
       "    <tr>\n",
       "      <th>3</th>\n",
       "      <td>MINORU SUZUKI</td>\n",
       "      <td>9</td>\n",
       "      <td>4</td>\n",
       "      <td>4</td>\n",
       "      <td>1</td>\n",
       "      <td>9</td>\n",
       "      <td>0.0</td>\n",
       "      <td>3.611111</td>\n",
       "    </tr>\n",
       "    <tr>\n",
       "      <th>4</th>\n",
       "      <td>TORU YANO</td>\n",
       "      <td>9</td>\n",
       "      <td>4</td>\n",
       "      <td>5</td>\n",
       "      <td>0</td>\n",
       "      <td>8</td>\n",
       "      <td>0.0</td>\n",
       "      <td>1.750000</td>\n",
       "    </tr>\n",
       "    <tr>\n",
       "      <th>5</th>\n",
       "      <td>MICHAEL ELGIN</td>\n",
       "      <td>9</td>\n",
       "      <td>4</td>\n",
       "      <td>5</td>\n",
       "      <td>0</td>\n",
       "      <td>8</td>\n",
       "      <td>0.0</td>\n",
       "      <td>3.583333</td>\n",
       "    </tr>\n",
       "    <tr>\n",
       "      <th>6</th>\n",
       "      <td>JUICE ROBINSON</td>\n",
       "      <td>9</td>\n",
       "      <td>4</td>\n",
       "      <td>5</td>\n",
       "      <td>0</td>\n",
       "      <td>8</td>\n",
       "      <td>0.0</td>\n",
       "      <td>3.222222</td>\n",
       "    </tr>\n",
       "    <tr>\n",
       "      <th>7</th>\n",
       "      <td>TAMA TONGA</td>\n",
       "      <td>9</td>\n",
       "      <td>4</td>\n",
       "      <td>5</td>\n",
       "      <td>0</td>\n",
       "      <td>8</td>\n",
       "      <td>0.0</td>\n",
       "      <td>2.944444</td>\n",
       "    </tr>\n",
       "    <tr>\n",
       "      <th>8</th>\n",
       "      <td>SANADA</td>\n",
       "      <td>9</td>\n",
       "      <td>4</td>\n",
       "      <td>5</td>\n",
       "      <td>0</td>\n",
       "      <td>8</td>\n",
       "      <td>0.0</td>\n",
       "      <td>3.666667</td>\n",
       "    </tr>\n",
       "    <tr>\n",
       "      <th>9</th>\n",
       "      <td>SATOSHI KOJIMA</td>\n",
       "      <td>9</td>\n",
       "      <td>1</td>\n",
       "      <td>8</td>\n",
       "      <td>0</td>\n",
       "      <td>2</td>\n",
       "      <td>0.0</td>\n",
       "      <td>3.305556</td>\n",
       "    </tr>\n",
       "  </tbody>\n",
       "</table>\n",
       "</div>"
      ],
      "text/plain": [
       "          Wrestler  Matches  Wins  Losses  Draws  Points  Match_Time       DMR\n",
       "0      KENNY OMEGA        9     7       2      0      14         0.0  3.888889\n",
       "1  KAZUCHIKA OKADA        9     6       2      1      13         0.0  4.250000\n",
       "2             EVIL        9     6       3      0      12         0.0  3.444444\n",
       "3    MINORU SUZUKI        9     4       4      1       9         0.0  3.611111\n",
       "4        TORU YANO        9     4       5      0       8         0.0  1.750000\n",
       "5    MICHAEL ELGIN        9     4       5      0       8         0.0  3.583333\n",
       "6   JUICE ROBINSON        9     4       5      0       8         0.0  3.222222\n",
       "7       TAMA TONGA        9     4       5      0       8         0.0  2.944444\n",
       "8           SANADA        9     4       5      0       8         0.0  3.666667\n",
       "9   SATOSHI KOJIMA        9     1       8      0       2         0.0  3.305556"
      ]
     },
     "execution_count": 57,
     "metadata": {},
     "output_type": "execute_result"
    }
   ],
   "source": [
    "B_Block"
   ]
  },
  {
   "cell_type": "markdown",
   "metadata": {},
   "source": [
    "Let's have a look at the standing in graph form"
   ]
  },
  {
   "cell_type": "code",
   "execution_count": 28,
   "metadata": {
    "collapsed": false,
    "scrolled": false
   },
   "outputs": [
    {
     "data": {
      "image/png": "[encoded data removed]",
      "text/plain": [
       "<matplotlib.figure.Figure at 0x2044711c128>"
      ]
     },
     "metadata": {},
     "output_type": "display_data"
    },
    {
     "data": {
      "image/png": "[encoded data removed]",
      "text/plain": [
       "<matplotlib.figure.Figure at 0x2044a58ad68>"
      ]
     },
     "metadata": {},
     "output_type": "display_data"
    }
   ],
   "source": [
    "\n",
    "ax= sns.barplot(y='Wrestler', x='Points', data=A_Block, color= 'Red')\n",
    "ax.set_xlim(0,18)\n",
    "sns.despine()\n",
    "ax.set_ylabel('')\n",
    "ax.set_xlabel('points')\n",
    "ax.set_title('A Block')\n",
    "plt.show()\n",
    "ax= sns.barplot(y='Wrestler', x='Points', data=B_Block,  color= 'Blue')\n",
    "ax.set_xlim(0,18)\n",
    "sns.despine()\n",
    "ax.set_ylabel('') \n",
    "ax.set_xlabel('points')\n",
    "ax.set_title('B Block')\n",
    "plt.show()"
   ]
  },
  {
   "cell_type": "code",
   "execution_count": 69,
   "metadata": {
    "collapsed": false
   },
   "outputs": [
    {
     "name": "stdout",
     "output_type": "stream",
     "text": [
      "High five! You successfully sent some data to your account on plotly. View your plot in your browser at https://plot.ly/~Shan1987/0 or inside your plot.ly account where it is named 'basic-bar'\n"
     ]
    },
    {
     "data": {
      "text/html": [
       "<iframe id=\"igraph\" scrolling=\"no\" style=\"border:none;\" seamless=\"seamless\" src=\"https://plot.ly/~Shan1987/0.embed\" height=\"525px\" width=\"100%\"></iframe>"
      ],
      "text/plain": [
       "<plotly.tools.PlotlyDisplay object>"
      ]
     },
     "execution_count": 69,
     "metadata": {},
     "output_type": "execute_result"
    }
   ],
   "source": [
    "data = [go.Bar(\n",
    "            x=A_Block['Wrestler'],\n",
    "            y=A_Block['DMR']\n",
    "    )]\n",
    "\n",
    "py.iplot(data, filename='G1 ratings')"
   ]
  },
  {
   "cell_type": "code",
   "execution_count": 62,
   "metadata": {
    "collapsed": false
   },
   "outputs": [
    {
     "data": {
      "text/plain": [
       "'2.0.16'"
      ]
     },
     "execution_count": 62,
     "metadata": {},
     "output_type": "execute_result"
    }
   ],
   "source": [
    "import plotly\n",
    "plotly.__version__"
   ]
  },
  {
   "cell_type": "code",
   "execution_count": 66,
   "metadata": {
    "collapsed": false
   },
   "outputs": [
    {
     "name": "stdout",
     "output_type": "stream",
     "text": [
      "Aw, snap! We don't have an account for ''. Want to try again? You can authenticate with your email address or username. Sign in is not case sensitive.\n",
      "\n",
      "Don't have an account? plot.ly\n",
      "\n",
      "Questions? support@plot.ly\n"
     ]
    },
    {
     "ename": "PlotlyError",
     "evalue": "Because you didn't supply a 'file_id' in the call, we're assuming you're trying to snag a figure from a url. You supplied the url, '', we expected it to start with 'https://plot.ly'.\nRun help on this function for more information.",
     "output_type": "error",
     "traceback": [
      "\u001b[0;31m---------------------------------------------------------------------------\u001b[0m",
      "\u001b[0;31mPlotlyError\u001b[0m                               Traceback (most recent call last)",
      "\u001b[0;32m<ipython-input-66-2e57357a991c>\u001b[0m in \u001b[0;36m<module>\u001b[0;34m()\u001b[0m\n\u001b[1;32m      2\u001b[0m \u001b[1;33m\u001b[0m\u001b[0m\n\u001b[1;32m      3\u001b[0m \u001b[0mtable\u001b[0m \u001b[1;33m=\u001b[0m \u001b[0mff\u001b[0m\u001b[1;33m.\u001b[0m\u001b[0mcreate_table\u001b[0m\u001b[1;33m(\u001b[0m\u001b[0mdf\u001b[0m\u001b[1;33m)\u001b[0m\u001b[1;33m\u001b[0m\u001b[0m\n\u001b[0;32m----> 4\u001b[0;31m \u001b[0mpy\u001b[0m\u001b[1;33m.\u001b[0m\u001b[0miplot\u001b[0m\u001b[1;33m(\u001b[0m\u001b[0mtable\u001b[0m\u001b[1;33m,\u001b[0m \u001b[0mfilename\u001b[0m\u001b[1;33m=\u001b[0m\u001b[1;34m'jupyter/table1'\u001b[0m\u001b[1;33m)\u001b[0m\u001b[1;33m\u001b[0m\u001b[0m\n\u001b[0m",
      "\u001b[0;32mC:\\Users\\shahnur islam\\AppData\\Local\\Continuum\\Anaconda3\\lib\\site-packages\\plotly\\plotly\\plotly.py\u001b[0m in \u001b[0;36miplot\u001b[0;34m(figure_or_data, **plot_options)\u001b[0m\n\u001b[1;32m    157\u001b[0m         \u001b[0membed_options\u001b[0m\u001b[1;33m[\u001b[0m\u001b[1;34m'height'\u001b[0m\u001b[1;33m]\u001b[0m \u001b[1;33m=\u001b[0m \u001b[0mstr\u001b[0m\u001b[1;33m(\u001b[0m\u001b[0membed_options\u001b[0m\u001b[1;33m[\u001b[0m\u001b[1;34m'height'\u001b[0m\u001b[1;33m]\u001b[0m\u001b[1;33m)\u001b[0m \u001b[1;33m+\u001b[0m \u001b[1;34m'px'\u001b[0m\u001b[1;33m\u001b[0m\u001b[0m\n\u001b[1;32m    158\u001b[0m \u001b[1;33m\u001b[0m\u001b[0m\n\u001b[0;32m--> 159\u001b[0;31m     \u001b[1;32mreturn\u001b[0m \u001b[0mtools\u001b[0m\u001b[1;33m.\u001b[0m\u001b[0membed\u001b[0m\u001b[1;33m(\u001b[0m\u001b[0murl\u001b[0m\u001b[1;33m,\u001b[0m \u001b[1;33m**\u001b[0m\u001b[0membed_options\u001b[0m\u001b[1;33m)\u001b[0m\u001b[1;33m\u001b[0m\u001b[0m\n\u001b[0m\u001b[1;32m    160\u001b[0m \u001b[1;33m\u001b[0m\u001b[0m\n\u001b[1;32m    161\u001b[0m \u001b[1;33m\u001b[0m\u001b[0m\n",
      "\u001b[0;32mC:\\Users\\shahnur islam\\AppData\\Local\\Continuum\\Anaconda3\\lib\\site-packages\\plotly\\tools.py\u001b[0m in \u001b[0;36membed\u001b[0;34m(file_owner_or_url, file_id, width, height)\u001b[0m\n\u001b[1;32m    388\u001b[0m         \u001b[1;32melse\u001b[0m\u001b[1;33m:\u001b[0m\u001b[1;33m\u001b[0m\u001b[0m\n\u001b[1;32m    389\u001b[0m             \u001b[0murl\u001b[0m \u001b[1;33m=\u001b[0m \u001b[0mfile_owner_or_url\u001b[0m\u001b[1;33m\u001b[0m\u001b[0m\n\u001b[0;32m--> 390\u001b[0;31m         \u001b[1;32mreturn\u001b[0m \u001b[0mPlotlyDisplay\u001b[0m\u001b[1;33m(\u001b[0m\u001b[0murl\u001b[0m\u001b[1;33m,\u001b[0m \u001b[0mwidth\u001b[0m\u001b[1;33m,\u001b[0m \u001b[0mheight\u001b[0m\u001b[1;33m)\u001b[0m\u001b[1;33m\u001b[0m\u001b[0m\n\u001b[0m\u001b[1;32m    391\u001b[0m     \u001b[1;32melse\u001b[0m\u001b[1;33m:\u001b[0m\u001b[1;33m\u001b[0m\u001b[0m\n\u001b[1;32m    392\u001b[0m         if (get_config_defaults()['plotly_domain']\n",
      "\u001b[0;32mC:\\Users\\shahnur islam\\AppData\\Local\\Continuum\\Anaconda3\\lib\\site-packages\\plotly\\tools.py\u001b[0m in \u001b[0;36m__init__\u001b[0;34m(self, url, width, height)\u001b[0m\n\u001b[1;32m   1363\u001b[0m         \u001b[1;32mdef\u001b[0m \u001b[0m__init__\u001b[0m\u001b[1;33m(\u001b[0m\u001b[0mself\u001b[0m\u001b[1;33m,\u001b[0m \u001b[0murl\u001b[0m\u001b[1;33m,\u001b[0m \u001b[0mwidth\u001b[0m\u001b[1;33m,\u001b[0m \u001b[0mheight\u001b[0m\u001b[1;33m)\u001b[0m\u001b[1;33m:\u001b[0m\u001b[1;33m\u001b[0m\u001b[0m\n\u001b[1;32m   1364\u001b[0m             \u001b[0mself\u001b[0m\u001b[1;33m.\u001b[0m\u001b[0mresource\u001b[0m \u001b[1;33m=\u001b[0m \u001b[0murl\u001b[0m\u001b[1;33m\u001b[0m\u001b[0m\n\u001b[0;32m-> 1365\u001b[0;31m             \u001b[0mself\u001b[0m\u001b[1;33m.\u001b[0m\u001b[0membed_code\u001b[0m \u001b[1;33m=\u001b[0m \u001b[0mget_embed\u001b[0m\u001b[1;33m(\u001b[0m\u001b[0murl\u001b[0m\u001b[1;33m,\u001b[0m \u001b[0mwidth\u001b[0m\u001b[1;33m=\u001b[0m\u001b[0mwidth\u001b[0m\u001b[1;33m,\u001b[0m \u001b[0mheight\u001b[0m\u001b[1;33m=\u001b[0m\u001b[0mheight\u001b[0m\u001b[1;33m)\u001b[0m\u001b[1;33m\u001b[0m\u001b[0m\n\u001b[0m\u001b[1;32m   1366\u001b[0m             \u001b[0msuper\u001b[0m\u001b[1;33m(\u001b[0m\u001b[0mPlotlyDisplay\u001b[0m\u001b[1;33m,\u001b[0m \u001b[0mself\u001b[0m\u001b[1;33m)\u001b[0m\u001b[1;33m.\u001b[0m\u001b[0m__init__\u001b[0m\u001b[1;33m(\u001b[0m\u001b[0mdata\u001b[0m\u001b[1;33m=\u001b[0m\u001b[0mself\u001b[0m\u001b[1;33m.\u001b[0m\u001b[0membed_code\u001b[0m\u001b[1;33m)\u001b[0m\u001b[1;33m\u001b[0m\u001b[0m\n\u001b[1;32m   1367\u001b[0m \u001b[1;33m\u001b[0m\u001b[0m\n",
      "\u001b[0;32mC:\\Users\\shahnur islam\\AppData\\Local\\Continuum\\Anaconda3\\lib\\site-packages\\plotly\\tools.py\u001b[0m in \u001b[0;36mget_embed\u001b[0;34m(file_owner_or_url, file_id, width, height)\u001b[0m\n\u001b[1;32m    293\u001b[0m                 \u001b[1;34m\"'{1}'.\"\u001b[0m\u001b[1;33m\u001b[0m\u001b[0m\n\u001b[1;32m    294\u001b[0m                 \u001b[1;34m\"\\nRun help on this function for more information.\"\u001b[0m\u001b[1;33m\u001b[0m\u001b[0m\n\u001b[0;32m--> 295\u001b[0;31m                 \"\".format(url, plotly_rest_url))\n\u001b[0m\u001b[1;32m    296\u001b[0m         \u001b[0murlsplit\u001b[0m \u001b[1;33m=\u001b[0m \u001b[0msix\u001b[0m\u001b[1;33m.\u001b[0m\u001b[0mmoves\u001b[0m\u001b[1;33m.\u001b[0m\u001b[0murllib\u001b[0m\u001b[1;33m.\u001b[0m\u001b[0mparse\u001b[0m\u001b[1;33m.\u001b[0m\u001b[0murlparse\u001b[0m\u001b[1;33m(\u001b[0m\u001b[0murl\u001b[0m\u001b[1;33m)\u001b[0m\u001b[1;33m\u001b[0m\u001b[0m\n\u001b[1;32m    297\u001b[0m         \u001b[0mfile_owner\u001b[0m \u001b[1;33m=\u001b[0m \u001b[0murlsplit\u001b[0m\u001b[1;33m.\u001b[0m\u001b[0mpath\u001b[0m\u001b[1;33m.\u001b[0m\u001b[0msplit\u001b[0m\u001b[1;33m(\u001b[0m\u001b[1;34m'/'\u001b[0m\u001b[1;33m)\u001b[0m\u001b[1;33m[\u001b[0m\u001b[1;36m1\u001b[0m\u001b[1;33m]\u001b[0m\u001b[1;33m.\u001b[0m\u001b[0msplit\u001b[0m\u001b[1;33m(\u001b[0m\u001b[1;34m'~'\u001b[0m\u001b[1;33m)\u001b[0m\u001b[1;33m[\u001b[0m\u001b[1;36m1\u001b[0m\u001b[1;33m]\u001b[0m\u001b[1;33m\u001b[0m\u001b[0m\n",
      "\u001b[0;31mPlotlyError\u001b[0m: Because you didn't supply a 'file_id' in the call, we're assuming you're trying to snag a figure from a url. You supplied the url, '', we expected it to start with 'https://plot.ly'.\nRun help on this function for more information."
     ]
    }
   ],
   "source": [
    "df = pd.read_csv(\"https://raw.githubusercontent.com/plotly/datasets/master/school_earnings.csv\")\n",
    "\n",
    "table = ff.create_table(df)\n",
    "py.iplot(table, filename='jupyter/table1')"
   ]
  },
  {
   "cell_type": "code",
   "execution_count": 65,
   "metadata": {
    "collapsed": true
   },
   "outputs": [],
   "source": [
    "import plotly.figure_factory as ff"
   ]
  },
  {
   "cell_type": "code",
   "execution_count": 67,
   "metadata": {
    "collapsed": true
   },
   "outputs": [],
   "source": [
    "plotly.tools.set_credentials_file(username='Shan1987', api_key='F9FbuYKZIo2bGIo5C3LU')"
   ]
  },
  {
   "cell_type": "code",
   "execution_count": null,
   "metadata": {
    "collapsed": true
   },
   "outputs": [],
   "source": []
  }
 ],
 "metadata": {
  "anaconda-cloud": {},
  "kernelspec": {
   "display_name": "Python [default]",
   "language": "python",
   "name": "python3"
  },
  "language_info": {
   "codemirror_mode": {
    "name": "ipython",
    "version": 3
   },
   "file_extension": ".py",
   "mimetype": "text/x-python",
   "name": "python",
   "nbconvert_exporter": "python",
   "pygments_lexer": "ipython3",
   "version": "3.5.2"
  }
 },
 "nbformat": 4,
 "nbformat_minor": 1
}
