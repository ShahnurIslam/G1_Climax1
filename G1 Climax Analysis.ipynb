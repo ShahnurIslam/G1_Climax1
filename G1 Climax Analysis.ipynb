{
 "cells": [
  {
   "cell_type": "markdown",
   "metadata": {},
   "source": [
    "The G1 Climax is an annual Japanase wrestling tournament that's held every summer over 20 days. Rather than a simple knockout tournament it's a league made up two blocks each consisting of 20 wrestlers. The winner of each block then face off and the winner goes to headline wrestle kingdom in January"
   ]
  },
  {
   "cell_type": "markdown",
   "metadata": {},
   "source": [
    "Let's start off with importing all the relevant libraries which will be updated as we go"
   ]
  },
  {
   "cell_type": "code",
   "execution_count": 3,
   "metadata": {
    "collapsed": true
   },
   "outputs": [],
   "source": [
    "import pandas as pd\n",
    "import math\n",
    "import numpy as np\n",
    "import itertools\n",
    "import matplotlib.pyplot as plt\n",
    "import seaborn as sns\n",
    "pd.options.display.float_format = '{:,.0f}'.format\n",
    "sns.set_style('white')"
   ]
  },
  {
   "cell_type": "markdown",
   "metadata": {},
   "source": [
    "Read the csv file with the block names"
   ]
  },
  {
   "cell_type": "code",
   "execution_count": 4,
   "metadata": {
    "collapsed": true
   },
   "outputs": [],
   "source": [
    "df = pd.read_csv(\"G1 Competitors.csv\")"
   ]
  },
  {
   "cell_type": "code",
   "execution_count": 5,
   "metadata": {
    "collapsed": false,
    "scrolled": false
   },
   "outputs": [
    {
     "name": "stdout",
     "output_type": "stream",
     "text": [
      "<class 'pandas.core.frame.DataFrame'>\n",
      "RangeIndex: 10 entries, 0 to 9\n",
      "Data columns (total 2 columns):\n",
      "A Block    10 non-null object\n",
      "B Block    10 non-null object\n",
      "dtypes: object(2)\n",
      "memory usage: 240.0+ bytes\n"
     ]
    }
   ],
   "source": [
    "df.info()"
   ]
  },
  {
   "cell_type": "markdown",
   "metadata": {},
   "source": [
    "Only 10 entries with No null objects which is good to see, we can see what the whole dataframe looks like. Of course if we had more rows we wouldn't be able to do this."
   ]
  },
  {
   "cell_type": "code",
   "execution_count": 6,
   "metadata": {
    "collapsed": false,
    "scrolled": false
   },
   "outputs": [
    {
     "data": {
      "text/html": [
       "<div>\n",
       "<table border=\"1\" class=\"dataframe\">\n",
       "  <thead>\n",
       "    <tr style=\"text-align: right;\">\n",
       "      <th></th>\n",
       "      <th>A Block</th>\n",
       "      <th>B Block</th>\n",
       "    </tr>\n",
       "  </thead>\n",
       "  <tbody>\n",
       "    <tr>\n",
       "      <th>0</th>\n",
       "      <td>Hiroshi Tanahashi</td>\n",
       "      <td>Kazuchika Okada</td>\n",
       "    </tr>\n",
       "    <tr>\n",
       "      <th>1</th>\n",
       "      <td>Togi Makabe</td>\n",
       "      <td>Toru Yano</td>\n",
       "    </tr>\n",
       "    <tr>\n",
       "      <th>2</th>\n",
       "      <td>Tomohiro Ishii</td>\n",
       "      <td>Satoshi Kojima</td>\n",
       "    </tr>\n",
       "    <tr>\n",
       "      <th>3</th>\n",
       "      <td>Hirooki Goto</td>\n",
       "      <td>Michael Elgin</td>\n",
       "    </tr>\n",
       "    <tr>\n",
       "      <th>4</th>\n",
       "      <td>YOSHI-HASHI</td>\n",
       "      <td>Juice Robinson</td>\n",
       "    </tr>\n",
       "    <tr>\n",
       "      <th>5</th>\n",
       "      <td>Bad Luck Fale</td>\n",
       "      <td>Tama Tonga</td>\n",
       "    </tr>\n",
       "    <tr>\n",
       "      <th>6</th>\n",
       "      <td>Yuji Nagata</td>\n",
       "      <td>SANADA</td>\n",
       "    </tr>\n",
       "    <tr>\n",
       "      <th>7</th>\n",
       "      <td>Zack Sabre Jr.</td>\n",
       "      <td>EVIL</td>\n",
       "    </tr>\n",
       "    <tr>\n",
       "      <th>8</th>\n",
       "      <td>Kota Ibushi</td>\n",
       "      <td>Minoru Suzuki</td>\n",
       "    </tr>\n",
       "    <tr>\n",
       "      <th>9</th>\n",
       "      <td>Tetsuya Naito</td>\n",
       "      <td>Kenny Omega</td>\n",
       "    </tr>\n",
       "  </tbody>\n",
       "</table>\n",
       "</div>"
      ],
      "text/plain": [
       "             A Block          B Block\n",
       "0  Hiroshi Tanahashi  Kazuchika Okada\n",
       "1        Togi Makabe        Toru Yano\n",
       "2     Tomohiro Ishii   Satoshi Kojima\n",
       "3       Hirooki Goto    Michael Elgin\n",
       "4        YOSHI-HASHI   Juice Robinson\n",
       "5      Bad Luck Fale       Tama Tonga\n",
       "6        Yuji Nagata           SANADA\n",
       "7     Zack Sabre Jr.             EVIL\n",
       "8        Kota Ibushi    Minoru Suzuki\n",
       "9      Tetsuya Naito      Kenny Omega"
      ]
     },
     "execution_count": 6,
     "metadata": {},
     "output_type": "execute_result"
    }
   ],
   "source": [
    "df"
   ]
  },
  {
   "cell_type": "markdown",
   "metadata": {},
   "source": [
    "Some of the wrestler's name have capitals while others don't, let's seperate these into two blocks and make sure we convert all strings to uppercase"
   ]
  },
  {
   "cell_type": "code",
   "execution_count": 7,
   "metadata": {
    "collapsed": true
   },
   "outputs": [],
   "source": [
    "A_Block = pd.DataFrame(df['A Block'].str.upper())\n",
    "A_Block.columns = ['Wrestler']\n",
    "B_Block = pd.DataFrame(df['B Block'].str.upper())\n",
    "B_Block.columns = ['Wrestler']"
   ]
  },
  {
   "cell_type": "code",
   "execution_count": 8,
   "metadata": {
    "collapsed": true
   },
   "outputs": [],
   "source": [
    "A_Block['Matches'] = np.NAN\n",
    "A_Block['Wins'] = np.NAN\n",
    "A_Block['Losses'] = np.NAN\n",
    "A_Block['Points'] = np.NAN\n",
    "B_Block['Matches'] = np.NAN\n",
    "B_Block['Wins'] = np.NAN\n",
    "B_Block['Losses'] = np.NAN\n",
    "B_Block['Points'] = np.NAN\n",
    "\n"
   ]
  },
  {
   "cell_type": "markdown",
   "metadata": {},
   "source": [
    "How many potential matches per block?\n",
    "Using the old perpmuations formula"
   ]
  },
  {
   "cell_type": "code",
   "execution_count": 9,
   "metadata": {
    "collapsed": false
   },
   "outputs": [
    {
     "data": {
      "text/plain": [
       "45.0"
      ]
     },
     "execution_count": 9,
     "metadata": {},
     "output_type": "execute_result"
    }
   ],
   "source": [
    "math.factorial(10)/(math.factorial(2)*math.factorial(10-2))"
   ]
  },
  {
   "cell_type": "markdown",
   "metadata": {},
   "source": [
    "Ok there are 45 possible matches, I was going to write a custom function to list all these out but the python community is so large someone has already done what you need. Luckily they have and it comes from the library itertools. We use the function combinations as we're looking for all unique combinations and not permutations. The combination takes a list so we can't simply pass in the data frame and need to select the Wrestler column as a series. W"
   ]
  },
  {
   "cell_type": "code",
   "execution_count": 10,
   "metadata": {
    "collapsed": true
   },
   "outputs": [],
   "source": [
    "A_matches = pd.DataFrame.from_records(list(itertools.combinations(A_Block['Wrestler'],2)), columns = ['Wrestler 1', 'Wrestler 2'])\n",
    "B_matches = pd.DataFrame.from_records(list(itertools.combinations(B_Block['Wrestler'],2)), columns = ['Wrestler 1', 'Wrestler 2'])\n",
    "A_matches['Winner'] = np.NAN\n",
    "B_matches['Winner'] = np.NAN\n",
    "A_matches['Loser'] = np.NAN\n",
    "B_matches['Loser'] = np.NAN\n",
    "A_matches['Match'] = 1\n",
    "B_matches['Match'] = 1"
   ]
  },
  {
   "cell_type": "code",
   "execution_count": 11,
   "metadata": {
    "collapsed": false,
    "scrolled": false
   },
   "outputs": [
    {
     "data": {
      "text/html": [
       "<div>\n",
       "<table border=\"1\" class=\"dataframe\">\n",
       "  <thead>\n",
       "    <tr style=\"text-align: right;\">\n",
       "      <th></th>\n",
       "      <th>Wrestler 1</th>\n",
       "      <th>Wrestler 2</th>\n",
       "      <th>Winner</th>\n",
       "      <th>Loser</th>\n",
       "      <th>Match</th>\n",
       "    </tr>\n",
       "  </thead>\n",
       "  <tbody>\n",
       "    <tr>\n",
       "      <th>0</th>\n",
       "      <td>HIROSHI TANAHASHI</td>\n",
       "      <td>TOGI MAKABE</td>\n",
       "      <td>nan</td>\n",
       "      <td>nan</td>\n",
       "      <td>1</td>\n",
       "    </tr>\n",
       "    <tr>\n",
       "      <th>1</th>\n",
       "      <td>HIROSHI TANAHASHI</td>\n",
       "      <td>TOMOHIRO ISHII</td>\n",
       "      <td>nan</td>\n",
       "      <td>nan</td>\n",
       "      <td>1</td>\n",
       "    </tr>\n",
       "    <tr>\n",
       "      <th>2</th>\n",
       "      <td>HIROSHI TANAHASHI</td>\n",
       "      <td>HIROOKI GOTO</td>\n",
       "      <td>nan</td>\n",
       "      <td>nan</td>\n",
       "      <td>1</td>\n",
       "    </tr>\n",
       "    <tr>\n",
       "      <th>3</th>\n",
       "      <td>HIROSHI TANAHASHI</td>\n",
       "      <td>YOSHI-HASHI</td>\n",
       "      <td>nan</td>\n",
       "      <td>nan</td>\n",
       "      <td>1</td>\n",
       "    </tr>\n",
       "    <tr>\n",
       "      <th>4</th>\n",
       "      <td>HIROSHI TANAHASHI</td>\n",
       "      <td>BAD LUCK FALE</td>\n",
       "      <td>nan</td>\n",
       "      <td>nan</td>\n",
       "      <td>1</td>\n",
       "    </tr>\n",
       "    <tr>\n",
       "      <th>5</th>\n",
       "      <td>HIROSHI TANAHASHI</td>\n",
       "      <td>YUJI NAGATA</td>\n",
       "      <td>nan</td>\n",
       "      <td>nan</td>\n",
       "      <td>1</td>\n",
       "    </tr>\n",
       "    <tr>\n",
       "      <th>6</th>\n",
       "      <td>HIROSHI TANAHASHI</td>\n",
       "      <td>ZACK SABRE JR.</td>\n",
       "      <td>nan</td>\n",
       "      <td>nan</td>\n",
       "      <td>1</td>\n",
       "    </tr>\n",
       "    <tr>\n",
       "      <th>7</th>\n",
       "      <td>HIROSHI TANAHASHI</td>\n",
       "      <td>KOTA IBUSHI</td>\n",
       "      <td>nan</td>\n",
       "      <td>nan</td>\n",
       "      <td>1</td>\n",
       "    </tr>\n",
       "    <tr>\n",
       "      <th>8</th>\n",
       "      <td>HIROSHI TANAHASHI</td>\n",
       "      <td>TETSUYA NAITO</td>\n",
       "      <td>nan</td>\n",
       "      <td>nan</td>\n",
       "      <td>1</td>\n",
       "    </tr>\n",
       "    <tr>\n",
       "      <th>9</th>\n",
       "      <td>TOGI MAKABE</td>\n",
       "      <td>TOMOHIRO ISHII</td>\n",
       "      <td>nan</td>\n",
       "      <td>nan</td>\n",
       "      <td>1</td>\n",
       "    </tr>\n",
       "    <tr>\n",
       "      <th>10</th>\n",
       "      <td>TOGI MAKABE</td>\n",
       "      <td>HIROOKI GOTO</td>\n",
       "      <td>nan</td>\n",
       "      <td>nan</td>\n",
       "      <td>1</td>\n",
       "    </tr>\n",
       "    <tr>\n",
       "      <th>11</th>\n",
       "      <td>TOGI MAKABE</td>\n",
       "      <td>YOSHI-HASHI</td>\n",
       "      <td>nan</td>\n",
       "      <td>nan</td>\n",
       "      <td>1</td>\n",
       "    </tr>\n",
       "    <tr>\n",
       "      <th>12</th>\n",
       "      <td>TOGI MAKABE</td>\n",
       "      <td>BAD LUCK FALE</td>\n",
       "      <td>nan</td>\n",
       "      <td>nan</td>\n",
       "      <td>1</td>\n",
       "    </tr>\n",
       "    <tr>\n",
       "      <th>13</th>\n",
       "      <td>TOGI MAKABE</td>\n",
       "      <td>YUJI NAGATA</td>\n",
       "      <td>nan</td>\n",
       "      <td>nan</td>\n",
       "      <td>1</td>\n",
       "    </tr>\n",
       "    <tr>\n",
       "      <th>14</th>\n",
       "      <td>TOGI MAKABE</td>\n",
       "      <td>ZACK SABRE JR.</td>\n",
       "      <td>nan</td>\n",
       "      <td>nan</td>\n",
       "      <td>1</td>\n",
       "    </tr>\n",
       "    <tr>\n",
       "      <th>15</th>\n",
       "      <td>TOGI MAKABE</td>\n",
       "      <td>KOTA IBUSHI</td>\n",
       "      <td>nan</td>\n",
       "      <td>nan</td>\n",
       "      <td>1</td>\n",
       "    </tr>\n",
       "    <tr>\n",
       "      <th>16</th>\n",
       "      <td>TOGI MAKABE</td>\n",
       "      <td>TETSUYA NAITO</td>\n",
       "      <td>nan</td>\n",
       "      <td>nan</td>\n",
       "      <td>1</td>\n",
       "    </tr>\n",
       "    <tr>\n",
       "      <th>17</th>\n",
       "      <td>TOMOHIRO ISHII</td>\n",
       "      <td>HIROOKI GOTO</td>\n",
       "      <td>nan</td>\n",
       "      <td>nan</td>\n",
       "      <td>1</td>\n",
       "    </tr>\n",
       "    <tr>\n",
       "      <th>18</th>\n",
       "      <td>TOMOHIRO ISHII</td>\n",
       "      <td>YOSHI-HASHI</td>\n",
       "      <td>nan</td>\n",
       "      <td>nan</td>\n",
       "      <td>1</td>\n",
       "    </tr>\n",
       "    <tr>\n",
       "      <th>19</th>\n",
       "      <td>TOMOHIRO ISHII</td>\n",
       "      <td>BAD LUCK FALE</td>\n",
       "      <td>nan</td>\n",
       "      <td>nan</td>\n",
       "      <td>1</td>\n",
       "    </tr>\n",
       "    <tr>\n",
       "      <th>20</th>\n",
       "      <td>TOMOHIRO ISHII</td>\n",
       "      <td>YUJI NAGATA</td>\n",
       "      <td>nan</td>\n",
       "      <td>nan</td>\n",
       "      <td>1</td>\n",
       "    </tr>\n",
       "    <tr>\n",
       "      <th>21</th>\n",
       "      <td>TOMOHIRO ISHII</td>\n",
       "      <td>ZACK SABRE JR.</td>\n",
       "      <td>nan</td>\n",
       "      <td>nan</td>\n",
       "      <td>1</td>\n",
       "    </tr>\n",
       "    <tr>\n",
       "      <th>22</th>\n",
       "      <td>TOMOHIRO ISHII</td>\n",
       "      <td>KOTA IBUSHI</td>\n",
       "      <td>nan</td>\n",
       "      <td>nan</td>\n",
       "      <td>1</td>\n",
       "    </tr>\n",
       "    <tr>\n",
       "      <th>23</th>\n",
       "      <td>TOMOHIRO ISHII</td>\n",
       "      <td>TETSUYA NAITO</td>\n",
       "      <td>nan</td>\n",
       "      <td>nan</td>\n",
       "      <td>1</td>\n",
       "    </tr>\n",
       "    <tr>\n",
       "      <th>24</th>\n",
       "      <td>HIROOKI GOTO</td>\n",
       "      <td>YOSHI-HASHI</td>\n",
       "      <td>nan</td>\n",
       "      <td>nan</td>\n",
       "      <td>1</td>\n",
       "    </tr>\n",
       "    <tr>\n",
       "      <th>25</th>\n",
       "      <td>HIROOKI GOTO</td>\n",
       "      <td>BAD LUCK FALE</td>\n",
       "      <td>nan</td>\n",
       "      <td>nan</td>\n",
       "      <td>1</td>\n",
       "    </tr>\n",
       "    <tr>\n",
       "      <th>26</th>\n",
       "      <td>HIROOKI GOTO</td>\n",
       "      <td>YUJI NAGATA</td>\n",
       "      <td>nan</td>\n",
       "      <td>nan</td>\n",
       "      <td>1</td>\n",
       "    </tr>\n",
       "    <tr>\n",
       "      <th>27</th>\n",
       "      <td>HIROOKI GOTO</td>\n",
       "      <td>ZACK SABRE JR.</td>\n",
       "      <td>nan</td>\n",
       "      <td>nan</td>\n",
       "      <td>1</td>\n",
       "    </tr>\n",
       "    <tr>\n",
       "      <th>28</th>\n",
       "      <td>HIROOKI GOTO</td>\n",
       "      <td>KOTA IBUSHI</td>\n",
       "      <td>nan</td>\n",
       "      <td>nan</td>\n",
       "      <td>1</td>\n",
       "    </tr>\n",
       "    <tr>\n",
       "      <th>29</th>\n",
       "      <td>HIROOKI GOTO</td>\n",
       "      <td>TETSUYA NAITO</td>\n",
       "      <td>nan</td>\n",
       "      <td>nan</td>\n",
       "      <td>1</td>\n",
       "    </tr>\n",
       "    <tr>\n",
       "      <th>30</th>\n",
       "      <td>YOSHI-HASHI</td>\n",
       "      <td>BAD LUCK FALE</td>\n",
       "      <td>nan</td>\n",
       "      <td>nan</td>\n",
       "      <td>1</td>\n",
       "    </tr>\n",
       "    <tr>\n",
       "      <th>31</th>\n",
       "      <td>YOSHI-HASHI</td>\n",
       "      <td>YUJI NAGATA</td>\n",
       "      <td>nan</td>\n",
       "      <td>nan</td>\n",
       "      <td>1</td>\n",
       "    </tr>\n",
       "    <tr>\n",
       "      <th>32</th>\n",
       "      <td>YOSHI-HASHI</td>\n",
       "      <td>ZACK SABRE JR.</td>\n",
       "      <td>nan</td>\n",
       "      <td>nan</td>\n",
       "      <td>1</td>\n",
       "    </tr>\n",
       "    <tr>\n",
       "      <th>33</th>\n",
       "      <td>YOSHI-HASHI</td>\n",
       "      <td>KOTA IBUSHI</td>\n",
       "      <td>nan</td>\n",
       "      <td>nan</td>\n",
       "      <td>1</td>\n",
       "    </tr>\n",
       "    <tr>\n",
       "      <th>34</th>\n",
       "      <td>YOSHI-HASHI</td>\n",
       "      <td>TETSUYA NAITO</td>\n",
       "      <td>nan</td>\n",
       "      <td>nan</td>\n",
       "      <td>1</td>\n",
       "    </tr>\n",
       "    <tr>\n",
       "      <th>35</th>\n",
       "      <td>BAD LUCK FALE</td>\n",
       "      <td>YUJI NAGATA</td>\n",
       "      <td>nan</td>\n",
       "      <td>nan</td>\n",
       "      <td>1</td>\n",
       "    </tr>\n",
       "    <tr>\n",
       "      <th>36</th>\n",
       "      <td>BAD LUCK FALE</td>\n",
       "      <td>ZACK SABRE JR.</td>\n",
       "      <td>nan</td>\n",
       "      <td>nan</td>\n",
       "      <td>1</td>\n",
       "    </tr>\n",
       "    <tr>\n",
       "      <th>37</th>\n",
       "      <td>BAD LUCK FALE</td>\n",
       "      <td>KOTA IBUSHI</td>\n",
       "      <td>nan</td>\n",
       "      <td>nan</td>\n",
       "      <td>1</td>\n",
       "    </tr>\n",
       "    <tr>\n",
       "      <th>38</th>\n",
       "      <td>BAD LUCK FALE</td>\n",
       "      <td>TETSUYA NAITO</td>\n",
       "      <td>nan</td>\n",
       "      <td>nan</td>\n",
       "      <td>1</td>\n",
       "    </tr>\n",
       "    <tr>\n",
       "      <th>39</th>\n",
       "      <td>YUJI NAGATA</td>\n",
       "      <td>ZACK SABRE JR.</td>\n",
       "      <td>nan</td>\n",
       "      <td>nan</td>\n",
       "      <td>1</td>\n",
       "    </tr>\n",
       "    <tr>\n",
       "      <th>40</th>\n",
       "      <td>YUJI NAGATA</td>\n",
       "      <td>KOTA IBUSHI</td>\n",
       "      <td>nan</td>\n",
       "      <td>nan</td>\n",
       "      <td>1</td>\n",
       "    </tr>\n",
       "    <tr>\n",
       "      <th>41</th>\n",
       "      <td>YUJI NAGATA</td>\n",
       "      <td>TETSUYA NAITO</td>\n",
       "      <td>nan</td>\n",
       "      <td>nan</td>\n",
       "      <td>1</td>\n",
       "    </tr>\n",
       "    <tr>\n",
       "      <th>42</th>\n",
       "      <td>ZACK SABRE JR.</td>\n",
       "      <td>KOTA IBUSHI</td>\n",
       "      <td>nan</td>\n",
       "      <td>nan</td>\n",
       "      <td>1</td>\n",
       "    </tr>\n",
       "    <tr>\n",
       "      <th>43</th>\n",
       "      <td>ZACK SABRE JR.</td>\n",
       "      <td>TETSUYA NAITO</td>\n",
       "      <td>nan</td>\n",
       "      <td>nan</td>\n",
       "      <td>1</td>\n",
       "    </tr>\n",
       "    <tr>\n",
       "      <th>44</th>\n",
       "      <td>KOTA IBUSHI</td>\n",
       "      <td>TETSUYA NAITO</td>\n",
       "      <td>nan</td>\n",
       "      <td>nan</td>\n",
       "      <td>1</td>\n",
       "    </tr>\n",
       "  </tbody>\n",
       "</table>\n",
       "</div>"
      ],
      "text/plain": [
       "           Wrestler 1      Wrestler 2  Winner  Loser  Match\n",
       "0   HIROSHI TANAHASHI     TOGI MAKABE     nan    nan      1\n",
       "1   HIROSHI TANAHASHI  TOMOHIRO ISHII     nan    nan      1\n",
       "2   HIROSHI TANAHASHI    HIROOKI GOTO     nan    nan      1\n",
       "3   HIROSHI TANAHASHI     YOSHI-HASHI     nan    nan      1\n",
       "4   HIROSHI TANAHASHI   BAD LUCK FALE     nan    nan      1\n",
       "5   HIROSHI TANAHASHI     YUJI NAGATA     nan    nan      1\n",
       "6   HIROSHI TANAHASHI  ZACK SABRE JR.     nan    nan      1\n",
       "7   HIROSHI TANAHASHI     KOTA IBUSHI     nan    nan      1\n",
       "8   HIROSHI TANAHASHI   TETSUYA NAITO     nan    nan      1\n",
       "9         TOGI MAKABE  TOMOHIRO ISHII     nan    nan      1\n",
       "10        TOGI MAKABE    HIROOKI GOTO     nan    nan      1\n",
       "11        TOGI MAKABE     YOSHI-HASHI     nan    nan      1\n",
       "12        TOGI MAKABE   BAD LUCK FALE     nan    nan      1\n",
       "13        TOGI MAKABE     YUJI NAGATA     nan    nan      1\n",
       "14        TOGI MAKABE  ZACK SABRE JR.     nan    nan      1\n",
       "15        TOGI MAKABE     KOTA IBUSHI     nan    nan      1\n",
       "16        TOGI MAKABE   TETSUYA NAITO     nan    nan      1\n",
       "17     TOMOHIRO ISHII    HIROOKI GOTO     nan    nan      1\n",
       "18     TOMOHIRO ISHII     YOSHI-HASHI     nan    nan      1\n",
       "19     TOMOHIRO ISHII   BAD LUCK FALE     nan    nan      1\n",
       "20     TOMOHIRO ISHII     YUJI NAGATA     nan    nan      1\n",
       "21     TOMOHIRO ISHII  ZACK SABRE JR.     nan    nan      1\n",
       "22     TOMOHIRO ISHII     KOTA IBUSHI     nan    nan      1\n",
       "23     TOMOHIRO ISHII   TETSUYA NAITO     nan    nan      1\n",
       "24       HIROOKI GOTO     YOSHI-HASHI     nan    nan      1\n",
       "25       HIROOKI GOTO   BAD LUCK FALE     nan    nan      1\n",
       "26       HIROOKI GOTO     YUJI NAGATA     nan    nan      1\n",
       "27       HIROOKI GOTO  ZACK SABRE JR.     nan    nan      1\n",
       "28       HIROOKI GOTO     KOTA IBUSHI     nan    nan      1\n",
       "29       HIROOKI GOTO   TETSUYA NAITO     nan    nan      1\n",
       "30        YOSHI-HASHI   BAD LUCK FALE     nan    nan      1\n",
       "31        YOSHI-HASHI     YUJI NAGATA     nan    nan      1\n",
       "32        YOSHI-HASHI  ZACK SABRE JR.     nan    nan      1\n",
       "33        YOSHI-HASHI     KOTA IBUSHI     nan    nan      1\n",
       "34        YOSHI-HASHI   TETSUYA NAITO     nan    nan      1\n",
       "35      BAD LUCK FALE     YUJI NAGATA     nan    nan      1\n",
       "36      BAD LUCK FALE  ZACK SABRE JR.     nan    nan      1\n",
       "37      BAD LUCK FALE     KOTA IBUSHI     nan    nan      1\n",
       "38      BAD LUCK FALE   TETSUYA NAITO     nan    nan      1\n",
       "39        YUJI NAGATA  ZACK SABRE JR.     nan    nan      1\n",
       "40        YUJI NAGATA     KOTA IBUSHI     nan    nan      1\n",
       "41        YUJI NAGATA   TETSUYA NAITO     nan    nan      1\n",
       "42     ZACK SABRE JR.     KOTA IBUSHI     nan    nan      1\n",
       "43     ZACK SABRE JR.   TETSUYA NAITO     nan    nan      1\n",
       "44        KOTA IBUSHI   TETSUYA NAITO     nan    nan      1"
      ]
     },
     "execution_count": 11,
     "metadata": {},
     "output_type": "execute_result"
    }
   ],
   "source": [
    "A_matches"
   ]
  },
  {
   "cell_type": "markdown",
   "metadata": {},
   "source": [
    "Ok we now have a table of the potential matches, I decided to write a quick function to update the dataframe with the results rather than updating each row manually. I didn't want to type out the full names either as the spellings of Japanese names can be quite hard. So the function does a partial match and prints out the names it's matched as a check"
   ]
  },
  {
   "cell_type": "code",
   "execution_count": 25,
   "metadata": {
    "collapsed": true
   },
   "outputs": [],
   "source": [
    "def updateresults(df,winner,loser):#We want to find the index for the match for these two wrestlers\n",
    "    winner = winner.upper()\n",
    "    loser = loser.upper()\n",
    "    w1 = list(df[df['Wrestler 1'].str.contains(winner)].index)\n",
    "    w2 = list(df[df['Wrestler 2'].str.contains(winner)].index)\n",
    "    w3 = w1 + w2\n",
    "    if not w1:\n",
    "        winner = df.iloc[w2[0],1]\n",
    "    else:\n",
    "        winner = df.iloc[w1[0],0]\n",
    "\n",
    "    l1 = list(df[df['Wrestler 1'].str.contains(loser)].index)\n",
    "    l2 = list(df[df['Wrestler 2'].str.contains(loser)].index)\n",
    "    l3 = l1 + l2\n",
    "    if not l1:\n",
    "        loser = df.iloc[l2[0],1]\n",
    "    else:\n",
    "        loser = df.iloc[l1[0],0]\n",
    "    i = list(set(w3).intersection(l3))\n",
    "    i = i[0]\n",
    "    print(winner + ',' +loser)\n",
    "    df.iloc[i,2] = winner\n",
    "    df.iloc[i,3] = loser\n",
    "    updatetable()\n",
    "    "
   ]
  },
  {
   "cell_type": "markdown",
   "metadata": {},
   "source": [
    "Update the A block matches with the Day 1 results. Really suprising results with Zack Sabre Jr going over Tanahashi and Testsuya Naito."
   ]
  },
  {
   "cell_type": "code",
   "execution_count": 13,
   "metadata": {
    "collapsed": false
   },
   "outputs": [
    {
     "name": "stdout",
     "output_type": "stream",
     "text": [
      "ZACK SABRE JR.,HIROSHI TANAHASHI\n",
      "YOSHI-HASHI,YUJI NAGATA\n",
      "BAD LUCK FALE,TOGI MAKABE\n",
      "HIROOKI GOTO,TOMOHIRO ISHII\n",
      "TETSUYA NAITO,KOTA IBUSHI\n"
     ]
    }
   ],
   "source": [
    "updateresults(A_matches, 'Zack', 'Tanahashi')\n",
    "updateresults(A_matches, 'YOSHI', 'Nagata')\n",
    "updateresults(A_matches, 'Fale', 'Togi')\n",
    "updateresults(A_matches, 'Hirooki', 'Tomohiro')\n",
    "updateresults(A_matches, 'Tetsuya', 'Kota')"
   ]
  },
  {
   "cell_type": "markdown",
   "metadata": {},
   "source": [
    "Update the B block matches, no surprises with Okada and Omega going over. I expect one of them to be in the final"
   ]
  },
  {
   "cell_type": "code",
   "execution_count": 14,
   "metadata": {
    "collapsed": false
   },
   "outputs": [
    {
     "name": "stdout",
     "output_type": "stream",
     "text": [
      "JUICE ROBINSON,SATOSHI KOJIMA\n",
      "TAMA TONGA,MICHAEL ELGIN\n",
      "SANADA,EVIL\n",
      "KAZUCHIKA OKADA,TORU YANO\n",
      "KENNY OMEGA,MINORU SUZUKI\n"
     ]
    }
   ],
   "source": [
    "updateresults(B_matches,'Juice','Satoshi')\n",
    "updateresults(B_matches,'Tonga','Elgin')\n",
    "updateresults(B_matches,'Sanada','Evil')\n",
    "updateresults(B_matches,'Okada','Yano')\n",
    "updateresults(B_matches,'Omega','Suzuki')"
   ]
  },
  {
   "cell_type": "markdown",
   "metadata": {},
   "source": [
    "Now that we've got some results, let's update the A block and B block tables that summarise the current standings. I was looking for the equivalent of Excel's countif and found that you can the Series.map function. In the tournamenet a win counts as 2 points, tie counts as 1(having factored this in yet) and 0 points for a loss. This can be a function I think that updates"
   ]
  },
  {
   "cell_type": "code",
   "execution_count": 15,
   "metadata": {
    "collapsed": true
   },
   "outputs": [],
   "source": [
    "def updatetable():\n",
    "    global A_Block\n",
    "    global B_Block\n",
    "    A_Block['Wins'] = A_Block['Wrestler'].map(A_matches['Winner'].value_counts())\n",
    "    A_Block['Losses'] = A_Block['Wrestler'].map(A_matches['Loser'].value_counts())\n",
    "    A_Block = A_Block.fillna(0)#replace the nan's with zeroes so we can tally later\n",
    "    A_Block['Matches'] = A_Block['Wins'] + A_Block['Losses']\n",
    "    A_Block['Points'] = A_Block['Wins']*2\n",
    "    A_Block = A_Block.sort_values(['Points'],ascending=False).reset_index(drop=True)\n",
    "    B_Block['Wins'] = B_Block['Wrestler'].map(B_matches['Winner'].value_counts())\n",
    "    B_Block['Losses'] = B_Block['Wrestler'].map(B_matches['Loser'].value_counts())\n",
    "    B_Block = B_Block.fillna(0)\n",
    "    B_Block['Matches'] = B_Block['Wins'] + B_Block['Losses']\n",
    "    B_Block = B_Block[['Wrestler','Matches','Wins','Losses']]\n",
    "    B_Block['Points'] = B_Block['Wins']*2\n",
    "    B_Block = B_Block.sort_values(['Points'],ascending=False).reset_index(drop=True)"
   ]
  },
  {
   "cell_type": "code",
   "execution_count": 23,
   "metadata": {
    "collapsed": true
   },
   "outputs": [],
   "source": [
    "updatetable()"
   ]
  },
  {
   "cell_type": "code",
   "execution_count": 52,
   "metadata": {
    "collapsed": false,
    "scrolled": false
   },
   "outputs": [
    {
     "data": {
      "image/png": "[encoded data removed]",
      "text/plain": [
       "<matplotlib.figure.Figure at 0x14572382f28>"
      ]
     },
     "metadata": {},
     "output_type": "display_data"
    },
    {
     "data": {
      "image/png": "[encoded data removed]",
      "text/plain": [
       "<matplotlib.figure.Figure at 0x145721b2b00>"
      ]
     },
     "metadata": {},
     "output_type": "display_data"
    }
   ],
   "source": [
    "\n",
    "ax= sns.barplot(y='Wrestler', x='Points', data=A_Block, color= 'Red')\n",
    "ax.set_xlim(0,18)\n",
    "sns.despine()\n",
    "ax.set_ylabel('')\n",
    "ax.set_xlabel('points')\n",
    "ax.set_title('A Block')\n",
    "plt.show()\n",
    "ax= sns.barplot(y='Wrestler', x='Points', data=B_Block,  color= 'Blue')\n",
    "ax.set_xlim(0,18)\n",
    "sns.despine()\n",
    "ax.set_ylabel('') \n",
    "ax.set_xlabel('points')\n",
    "ax.set_title('B Block')\n",
    "plt.show()"
   ]
  },
  {
   "cell_type": "code",
   "execution_count": 17,
   "metadata": {
    "collapsed": false
   },
   "outputs": [
    {
     "name": "stdout",
     "output_type": "stream",
     "text": [
      "HIROOKI GOTO,YUJI NAGATA\n",
      "TOMOHIRO ISHII,TOGI MAKABE\n",
      "KOTA IBUSHI,ZACK SABRE JR.\n",
      "HIROSHI TANAHASHI,BAD LUCK FALE\n",
      "TETSUYA NAITO,YOSHI-HASHI\n"
     ]
    }
   ],
   "source": [
    "updateresults(A_matches, 'Hirooki', 'Nagata')# Day3\n",
    "updateresults(A_matches,'ISHII', 'Togi')\n",
    "updateresults(A_matches,'Ibushi', 'Zack')\n",
    "updateresults(A_matches,'Tanaha', 'Fale')\n",
    "updateresults(A_matches,'Tetsuya', 'Yoshi')"
   ]
  },
  {
   "cell_type": "code",
   "execution_count": 38,
   "metadata": {
    "collapsed": false
   },
   "outputs": [
    {
     "name": "stdout",
     "output_type": "stream",
     "text": [
      "TORU YANO,SATOSHI KOJIMA\n",
      "EVIL,JUICE ROBINSON\n",
      "KENNY OMEGA,TAMA TONGA\n",
      "KAZUCHIKA OKADA,MICHAEL ELGIN\n",
      "MINORU SUZUKI,SANADA\n"
     ]
    }
   ],
   "source": [
    "updateresults(B_matches, 'Yano', 'Kojima') # Day 4\n",
    "updateresults(B_matches, 'Evil', 'Juice')\n",
    "updateresults(B_matches, 'Omega', 'Tama')\n",
    "updateresults(B_matches, 'Okada', 'Elgin')\n",
    "updateresults(B_matches, 'Suzuki', 'Sanada')"
   ]
  },
  {
   "cell_type": "code",
   "execution_count": 41,
   "metadata": {
    "collapsed": false
   },
   "outputs": [
    {
     "name": "stdout",
     "output_type": "stream",
     "text": [
      "ZACK SABRE JR.,YOSHI-HASHI\n",
      "HIROSHI TANAHASHI,YUJI NAGATA\n",
      "BAD LUCK FALE,TETSUYA NAITO\n",
      "KOTA IBUSHI,TOMOHIRO ISHII\n",
      "TOGI MAKABE,HIROOKI GOTO\n"
     ]
    }
   ],
   "source": [
    "updateresults(A_matches, 'Zack', 'Yoshi') # Day 5\n",
    "updateresults(A_matches, 'Hiroshi', 'YUji')\n",
    "updateresults(A_matches, 'Fale', 'Tetsuya')\n",
    "updateresults(A_matches, 'Kota', 'Ishii')\n",
    "updateresults(A_matches, 'Togi', 'Hirooki')"
   ]
  },
  {
   "cell_type": "code",
   "execution_count": 43,
   "metadata": {
    "collapsed": false
   },
   "outputs": [
    {
     "name": "stdout",
     "output_type": "stream",
     "text": [
      "MICHAEL ELGIN,SATOSHI KOJIMA\n",
      "EVIL,TAMA TONGA\n",
      "KENNY OMEGA,TORU YANO\n",
      "KAZUCHIKA OKADA,SANADA\n",
      "MINORU SUZUKI,JUICE ROBINSON\n"
     ]
    }
   ],
   "source": [
    "updateresults(B_matches, 'Elgin', 'Kojima') # Day 6\n",
    "updateresults(B_matches, 'Evil', 'Tonga')\n",
    "updateresults(B_matches, 'Omega', 'Yano')\n",
    "updateresults(B_matches, 'Okada', 'Sanada')\n",
    "updateresults(B_matches, 'Suzuki', 'Juice')"
   ]
  },
  {
   "cell_type": "code",
   "execution_count": 45,
   "metadata": {
    "collapsed": false
   },
   "outputs": [
    {
     "name": "stdout",
     "output_type": "stream",
     "text": [
      "TOMOHIRO ISHII,YOSHI-HASHI\n",
      "HIROSHI TANAHASHI,HIROOKI GOTO\n",
      "ZACK SABRE JR.,BAD LUCK FALE\n",
      "TOGI MAKABE,KOTA IBUSHI\n",
      "TETSUYA NAITO,YUJI NAGATA\n"
     ]
    }
   ],
   "source": [
    "updateresults(A_matches, 'Ishii', 'Yoshi') # Day 7\n",
    "updateresults(A_matches, 'Hiroshi', 'hirooki')\n",
    "updateresults(A_matches, 'Zack', 'Fale')\n",
    "updateresults(A_matches, 'Togi', 'Kota')\n",
    "updateresults(A_matches, 'Tetsuya', 'Nagata')"
   ]
  },
  {
   "cell_type": "code",
   "execution_count": 46,
   "metadata": {
    "collapsed": false
   },
   "outputs": [
    {
     "name": "stdout",
     "output_type": "stream",
     "text": [
      "KAZUCHIKA OKADA,SATOSHI KOJIMA\n",
      "TAMA TONGA,JUICE ROBINSON\n",
      "MICHAEL ELGIN,KENNY OMEGA\n",
      "SANADA,TORU YANO\n",
      "EVIL,MINORU SUZUKI\n"
     ]
    }
   ],
   "source": [
    "updateresults(B_matches, 'Okada', 'Kojima') # Day 8\n",
    "updateresults(B_matches, 'Tonga', 'Juice')\n",
    "updateresults(B_matches, 'Elgin', 'Omega')\n",
    "updateresults(B_matches, 'Sanada', 'Toru')\n",
    "updateresults(B_matches, 'Evil', 'Suzuki')"
   ]
  },
  {
   "cell_type": "code",
   "execution_count": 48,
   "metadata": {
    "collapsed": false
   },
   "outputs": [
    {
     "name": "stdout",
     "output_type": "stream",
     "text": [
      "HIROSHI TANAHASHI,YOSHI-HASHI\n",
      "HIROOKI GOTO,ZACK SABRE JR.\n",
      "BAD LUCK FALE,KOTA IBUSHI\n",
      "TOGI MAKABE,YUJI NAGATA\n",
      "TOMOHIRO ISHII,TETSUYA NAITO\n"
     ]
    }
   ],
   "source": [
    "updateresults(A_matches, 'Hiroshi', 'Yoshi') # Day 9\n",
    "updateresults(A_matches, 'Hirooki', 'Zack')\n",
    "updateresults(A_matches, 'Fale', 'Kota')\n",
    "updateresults(A_matches, 'Togi', 'Nagata')\n",
    "updateresults(A_matches, 'Ishii', 'Tetsuya')"
   ]
  },
  {
   "cell_type": "code",
   "execution_count": 50,
   "metadata": {
    "collapsed": false
   },
   "outputs": [
    {
     "name": "stdout",
     "output_type": "stream",
     "text": [
      "KAZUCHIKA OKADA,JUICE ROBINSON\n",
      "EVIL,TORU YANO\n",
      "SANADA,MICHAEL ELGIN\n",
      "KENNY OMEGA,SATOSHI KOJIMA\n",
      "MINORU SUZUKI,TAMA TONGA\n"
     ]
    }
   ],
   "source": [
    "updateresults(B_matches, 'Okada', 'Juice') # Day 10\n",
    "updateresults(B_matches, 'Evil', 'Yano')\n",
    "updateresults(B_matches, 'Sanada', 'Elgin')\n",
    "updateresults(B_matches, 'Omega', 'Kojima')\n",
    "updateresults(B_matches, 'Suzuki', 'Tama')"
   ]
  },
  {
   "cell_type": "code",
   "execution_count": null,
   "metadata": {
    "collapsed": true
   },
   "outputs": [],
   "source": []
  }
 ],
 "metadata": {
  "anaconda-cloud": {},
  "kernelspec": {
   "display_name": "Python [default]",
   "language": "python",
   "name": "python3"
  },
  "language_info": {
   "codemirror_mode": {
    "name": "ipython",
    "version": 3
   },
   "file_extension": ".py",
   "mimetype": "text/x-python",
   "name": "python",
   "nbconvert_exporter": "python",
   "pygments_lexer": "ipython3",
   "version": "3.5.2"
  }
 },
 "nbformat": 4,
 "nbformat_minor": 1
}
