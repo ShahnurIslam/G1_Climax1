{
 "cells": [
  {
   "cell_type": "markdown",
   "metadata": {},
   "source": [
    "The G1 Climax is an annual Japanase wrestling tournament that's held every summer over 20 days. Rather than a simple knockout tournament it's a league made up two blocks each consisting of 20 wrestlers. The winner of each block then face off and the winner goes to headline wrestle kingdom in January"
   ]
  },
  {
   "cell_type": "markdown",
   "metadata": {},
   "source": [
    "Let's start off with importing all the relevant libraries which will be updated as we go"
   ]
  },
  {
   "cell_type": "markdown",
   "metadata": {},
   "source": [
    "Add times to matches, to see who on average has the longest time. Wrestler style, weight, momemntum?\n",
    "If they won the last match are they going to win the next one\n"
   ]
  },
  {
   "cell_type": "code",
   "execution_count": 1,
   "metadata": {
    "collapsed": true
   },
   "outputs": [],
   "source": [
    "import pandas as pd\n",
    "import math\n",
    "import numpy as np\n",
    "import itertools\n",
    "import matplotlib.pyplot as plt\n",
    "import seaborn as sns\n",
    "import datetime\n",
    "pd.options.display.float_format = '{:,.0f}'.format\n",
    "sns.set_style('white')"
   ]
  },
  {
   "cell_type": "markdown",
   "metadata": {},
   "source": [
    "Read the csv file with the block names"
   ]
  },
  {
   "cell_type": "code",
   "execution_count": 2,
   "metadata": {
    "collapsed": true
   },
   "outputs": [],
   "source": [
    "df = pd.read_csv(\"G1 Competitors.csv\")"
   ]
  },
  {
   "cell_type": "code",
   "execution_count": 3,
   "metadata": {
    "scrolled": true
   },
   "outputs": [
    {
     "name": "stdout",
     "output_type": "stream",
     "text": [
      "<class 'pandas.core.frame.DataFrame'>\n",
      "RangeIndex: 10 entries, 0 to 9\n",
      "Data columns (total 2 columns):\n",
      "A Block    10 non-null object\n",
      "B Block    10 non-null object\n",
      "dtypes: object(2)\n",
      "memory usage: 240.0+ bytes\n"
     ]
    }
   ],
   "source": [
    "df.info()"
   ]
  },
  {
   "cell_type": "markdown",
   "metadata": {},
   "source": [
    "Only 10 entries with No null objects which is good to see, we can see what the whole dataframe looks like. Of course if we had more rows we wouldn't be able to do this."
   ]
  },
  {
   "cell_type": "code",
   "execution_count": 4,
   "metadata": {
    "scrolled": true
   },
   "outputs": [
    {
     "data": {
      "text/html": [
       "<div>\n",
       "<style>\n",
       "    .dataframe thead tr:only-child th {\n",
       "        text-align: right;\n",
       "    }\n",
       "\n",
       "    .dataframe thead th {\n",
       "        text-align: left;\n",
       "    }\n",
       "\n",
       "    .dataframe tbody tr th {\n",
       "        vertical-align: top;\n",
       "    }\n",
       "</style>\n",
       "<table border=\"1\" class=\"dataframe\">\n",
       "  <thead>\n",
       "    <tr style=\"text-align: right;\">\n",
       "      <th></th>\n",
       "      <th>A Block</th>\n",
       "      <th>B Block</th>\n",
       "    </tr>\n",
       "  </thead>\n",
       "  <tbody>\n",
       "    <tr>\n",
       "      <th>0</th>\n",
       "      <td>Hiroshi Tanahashi</td>\n",
       "      <td>Kazuchika Okada</td>\n",
       "    </tr>\n",
       "    <tr>\n",
       "      <th>1</th>\n",
       "      <td>Togi Makabe</td>\n",
       "      <td>Toru Yano</td>\n",
       "    </tr>\n",
       "    <tr>\n",
       "      <th>2</th>\n",
       "      <td>Tomohiro Ishii</td>\n",
       "      <td>Satoshi Kojima</td>\n",
       "    </tr>\n",
       "    <tr>\n",
       "      <th>3</th>\n",
       "      <td>Hirooki Goto</td>\n",
       "      <td>Michael Elgin</td>\n",
       "    </tr>\n",
       "    <tr>\n",
       "      <th>4</th>\n",
       "      <td>YOSHI-HASHI</td>\n",
       "      <td>Juice Robinson</td>\n",
       "    </tr>\n",
       "    <tr>\n",
       "      <th>5</th>\n",
       "      <td>Bad Luck Fale</td>\n",
       "      <td>Tama Tonga</td>\n",
       "    </tr>\n",
       "    <tr>\n",
       "      <th>6</th>\n",
       "      <td>Yuji Nagata</td>\n",
       "      <td>SANADA</td>\n",
       "    </tr>\n",
       "    <tr>\n",
       "      <th>7</th>\n",
       "      <td>Zack Sabre Jr.</td>\n",
       "      <td>EVIL</td>\n",
       "    </tr>\n",
       "    <tr>\n",
       "      <th>8</th>\n",
       "      <td>Kota Ibushi</td>\n",
       "      <td>Minoru Suzuki</td>\n",
       "    </tr>\n",
       "    <tr>\n",
       "      <th>9</th>\n",
       "      <td>Tetsuya Naito</td>\n",
       "      <td>Kenny Omega</td>\n",
       "    </tr>\n",
       "  </tbody>\n",
       "</table>\n",
       "</div>"
      ],
      "text/plain": [
       "             A Block          B Block\n",
       "0  Hiroshi Tanahashi  Kazuchika Okada\n",
       "1        Togi Makabe        Toru Yano\n",
       "2     Tomohiro Ishii   Satoshi Kojima\n",
       "3       Hirooki Goto    Michael Elgin\n",
       "4        YOSHI-HASHI   Juice Robinson\n",
       "5      Bad Luck Fale       Tama Tonga\n",
       "6        Yuji Nagata           SANADA\n",
       "7     Zack Sabre Jr.             EVIL\n",
       "8        Kota Ibushi    Minoru Suzuki\n",
       "9      Tetsuya Naito      Kenny Omega"
      ]
     },
     "execution_count": 4,
     "metadata": {},
     "output_type": "execute_result"
    }
   ],
   "source": [
    "df"
   ]
  },
  {
   "cell_type": "markdown",
   "metadata": {},
   "source": [
    "Some of the wrestler's name have capitals while others don't, let's seperate these into two blocks and make sure we convert all strings to uppercase"
   ]
  },
  {
   "cell_type": "code",
   "execution_count": 5,
   "metadata": {
    "collapsed": true
   },
   "outputs": [],
   "source": [
    "A_Block = pd.DataFrame(df['A Block'].str.upper())\n",
    "A_Block.columns = ['Wrestler']\n",
    "B_Block = pd.DataFrame(df['B Block'].str.upper())\n",
    "B_Block.columns = ['Wrestler']"
   ]
  },
  {
   "cell_type": "code",
   "execution_count": 6,
   "metadata": {
    "collapsed": true
   },
   "outputs": [],
   "source": [
    "A_Block['Matches'] = np.NAN\n",
    "A_Block['Wins'] = np.NAN\n",
    "A_Block['Losses'] = np.NAN\n",
    "A_Block['Draws'] = np.NAN\n",
    "A_Block['Points'] = np.NAN\n",
    "A_Block['Match_Time'] = np.NAN\n",
    "B_Block['Matches'] = np.NAN\n",
    "B_Block['Wins'] = np.NAN\n",
    "B_Block['Losses'] = np.NAN\n",
    "B_Block['Draws'] = np.NAN\n",
    "B_Block['Points'] = np.NAN\n",
    "B_Block['Match_Time'] = np.NAN"
   ]
  },
  {
   "cell_type": "code",
   "execution_count": 7,
   "metadata": {},
   "outputs": [
    {
     "data": {
      "text/html": [
       "<div>\n",
       "<style>\n",
       "    .dataframe thead tr:only-child th {\n",
       "        text-align: right;\n",
       "    }\n",
       "\n",
       "    .dataframe thead th {\n",
       "        text-align: left;\n",
       "    }\n",
       "\n",
       "    .dataframe tbody tr th {\n",
       "        vertical-align: top;\n",
       "    }\n",
       "</style>\n",
       "<table border=\"1\" class=\"dataframe\">\n",
       "  <thead>\n",
       "    <tr style=\"text-align: right;\">\n",
       "      <th></th>\n",
       "      <th>Wrestler</th>\n",
       "      <th>Matches</th>\n",
       "      <th>Wins</th>\n",
       "      <th>Losses</th>\n",
       "      <th>Draws</th>\n",
       "      <th>Points</th>\n",
       "      <th>Match_Time</th>\n",
       "    </tr>\n",
       "  </thead>\n",
       "  <tbody>\n",
       "    <tr>\n",
       "      <th>0</th>\n",
       "      <td>HIROSHI TANAHASHI</td>\n",
       "      <td>nan</td>\n",
       "      <td>nan</td>\n",
       "      <td>nan</td>\n",
       "      <td>nan</td>\n",
       "      <td>nan</td>\n",
       "      <td>nan</td>\n",
       "    </tr>\n",
       "    <tr>\n",
       "      <th>1</th>\n",
       "      <td>TOGI MAKABE</td>\n",
       "      <td>nan</td>\n",
       "      <td>nan</td>\n",
       "      <td>nan</td>\n",
       "      <td>nan</td>\n",
       "      <td>nan</td>\n",
       "      <td>nan</td>\n",
       "    </tr>\n",
       "    <tr>\n",
       "      <th>2</th>\n",
       "      <td>TOMOHIRO ISHII</td>\n",
       "      <td>nan</td>\n",
       "      <td>nan</td>\n",
       "      <td>nan</td>\n",
       "      <td>nan</td>\n",
       "      <td>nan</td>\n",
       "      <td>nan</td>\n",
       "    </tr>\n",
       "    <tr>\n",
       "      <th>3</th>\n",
       "      <td>HIROOKI GOTO</td>\n",
       "      <td>nan</td>\n",
       "      <td>nan</td>\n",
       "      <td>nan</td>\n",
       "      <td>nan</td>\n",
       "      <td>nan</td>\n",
       "      <td>nan</td>\n",
       "    </tr>\n",
       "    <tr>\n",
       "      <th>4</th>\n",
       "      <td>YOSHI-HASHI</td>\n",
       "      <td>nan</td>\n",
       "      <td>nan</td>\n",
       "      <td>nan</td>\n",
       "      <td>nan</td>\n",
       "      <td>nan</td>\n",
       "      <td>nan</td>\n",
       "    </tr>\n",
       "    <tr>\n",
       "      <th>5</th>\n",
       "      <td>BAD LUCK FALE</td>\n",
       "      <td>nan</td>\n",
       "      <td>nan</td>\n",
       "      <td>nan</td>\n",
       "      <td>nan</td>\n",
       "      <td>nan</td>\n",
       "      <td>nan</td>\n",
       "    </tr>\n",
       "    <tr>\n",
       "      <th>6</th>\n",
       "      <td>YUJI NAGATA</td>\n",
       "      <td>nan</td>\n",
       "      <td>nan</td>\n",
       "      <td>nan</td>\n",
       "      <td>nan</td>\n",
       "      <td>nan</td>\n",
       "      <td>nan</td>\n",
       "    </tr>\n",
       "    <tr>\n",
       "      <th>7</th>\n",
       "      <td>ZACK SABRE JR.</td>\n",
       "      <td>nan</td>\n",
       "      <td>nan</td>\n",
       "      <td>nan</td>\n",
       "      <td>nan</td>\n",
       "      <td>nan</td>\n",
       "      <td>nan</td>\n",
       "    </tr>\n",
       "    <tr>\n",
       "      <th>8</th>\n",
       "      <td>KOTA IBUSHI</td>\n",
       "      <td>nan</td>\n",
       "      <td>nan</td>\n",
       "      <td>nan</td>\n",
       "      <td>nan</td>\n",
       "      <td>nan</td>\n",
       "      <td>nan</td>\n",
       "    </tr>\n",
       "    <tr>\n",
       "      <th>9</th>\n",
       "      <td>TETSUYA NAITO</td>\n",
       "      <td>nan</td>\n",
       "      <td>nan</td>\n",
       "      <td>nan</td>\n",
       "      <td>nan</td>\n",
       "      <td>nan</td>\n",
       "      <td>nan</td>\n",
       "    </tr>\n",
       "  </tbody>\n",
       "</table>\n",
       "</div>"
      ],
      "text/plain": [
       "            Wrestler  Matches  Wins  Losses  Draws  Points  Match_Time\n",
       "0  HIROSHI TANAHASHI      nan   nan     nan    nan     nan         nan\n",
       "1        TOGI MAKABE      nan   nan     nan    nan     nan         nan\n",
       "2     TOMOHIRO ISHII      nan   nan     nan    nan     nan         nan\n",
       "3       HIROOKI GOTO      nan   nan     nan    nan     nan         nan\n",
       "4        YOSHI-HASHI      nan   nan     nan    nan     nan         nan\n",
       "5      BAD LUCK FALE      nan   nan     nan    nan     nan         nan\n",
       "6        YUJI NAGATA      nan   nan     nan    nan     nan         nan\n",
       "7     ZACK SABRE JR.      nan   nan     nan    nan     nan         nan\n",
       "8        KOTA IBUSHI      nan   nan     nan    nan     nan         nan\n",
       "9      TETSUYA NAITO      nan   nan     nan    nan     nan         nan"
      ]
     },
     "execution_count": 7,
     "metadata": {},
     "output_type": "execute_result"
    }
   ],
   "source": [
    "A_Block"
   ]
  },
  {
   "cell_type": "markdown",
   "metadata": {},
   "source": [
    "How many potential matches per block?\n",
    "Using the old permuations formula"
   ]
  },
  {
   "cell_type": "code",
   "execution_count": 8,
   "metadata": {
    "scrolled": true
   },
   "outputs": [
    {
     "data": {
      "text/plain": [
       "45.0"
      ]
     },
     "execution_count": 8,
     "metadata": {},
     "output_type": "execute_result"
    }
   ],
   "source": [
    "math.factorial(10)/(math.factorial(2)*math.factorial(10-2))"
   ]
  },
  {
   "cell_type": "markdown",
   "metadata": {},
   "source": [
    "Ok there are 45 possible matches, I was going to write a custom function to list all these out but the python community is so large someone has already done what you need. Luckily they have and it comes from the library itertools. We use the function combinations as we're looking for all unique combinations and not permutations. The combination takes a list so we can't simply pass in the data frame and need to select the Wrestler column as a series. W"
   ]
  },
  {
   "cell_type": "code",
   "execution_count": 9,
   "metadata": {
    "collapsed": true
   },
   "outputs": [],
   "source": [
    "A_matches = pd.DataFrame.from_records(list(itertools.combinations(A_Block['Wrestler'],2)), columns = ['Wrestler 1', 'Wrestler 2'])\n",
    "B_matches = pd.DataFrame.from_records(list(itertools.combinations(B_Block['Wrestler'],2)), columns = ['Wrestler 1', 'Wrestler 2'])\n",
    "A_matches['Winner'] = np.NAN\n",
    "B_matches['Winner'] = np.NAN\n",
    "A_matches['Loser'] = np.NAN\n",
    "B_matches['Loser'] = np.NAN\n",
    "A_matches['Match'] = 1\n",
    "B_matches['Match'] = 1\n",
    "B_matches['Match_Time'] = np.NAN\n",
    "A_matches['Match_Time'] = np.NAN\n",
    "B_matches['Draw'] = False\n",
    "A_matches['Draw'] = False"
   ]
  },
  {
   "cell_type": "code",
   "execution_count": 10,
   "metadata": {
    "scrolled": false
   },
   "outputs": [
    {
     "data": {
      "text/html": [
       "<div>\n",
       "<style>\n",
       "    .dataframe thead tr:only-child th {\n",
       "        text-align: right;\n",
       "    }\n",
       "\n",
       "    .dataframe thead th {\n",
       "        text-align: left;\n",
       "    }\n",
       "\n",
       "    .dataframe tbody tr th {\n",
       "        vertical-align: top;\n",
       "    }\n",
       "</style>\n",
       "<table border=\"1\" class=\"dataframe\">\n",
       "  <thead>\n",
       "    <tr style=\"text-align: right;\">\n",
       "      <th></th>\n",
       "      <th>Wrestler 1</th>\n",
       "      <th>Wrestler 2</th>\n",
       "      <th>Winner</th>\n",
       "      <th>Loser</th>\n",
       "      <th>Match</th>\n",
       "      <th>Match_Time</th>\n",
       "      <th>Draw</th>\n",
       "    </tr>\n",
       "  </thead>\n",
       "  <tbody>\n",
       "    <tr>\n",
       "      <th>0</th>\n",
       "      <td>HIROSHI TANAHASHI</td>\n",
       "      <td>TOGI MAKABE</td>\n",
       "      <td>nan</td>\n",
       "      <td>nan</td>\n",
       "      <td>1</td>\n",
       "      <td>nan</td>\n",
       "      <td>False</td>\n",
       "    </tr>\n",
       "    <tr>\n",
       "      <th>1</th>\n",
       "      <td>HIROSHI TANAHASHI</td>\n",
       "      <td>TOMOHIRO ISHII</td>\n",
       "      <td>nan</td>\n",
       "      <td>nan</td>\n",
       "      <td>1</td>\n",
       "      <td>nan</td>\n",
       "      <td>False</td>\n",
       "    </tr>\n",
       "    <tr>\n",
       "      <th>2</th>\n",
       "      <td>HIROSHI TANAHASHI</td>\n",
       "      <td>HIROOKI GOTO</td>\n",
       "      <td>nan</td>\n",
       "      <td>nan</td>\n",
       "      <td>1</td>\n",
       "      <td>nan</td>\n",
       "      <td>False</td>\n",
       "    </tr>\n",
       "    <tr>\n",
       "      <th>3</th>\n",
       "      <td>HIROSHI TANAHASHI</td>\n",
       "      <td>YOSHI-HASHI</td>\n",
       "      <td>nan</td>\n",
       "      <td>nan</td>\n",
       "      <td>1</td>\n",
       "      <td>nan</td>\n",
       "      <td>False</td>\n",
       "    </tr>\n",
       "    <tr>\n",
       "      <th>4</th>\n",
       "      <td>HIROSHI TANAHASHI</td>\n",
       "      <td>BAD LUCK FALE</td>\n",
       "      <td>nan</td>\n",
       "      <td>nan</td>\n",
       "      <td>1</td>\n",
       "      <td>nan</td>\n",
       "      <td>False</td>\n",
       "    </tr>\n",
       "    <tr>\n",
       "      <th>5</th>\n",
       "      <td>HIROSHI TANAHASHI</td>\n",
       "      <td>YUJI NAGATA</td>\n",
       "      <td>nan</td>\n",
       "      <td>nan</td>\n",
       "      <td>1</td>\n",
       "      <td>nan</td>\n",
       "      <td>False</td>\n",
       "    </tr>\n",
       "    <tr>\n",
       "      <th>6</th>\n",
       "      <td>HIROSHI TANAHASHI</td>\n",
       "      <td>ZACK SABRE JR.</td>\n",
       "      <td>nan</td>\n",
       "      <td>nan</td>\n",
       "      <td>1</td>\n",
       "      <td>nan</td>\n",
       "      <td>False</td>\n",
       "    </tr>\n",
       "    <tr>\n",
       "      <th>7</th>\n",
       "      <td>HIROSHI TANAHASHI</td>\n",
       "      <td>KOTA IBUSHI</td>\n",
       "      <td>nan</td>\n",
       "      <td>nan</td>\n",
       "      <td>1</td>\n",
       "      <td>nan</td>\n",
       "      <td>False</td>\n",
       "    </tr>\n",
       "    <tr>\n",
       "      <th>8</th>\n",
       "      <td>HIROSHI TANAHASHI</td>\n",
       "      <td>TETSUYA NAITO</td>\n",
       "      <td>nan</td>\n",
       "      <td>nan</td>\n",
       "      <td>1</td>\n",
       "      <td>nan</td>\n",
       "      <td>False</td>\n",
       "    </tr>\n",
       "    <tr>\n",
       "      <th>9</th>\n",
       "      <td>TOGI MAKABE</td>\n",
       "      <td>TOMOHIRO ISHII</td>\n",
       "      <td>nan</td>\n",
       "      <td>nan</td>\n",
       "      <td>1</td>\n",
       "      <td>nan</td>\n",
       "      <td>False</td>\n",
       "    </tr>\n",
       "    <tr>\n",
       "      <th>10</th>\n",
       "      <td>TOGI MAKABE</td>\n",
       "      <td>HIROOKI GOTO</td>\n",
       "      <td>nan</td>\n",
       "      <td>nan</td>\n",
       "      <td>1</td>\n",
       "      <td>nan</td>\n",
       "      <td>False</td>\n",
       "    </tr>\n",
       "    <tr>\n",
       "      <th>11</th>\n",
       "      <td>TOGI MAKABE</td>\n",
       "      <td>YOSHI-HASHI</td>\n",
       "      <td>nan</td>\n",
       "      <td>nan</td>\n",
       "      <td>1</td>\n",
       "      <td>nan</td>\n",
       "      <td>False</td>\n",
       "    </tr>\n",
       "    <tr>\n",
       "      <th>12</th>\n",
       "      <td>TOGI MAKABE</td>\n",
       "      <td>BAD LUCK FALE</td>\n",
       "      <td>nan</td>\n",
       "      <td>nan</td>\n",
       "      <td>1</td>\n",
       "      <td>nan</td>\n",
       "      <td>False</td>\n",
       "    </tr>\n",
       "    <tr>\n",
       "      <th>13</th>\n",
       "      <td>TOGI MAKABE</td>\n",
       "      <td>YUJI NAGATA</td>\n",
       "      <td>nan</td>\n",
       "      <td>nan</td>\n",
       "      <td>1</td>\n",
       "      <td>nan</td>\n",
       "      <td>False</td>\n",
       "    </tr>\n",
       "    <tr>\n",
       "      <th>14</th>\n",
       "      <td>TOGI MAKABE</td>\n",
       "      <td>ZACK SABRE JR.</td>\n",
       "      <td>nan</td>\n",
       "      <td>nan</td>\n",
       "      <td>1</td>\n",
       "      <td>nan</td>\n",
       "      <td>False</td>\n",
       "    </tr>\n",
       "    <tr>\n",
       "      <th>15</th>\n",
       "      <td>TOGI MAKABE</td>\n",
       "      <td>KOTA IBUSHI</td>\n",
       "      <td>nan</td>\n",
       "      <td>nan</td>\n",
       "      <td>1</td>\n",
       "      <td>nan</td>\n",
       "      <td>False</td>\n",
       "    </tr>\n",
       "    <tr>\n",
       "      <th>16</th>\n",
       "      <td>TOGI MAKABE</td>\n",
       "      <td>TETSUYA NAITO</td>\n",
       "      <td>nan</td>\n",
       "      <td>nan</td>\n",
       "      <td>1</td>\n",
       "      <td>nan</td>\n",
       "      <td>False</td>\n",
       "    </tr>\n",
       "    <tr>\n",
       "      <th>17</th>\n",
       "      <td>TOMOHIRO ISHII</td>\n",
       "      <td>HIROOKI GOTO</td>\n",
       "      <td>nan</td>\n",
       "      <td>nan</td>\n",
       "      <td>1</td>\n",
       "      <td>nan</td>\n",
       "      <td>False</td>\n",
       "    </tr>\n",
       "    <tr>\n",
       "      <th>18</th>\n",
       "      <td>TOMOHIRO ISHII</td>\n",
       "      <td>YOSHI-HASHI</td>\n",
       "      <td>nan</td>\n",
       "      <td>nan</td>\n",
       "      <td>1</td>\n",
       "      <td>nan</td>\n",
       "      <td>False</td>\n",
       "    </tr>\n",
       "    <tr>\n",
       "      <th>19</th>\n",
       "      <td>TOMOHIRO ISHII</td>\n",
       "      <td>BAD LUCK FALE</td>\n",
       "      <td>nan</td>\n",
       "      <td>nan</td>\n",
       "      <td>1</td>\n",
       "      <td>nan</td>\n",
       "      <td>False</td>\n",
       "    </tr>\n",
       "    <tr>\n",
       "      <th>20</th>\n",
       "      <td>TOMOHIRO ISHII</td>\n",
       "      <td>YUJI NAGATA</td>\n",
       "      <td>nan</td>\n",
       "      <td>nan</td>\n",
       "      <td>1</td>\n",
       "      <td>nan</td>\n",
       "      <td>False</td>\n",
       "    </tr>\n",
       "    <tr>\n",
       "      <th>21</th>\n",
       "      <td>TOMOHIRO ISHII</td>\n",
       "      <td>ZACK SABRE JR.</td>\n",
       "      <td>nan</td>\n",
       "      <td>nan</td>\n",
       "      <td>1</td>\n",
       "      <td>nan</td>\n",
       "      <td>False</td>\n",
       "    </tr>\n",
       "    <tr>\n",
       "      <th>22</th>\n",
       "      <td>TOMOHIRO ISHII</td>\n",
       "      <td>KOTA IBUSHI</td>\n",
       "      <td>nan</td>\n",
       "      <td>nan</td>\n",
       "      <td>1</td>\n",
       "      <td>nan</td>\n",
       "      <td>False</td>\n",
       "    </tr>\n",
       "    <tr>\n",
       "      <th>23</th>\n",
       "      <td>TOMOHIRO ISHII</td>\n",
       "      <td>TETSUYA NAITO</td>\n",
       "      <td>nan</td>\n",
       "      <td>nan</td>\n",
       "      <td>1</td>\n",
       "      <td>nan</td>\n",
       "      <td>False</td>\n",
       "    </tr>\n",
       "    <tr>\n",
       "      <th>24</th>\n",
       "      <td>HIROOKI GOTO</td>\n",
       "      <td>YOSHI-HASHI</td>\n",
       "      <td>nan</td>\n",
       "      <td>nan</td>\n",
       "      <td>1</td>\n",
       "      <td>nan</td>\n",
       "      <td>False</td>\n",
       "    </tr>\n",
       "    <tr>\n",
       "      <th>25</th>\n",
       "      <td>HIROOKI GOTO</td>\n",
       "      <td>BAD LUCK FALE</td>\n",
       "      <td>nan</td>\n",
       "      <td>nan</td>\n",
       "      <td>1</td>\n",
       "      <td>nan</td>\n",
       "      <td>False</td>\n",
       "    </tr>\n",
       "    <tr>\n",
       "      <th>26</th>\n",
       "      <td>HIROOKI GOTO</td>\n",
       "      <td>YUJI NAGATA</td>\n",
       "      <td>nan</td>\n",
       "      <td>nan</td>\n",
       "      <td>1</td>\n",
       "      <td>nan</td>\n",
       "      <td>False</td>\n",
       "    </tr>\n",
       "    <tr>\n",
       "      <th>27</th>\n",
       "      <td>HIROOKI GOTO</td>\n",
       "      <td>ZACK SABRE JR.</td>\n",
       "      <td>nan</td>\n",
       "      <td>nan</td>\n",
       "      <td>1</td>\n",
       "      <td>nan</td>\n",
       "      <td>False</td>\n",
       "    </tr>\n",
       "    <tr>\n",
       "      <th>28</th>\n",
       "      <td>HIROOKI GOTO</td>\n",
       "      <td>KOTA IBUSHI</td>\n",
       "      <td>nan</td>\n",
       "      <td>nan</td>\n",
       "      <td>1</td>\n",
       "      <td>nan</td>\n",
       "      <td>False</td>\n",
       "    </tr>\n",
       "    <tr>\n",
       "      <th>29</th>\n",
       "      <td>HIROOKI GOTO</td>\n",
       "      <td>TETSUYA NAITO</td>\n",
       "      <td>nan</td>\n",
       "      <td>nan</td>\n",
       "      <td>1</td>\n",
       "      <td>nan</td>\n",
       "      <td>False</td>\n",
       "    </tr>\n",
       "    <tr>\n",
       "      <th>30</th>\n",
       "      <td>YOSHI-HASHI</td>\n",
       "      <td>BAD LUCK FALE</td>\n",
       "      <td>nan</td>\n",
       "      <td>nan</td>\n",
       "      <td>1</td>\n",
       "      <td>nan</td>\n",
       "      <td>False</td>\n",
       "    </tr>\n",
       "    <tr>\n",
       "      <th>31</th>\n",
       "      <td>YOSHI-HASHI</td>\n",
       "      <td>YUJI NAGATA</td>\n",
       "      <td>nan</td>\n",
       "      <td>nan</td>\n",
       "      <td>1</td>\n",
       "      <td>nan</td>\n",
       "      <td>False</td>\n",
       "    </tr>\n",
       "    <tr>\n",
       "      <th>32</th>\n",
       "      <td>YOSHI-HASHI</td>\n",
       "      <td>ZACK SABRE JR.</td>\n",
       "      <td>nan</td>\n",
       "      <td>nan</td>\n",
       "      <td>1</td>\n",
       "      <td>nan</td>\n",
       "      <td>False</td>\n",
       "    </tr>\n",
       "    <tr>\n",
       "      <th>33</th>\n",
       "      <td>YOSHI-HASHI</td>\n",
       "      <td>KOTA IBUSHI</td>\n",
       "      <td>nan</td>\n",
       "      <td>nan</td>\n",
       "      <td>1</td>\n",
       "      <td>nan</td>\n",
       "      <td>False</td>\n",
       "    </tr>\n",
       "    <tr>\n",
       "      <th>34</th>\n",
       "      <td>YOSHI-HASHI</td>\n",
       "      <td>TETSUYA NAITO</td>\n",
       "      <td>nan</td>\n",
       "      <td>nan</td>\n",
       "      <td>1</td>\n",
       "      <td>nan</td>\n",
       "      <td>False</td>\n",
       "    </tr>\n",
       "    <tr>\n",
       "      <th>35</th>\n",
       "      <td>BAD LUCK FALE</td>\n",
       "      <td>YUJI NAGATA</td>\n",
       "      <td>nan</td>\n",
       "      <td>nan</td>\n",
       "      <td>1</td>\n",
       "      <td>nan</td>\n",
       "      <td>False</td>\n",
       "    </tr>\n",
       "    <tr>\n",
       "      <th>36</th>\n",
       "      <td>BAD LUCK FALE</td>\n",
       "      <td>ZACK SABRE JR.</td>\n",
       "      <td>nan</td>\n",
       "      <td>nan</td>\n",
       "      <td>1</td>\n",
       "      <td>nan</td>\n",
       "      <td>False</td>\n",
       "    </tr>\n",
       "    <tr>\n",
       "      <th>37</th>\n",
       "      <td>BAD LUCK FALE</td>\n",
       "      <td>KOTA IBUSHI</td>\n",
       "      <td>nan</td>\n",
       "      <td>nan</td>\n",
       "      <td>1</td>\n",
       "      <td>nan</td>\n",
       "      <td>False</td>\n",
       "    </tr>\n",
       "    <tr>\n",
       "      <th>38</th>\n",
       "      <td>BAD LUCK FALE</td>\n",
       "      <td>TETSUYA NAITO</td>\n",
       "      <td>nan</td>\n",
       "      <td>nan</td>\n",
       "      <td>1</td>\n",
       "      <td>nan</td>\n",
       "      <td>False</td>\n",
       "    </tr>\n",
       "    <tr>\n",
       "      <th>39</th>\n",
       "      <td>YUJI NAGATA</td>\n",
       "      <td>ZACK SABRE JR.</td>\n",
       "      <td>nan</td>\n",
       "      <td>nan</td>\n",
       "      <td>1</td>\n",
       "      <td>nan</td>\n",
       "      <td>False</td>\n",
       "    </tr>\n",
       "    <tr>\n",
       "      <th>40</th>\n",
       "      <td>YUJI NAGATA</td>\n",
       "      <td>KOTA IBUSHI</td>\n",
       "      <td>nan</td>\n",
       "      <td>nan</td>\n",
       "      <td>1</td>\n",
       "      <td>nan</td>\n",
       "      <td>False</td>\n",
       "    </tr>\n",
       "    <tr>\n",
       "      <th>41</th>\n",
       "      <td>YUJI NAGATA</td>\n",
       "      <td>TETSUYA NAITO</td>\n",
       "      <td>nan</td>\n",
       "      <td>nan</td>\n",
       "      <td>1</td>\n",
       "      <td>nan</td>\n",
       "      <td>False</td>\n",
       "    </tr>\n",
       "    <tr>\n",
       "      <th>42</th>\n",
       "      <td>ZACK SABRE JR.</td>\n",
       "      <td>KOTA IBUSHI</td>\n",
       "      <td>nan</td>\n",
       "      <td>nan</td>\n",
       "      <td>1</td>\n",
       "      <td>nan</td>\n",
       "      <td>False</td>\n",
       "    </tr>\n",
       "    <tr>\n",
       "      <th>43</th>\n",
       "      <td>ZACK SABRE JR.</td>\n",
       "      <td>TETSUYA NAITO</td>\n",
       "      <td>nan</td>\n",
       "      <td>nan</td>\n",
       "      <td>1</td>\n",
       "      <td>nan</td>\n",
       "      <td>False</td>\n",
       "    </tr>\n",
       "    <tr>\n",
       "      <th>44</th>\n",
       "      <td>KOTA IBUSHI</td>\n",
       "      <td>TETSUYA NAITO</td>\n",
       "      <td>nan</td>\n",
       "      <td>nan</td>\n",
       "      <td>1</td>\n",
       "      <td>nan</td>\n",
       "      <td>False</td>\n",
       "    </tr>\n",
       "  </tbody>\n",
       "</table>\n",
       "</div>"
      ],
      "text/plain": [
       "           Wrestler 1      Wrestler 2  Winner  Loser  Match  Match_Time   Draw\n",
       "0   HIROSHI TANAHASHI     TOGI MAKABE     nan    nan      1         nan  False\n",
       "1   HIROSHI TANAHASHI  TOMOHIRO ISHII     nan    nan      1         nan  False\n",
       "2   HIROSHI TANAHASHI    HIROOKI GOTO     nan    nan      1         nan  False\n",
       "3   HIROSHI TANAHASHI     YOSHI-HASHI     nan    nan      1         nan  False\n",
       "4   HIROSHI TANAHASHI   BAD LUCK FALE     nan    nan      1         nan  False\n",
       "5   HIROSHI TANAHASHI     YUJI NAGATA     nan    nan      1         nan  False\n",
       "6   HIROSHI TANAHASHI  ZACK SABRE JR.     nan    nan      1         nan  False\n",
       "7   HIROSHI TANAHASHI     KOTA IBUSHI     nan    nan      1         nan  False\n",
       "8   HIROSHI TANAHASHI   TETSUYA NAITO     nan    nan      1         nan  False\n",
       "9         TOGI MAKABE  TOMOHIRO ISHII     nan    nan      1         nan  False\n",
       "10        TOGI MAKABE    HIROOKI GOTO     nan    nan      1         nan  False\n",
       "11        TOGI MAKABE     YOSHI-HASHI     nan    nan      1         nan  False\n",
       "12        TOGI MAKABE   BAD LUCK FALE     nan    nan      1         nan  False\n",
       "13        TOGI MAKABE     YUJI NAGATA     nan    nan      1         nan  False\n",
       "14        TOGI MAKABE  ZACK SABRE JR.     nan    nan      1         nan  False\n",
       "15        TOGI MAKABE     KOTA IBUSHI     nan    nan      1         nan  False\n",
       "16        TOGI MAKABE   TETSUYA NAITO     nan    nan      1         nan  False\n",
       "17     TOMOHIRO ISHII    HIROOKI GOTO     nan    nan      1         nan  False\n",
       "18     TOMOHIRO ISHII     YOSHI-HASHI     nan    nan      1         nan  False\n",
       "19     TOMOHIRO ISHII   BAD LUCK FALE     nan    nan      1         nan  False\n",
       "20     TOMOHIRO ISHII     YUJI NAGATA     nan    nan      1         nan  False\n",
       "21     TOMOHIRO ISHII  ZACK SABRE JR.     nan    nan      1         nan  False\n",
       "22     TOMOHIRO ISHII     KOTA IBUSHI     nan    nan      1         nan  False\n",
       "23     TOMOHIRO ISHII   TETSUYA NAITO     nan    nan      1         nan  False\n",
       "24       HIROOKI GOTO     YOSHI-HASHI     nan    nan      1         nan  False\n",
       "25       HIROOKI GOTO   BAD LUCK FALE     nan    nan      1         nan  False\n",
       "26       HIROOKI GOTO     YUJI NAGATA     nan    nan      1         nan  False\n",
       "27       HIROOKI GOTO  ZACK SABRE JR.     nan    nan      1         nan  False\n",
       "28       HIROOKI GOTO     KOTA IBUSHI     nan    nan      1         nan  False\n",
       "29       HIROOKI GOTO   TETSUYA NAITO     nan    nan      1         nan  False\n",
       "30        YOSHI-HASHI   BAD LUCK FALE     nan    nan      1         nan  False\n",
       "31        YOSHI-HASHI     YUJI NAGATA     nan    nan      1         nan  False\n",
       "32        YOSHI-HASHI  ZACK SABRE JR.     nan    nan      1         nan  False\n",
       "33        YOSHI-HASHI     KOTA IBUSHI     nan    nan      1         nan  False\n",
       "34        YOSHI-HASHI   TETSUYA NAITO     nan    nan      1         nan  False\n",
       "35      BAD LUCK FALE     YUJI NAGATA     nan    nan      1         nan  False\n",
       "36      BAD LUCK FALE  ZACK SABRE JR.     nan    nan      1         nan  False\n",
       "37      BAD LUCK FALE     KOTA IBUSHI     nan    nan      1         nan  False\n",
       "38      BAD LUCK FALE   TETSUYA NAITO     nan    nan      1         nan  False\n",
       "39        YUJI NAGATA  ZACK SABRE JR.     nan    nan      1         nan  False\n",
       "40        YUJI NAGATA     KOTA IBUSHI     nan    nan      1         nan  False\n",
       "41        YUJI NAGATA   TETSUYA NAITO     nan    nan      1         nan  False\n",
       "42     ZACK SABRE JR.     KOTA IBUSHI     nan    nan      1         nan  False\n",
       "43     ZACK SABRE JR.   TETSUYA NAITO     nan    nan      1         nan  False\n",
       "44        KOTA IBUSHI   TETSUYA NAITO     nan    nan      1         nan  False"
      ]
     },
     "execution_count": 10,
     "metadata": {},
     "output_type": "execute_result"
    }
   ],
   "source": [
    "A_matches"
   ]
  },
  {
   "cell_type": "markdown",
   "metadata": {},
   "source": [
    "Ok we now have a table of the potential matches, I decided to write a quick function to update the dataframe with the results rather than updating each row manually. I didn't want to type out the full names either as the spellings of Japanese names can be quite hard. So the function does a partial match and prints out the names it's matched as a check"
   ]
  },
  {
   "cell_type": "code",
   "execution_count": 11,
   "metadata": {
    "collapsed": true
   },
   "outputs": [],
   "source": [
    "def updateresults(df,winner,loser, time, draw = False):#We want to find the index for the match for these two wrestlers\n",
    "    winner = winner.upper()\n",
    "    loser = loser.upper()\n",
    "    w1 = list(df[df['Wrestler 1'].str.contains(winner)].index)\n",
    "    w2 = list(df[df['Wrestler 2'].str.contains(winner)].index)\n",
    "    w3 = w1 + w2\n",
    "    if not w1:\n",
    "        winner = df.iloc[w2[0],1]\n",
    "    else:\n",
    "        winner = df.iloc[w1[0],0]\n",
    "\n",
    "    l1 = list(df[df['Wrestler 1'].str.contains(loser)].index)\n",
    "    l2 = list(df[df['Wrestler 2'].str.contains(loser)].index)\n",
    "    l3 = l1 + l2\n",
    "    if not l1:\n",
    "        loser = df.iloc[l2[0],1]\n",
    "    else:\n",
    "        loser = df.iloc[l1[0],0]\n",
    "    i = list(set(w3).intersection(l3))\n",
    "    i = i[0]\n",
    "    print(winner + ',' +loser)\n",
    "    df.iloc[i,5] = time\n",
    "    if draw == False:\n",
    "        df.iloc[i,2] = winner\n",
    "        df.iloc[i,3] = loser\n",
    "    else:\n",
    "        df.iloc[i,2] = 'None'\n",
    "        df.iloc[i,3] = 'None'\n",
    "        df.iloc[i,6] = True       \n",
    "    updatetable()\n",
    "    "
   ]
  },
  {
   "cell_type": "markdown",
   "metadata": {},
   "source": [
    "Update the A block matches with the Day 1 results. Really suprising results with Zack Sabre Jr going over Tanahashi and Testsuya Naito."
   ]
  },
  {
   "cell_type": "code",
   "execution_count": 12,
   "metadata": {},
   "outputs": [],
   "source": [
    "def updatetable():\n",
    "    global A_Block\n",
    "    global B_Block\n",
    "    A_Block['Wins'] = A_Block['Wrestler'].map(A_matches['Winner'].value_counts())\n",
    "    A_Block['Losses'] = A_Block['Wrestler'].map(A_matches['Loser'].value_counts())\n",
    "    A_Block = A_Block.fillna(0)#replace the nan's with zeroes so we can tally later\n",
    "    A_Block['Matches'] = A_Block['Wins'] + A_Block['Losses']\n",
    "    A_Block['Points'] = A_Block['Wins']*2\n",
    "    A_Block = A_Block.sort_values(['Points'],ascending=False).reset_index(drop=True)\n",
    "    B_Block['Wins'] = B_Block['Wrestler'].map(B_matches['Winner'].value_counts())\n",
    "    B_Block['Losses'] = B_Block['Wrestler'].map(B_matches['Loser'].value_counts())\n",
    "    B_Block = B_Block.fillna(0)\n",
    "    B_Block['Matches'] = B_Block['Wins'] + B_Block['Losses']\n",
    "    B_Block = B_Block[['Wrestler','Matches','Wins','Losses']]\n",
    "    B_Block['Points'] = B_Block['Wins']*2\n",
    "    B_Block = B_Block.sort_values(['Points'],ascending=False).reset_index(drop=True)"
   ]
  },
  {
   "cell_type": "code",
   "execution_count": 13,
   "metadata": {},
   "outputs": [
    {
     "name": "stdout",
     "output_type": "stream",
     "text": [
      "ZACK SABRE JR.,HIROSHI TANAHASHI\n",
      "YOSHI-HASHI,YUJI NAGATA\n",
      "BAD LUCK FALE,TOGI MAKABE\n",
      "HIROOKI GOTO,TOMOHIRO ISHII\n",
      "TETSUYA NAITO,KOTA IBUSHI\n"
     ]
    }
   ],
   "source": [
    "updateresults(A_matches, 'Zack', 'Tanahashi', '17:18')\n",
    "updateresults(A_matches, 'YOSHI', 'Nagata', '16:29')\n",
    "updateresults(A_matches, 'Fale', 'Togi', '09:25')\n",
    "updateresults(A_matches, 'Hirooki', 'Tomohiro', '13:43')\n",
    "updateresults(A_matches, 'Tetsuya', 'Kota', '24:41')"
   ]
  },
  {
   "cell_type": "markdown",
   "metadata": {},
   "source": [
    "Update the B block matches, no surprises with Okada and Omega going over. I expect one of them to be in the final"
   ]
  },
  {
   "cell_type": "code",
   "execution_count": 14,
   "metadata": {},
   "outputs": [
    {
     "name": "stdout",
     "output_type": "stream",
     "text": [
      "JUICE ROBINSON,SATOSHI KOJIMA\n",
      "TAMA TONGA,MICHAEL ELGIN\n",
      "SANADA,EVIL\n",
      "KAZUCHIKA OKADA,TORU YANO\n",
      "KENNY OMEGA,MINORU SUZUKI\n"
     ]
    }
   ],
   "source": [
    "updateresults(B_matches,'Juice','Satoshi', '11:48')\n",
    "updateresults(B_matches,'Tonga','Elgin', '13:46')\n",
    "updateresults(B_matches,'Sanada','Evil','15:48')\n",
    "updateresults(B_matches,'Okada','Yano', '10:31')\n",
    "updateresults(B_matches,'Omega','Suzuki','21:24')"
   ]
  },
  {
   "cell_type": "markdown",
   "metadata": {},
   "source": [
    "Now that we've got some results, let's update the A block and B block tables that summarise the current standings. I was looking for the equivalent of Excel's countif and found that you can the Series.map function. In the tournamenet a win counts as 2 points, tie counts as 1(having factored this in yet) and 0 points for a loss. This can be a function I think that updates"
   ]
  },
  {
   "cell_type": "code",
   "execution_count": 15,
   "metadata": {
    "collapsed": true
   },
   "outputs": [],
   "source": [
    "updatetable()"
   ]
  },
  {
   "cell_type": "code",
   "execution_count": 16,
   "metadata": {
    "scrolled": false
   },
   "outputs": [
    {
     "data": {
      "image/png": "[encoded data removed]",
      "text/plain": [
       "<matplotlib.figure.Figure at 0x22d91283c18>"
      ]
     },
     "metadata": {},
     "output_type": "display_data"
    },
    {
     "data": {
      "image/png": "[encoded data removed]",
      "text/plain": [
       "<matplotlib.figure.Figure at 0x22d91741390>"
      ]
     },
     "metadata": {},
     "output_type": "display_data"
    }
   ],
   "source": [
    "\n",
    "ax= sns.barplot(y='Wrestler', x='Points', data=A_Block, color= 'Red')\n",
    "ax.set_xlim(0,18)\n",
    "sns.despine()\n",
    "ax.set_ylabel('')\n",
    "ax.set_xlabel('points')\n",
    "ax.set_title('A Block')\n",
    "plt.show()\n",
    "ax= sns.barplot(y='Wrestler', x='Points', data=B_Block,  color= 'Blue')\n",
    "ax.set_xlim(0,18)\n",
    "sns.despine()\n",
    "ax.set_ylabel('') \n",
    "ax.set_xlabel('points')\n",
    "ax.set_title('B Block')\n",
    "plt.show()"
   ]
  },
  {
   "cell_type": "code",
   "execution_count": 17,
   "metadata": {},
   "outputs": [
    {
     "name": "stdout",
     "output_type": "stream",
     "text": [
      "HIROOKI GOTO,YUJI NAGATA\n",
      "TOMOHIRO ISHII,TOGI MAKABE\n",
      "KOTA IBUSHI,ZACK SABRE JR.\n",
      "HIROSHI TANAHASHI,BAD LUCK FALE\n",
      "TETSUYA NAITO,YOSHI-HASHI\n"
     ]
    }
   ],
   "source": [
    "updateresults(A_matches, 'Hirooki', 'Nagata', '15:02')# Day3\n",
    "updateresults(A_matches,'ISHII', 'Togi', '15:51')\n",
    "updateresults(A_matches,'Ibushi', 'Zack', '15:51')\n",
    "updateresults(A_matches,'Tanaha', 'Fale', '11:05')\n",
    "updateresults(A_matches,'Tetsuya', 'Yoshi', '22:19')"
   ]
  },
  {
   "cell_type": "code",
   "execution_count": 18,
   "metadata": {},
   "outputs": [
    {
     "name": "stdout",
     "output_type": "stream",
     "text": [
      "TORU YANO,SATOSHI KOJIMA\n",
      "EVIL,JUICE ROBINSON\n",
      "KENNY OMEGA,TAMA TONGA\n",
      "KAZUCHIKA OKADA,MICHAEL ELGIN\n",
      "MINORU SUZUKI,SANADA\n"
     ]
    }
   ],
   "source": [
    "updateresults(B_matches, 'Yano', 'Kojima','09:12') # Day 4\n",
    "updateresults(B_matches, 'Evil', 'Juice','11:46')\n",
    "updateresults(B_matches, 'Omega', 'Tama','11:42')\n",
    "updateresults(B_matches, 'Okada', 'Elgin','25:49')\n",
    "updateresults(B_matches, 'Suzuki', 'Sanada','11:22')"
   ]
  },
  {
   "cell_type": "code",
   "execution_count": 19,
   "metadata": {},
   "outputs": [
    {
     "name": "stdout",
     "output_type": "stream",
     "text": [
      "ZACK SABRE JR.,YOSHI-HASHI\n",
      "HIROSHI TANAHASHI,YUJI NAGATA\n",
      "BAD LUCK FALE,TETSUYA NAITO\n",
      "KOTA IBUSHI,TOMOHIRO ISHII\n",
      "TOGI MAKABE,HIROOKI GOTO\n"
     ]
    }
   ],
   "source": [
    "updateresults(A_matches, 'Zack', 'Yoshi','11:48') # Day 5\n",
    "updateresults(A_matches, 'Hiroshi', 'YUji', '14:47')\n",
    "updateresults(A_matches, 'Fale', 'Tetsuya', '11:55')\n",
    "updateresults(A_matches, 'Kota', 'Ishii', '17:14')\n",
    "updateresults(A_matches, 'Togi', 'Hirooki','16:55')"
   ]
  },
  {
   "cell_type": "code",
   "execution_count": 20,
   "metadata": {},
   "outputs": [
    {
     "name": "stdout",
     "output_type": "stream",
     "text": [
      "MICHAEL ELGIN,SATOSHI KOJIMA\n",
      "EVIL,TAMA TONGA\n",
      "KENNY OMEGA,TORU YANO\n",
      "KAZUCHIKA OKADA,SANADA\n",
      "MINORU SUZUKI,JUICE ROBINSON\n"
     ]
    }
   ],
   "source": [
    "updateresults(B_matches, 'Elgin', 'Kojima','13:09') # Day 6\n",
    "updateresults(B_matches, 'Evil', 'Tonga','10:27')\n",
    "updateresults(B_matches, 'Omega', 'Yano', '11:31')\n",
    "updateresults(B_matches, 'Okada', 'Sanada', '20:49')\n",
    "updateresults(B_matches, 'Suzuki', 'Juice', '11:23')"
   ]
  },
  {
   "cell_type": "code",
   "execution_count": 21,
   "metadata": {},
   "outputs": [
    {
     "name": "stdout",
     "output_type": "stream",
     "text": [
      "TOMOHIRO ISHII,YOSHI-HASHI\n",
      "HIROSHI TANAHASHI,HIROOKI GOTO\n",
      "ZACK SABRE JR.,BAD LUCK FALE\n",
      "TOGI MAKABE,KOTA IBUSHI\n",
      "TETSUYA NAITO,YUJI NAGATA\n"
     ]
    }
   ],
   "source": [
    "updateresults(A_matches, 'Ishii', 'Yoshi', '15:43') # Day 7\n",
    "updateresults(A_matches, 'Hiroshi', 'hirooki', '17:22')\n",
    "updateresults(A_matches, 'Zack', 'Fale', '09:02')\n",
    "updateresults(A_matches, 'Togi', 'Kota', '13:20')\n",
    "updateresults(A_matches, 'Tetsuya', 'Nagata', '15:16')"
   ]
  },
  {
   "cell_type": "code",
   "execution_count": 22,
   "metadata": {},
   "outputs": [
    {
     "name": "stdout",
     "output_type": "stream",
     "text": [
      "KAZUCHIKA OKADA,SATOSHI KOJIMA\n",
      "TAMA TONGA,JUICE ROBINSON\n",
      "MICHAEL ELGIN,KENNY OMEGA\n",
      "SANADA,TORU YANO\n",
      "EVIL,MINORU SUZUKI\n"
     ]
    }
   ],
   "source": [
    "updateresults(B_matches, 'Okada', 'Kojima', '15:26') # Day 8\n",
    "updateresults(B_matches, 'Tonga', 'Juice','10:36')\n",
    "updateresults(B_matches, 'Elgin', 'Omega', '24:39')\n",
    "updateresults(B_matches, 'Sanada', 'Toru', '04:33')\n",
    "updateresults(B_matches, 'Evil', 'Suzuki', '08:38')"
   ]
  },
  {
   "cell_type": "code",
   "execution_count": 23,
   "metadata": {},
   "outputs": [
    {
     "name": "stdout",
     "output_type": "stream",
     "text": [
      "HIROSHI TANAHASHI,YOSHI-HASHI\n",
      "HIROOKI GOTO,ZACK SABRE JR.\n",
      "BAD LUCK FALE,KOTA IBUSHI\n",
      "TOGI MAKABE,YUJI NAGATA\n",
      "TOMOHIRO ISHII,TETSUYA NAITO\n"
     ]
    }
   ],
   "source": [
    "updateresults(A_matches, 'Hiroshi', 'Yoshi', '13:34') # Day 9\n",
    "updateresults(A_matches, 'Hirooki', 'Zack','10:10')\n",
    "updateresults(A_matches, 'Fale', 'Kota', '11:37')\n",
    "updateresults(A_matches, 'Togi', 'Nagata', '10:45')\n",
    "updateresults(A_matches, 'Ishii', 'Tetsuya', '20:58')"
   ]
  },
  {
   "cell_type": "code",
   "execution_count": 24,
   "metadata": {},
   "outputs": [
    {
     "name": "stdout",
     "output_type": "stream",
     "text": [
      "KAZUCHIKA OKADA,JUICE ROBINSON\n",
      "EVIL,TORU YANO\n",
      "SANADA,MICHAEL ELGIN\n",
      "KENNY OMEGA,SATOSHI KOJIMA\n",
      "MINORU SUZUKI,TAMA TONGA\n"
     ]
    }
   ],
   "source": [
    "updateresults(B_matches, 'Okada', 'Juice', '20:29') # Day 10\n",
    "updateresults(B_matches, 'Evil', 'Yano', '01:33')\n",
    "updateresults(B_matches, 'Sanada', 'Elgin', '15:06')\n",
    "updateresults(B_matches, 'Omega', 'Kojima','12:42')\n",
    "updateresults(B_matches, 'Suzuki', 'Tama','10:22')"
   ]
  },
  {
   "cell_type": "code",
   "execution_count": 25,
   "metadata": {},
   "outputs": [
    {
     "name": "stdout",
     "output_type": "stream",
     "text": [
      "YOSHI-HASHI,BAD LUCK FALE\n",
      "ZACK SABRE JR.,TOGI MAKABE\n",
      "TOMOHIRO ISHII,YUJI NAGATA\n",
      "TETSUYA NAITO,HIROOKI GOTO\n",
      "KOTA IBUSHI,HIROSHI TANAHASHI\n"
     ]
    }
   ],
   "source": [
    "updateresults(A_matches, 'Yoshi', 'Fale', '10:21')# Day 11\n",
    "updateresults(A_matches, 'Zack', 'Togi', '09:30')\n",
    "updateresults(A_matches, 'Ishii', 'Nagata', '13:51')\n",
    "updateresults(A_matches, 'Naito', 'Goto', '13:30')\n",
    "updateresults(A_matches, 'Ibushi', 'Hiroshi', '20:40') "
   ]
  },
  {
   "cell_type": "code",
   "execution_count": 26,
   "metadata": {},
   "outputs": [
    {
     "name": "stdout",
     "output_type": "stream",
     "text": [
      "SANADA,JUICE ROBINSON\n",
      "TORU YANO,MICHAEL ELGIN\n",
      "MINORU SUZUKI,SATOSHI KOJIMA\n",
      "KAZUCHIKA OKADA,TAMA TONGA\n",
      "KENNY OMEGA,EVIL\n"
     ]
    }
   ],
   "source": [
    "updateresults(B_matches, 'Sanada', 'Juice', '13:48') # Day 12\n",
    "updateresults(B_matches, 'Yano', 'Elgin', '02:58')\n",
    "updateresults(B_matches, 'Suzuki', 'Kojima', '10:13')\n",
    "updateresults(B_matches, 'Okada', 'Tonga','11:22')\n",
    "updateresults(B_matches, 'Omega', 'Evil','23:33')"
   ]
  },
  {
   "cell_type": "code",
   "execution_count": 27,
   "metadata": {},
   "outputs": [
    {
     "name": "stdout",
     "output_type": "stream",
     "text": [
      "KOTA IBUSHI,YUJI NAGATA\n",
      "BAD LUCK FALE,TOMOHIRO ISHII\n",
      "TETSUYA NAITO,ZACK SABRE JR.\n",
      "HIROOKI GOTO,YOSHI-HASHI\n",
      "HIROSHI TANAHASHI,TOGI MAKABE\n"
     ]
    }
   ],
   "source": [
    "updateresults(A_matches, 'Ibushi', 'Nagata', '15:54') # Day 13\n",
    "updateresults(A_matches, 'Fale', 'ishii', '11:58')\n",
    "updateresults(A_matches, 'Naito', 'Zack', '14:20')\n",
    "updateresults(A_matches, 'Goto', 'Yoshi', '11:26')\n",
    "updateresults(A_matches, 'Tanahashi', 'Togi', '13:34')"
   ]
  },
  {
   "cell_type": "code",
   "execution_count": 28,
   "metadata": {},
   "outputs": [
    {
     "name": "stdout",
     "output_type": "stream",
     "text": [
      "TORU YANO,TAMA TONGA\n",
      "SATOSHI KOJIMA,SANADA\n",
      "MICHAEL ELGIN,MINORU SUZUKI\n",
      "JUICE ROBINSON,KENNY OMEGA\n",
      "EVIL,KAZUCHIKA OKADA\n"
     ]
    }
   ],
   "source": [
    "updateresults(B_matches, 'Yano', 'Tonga', '03:15') # Day 14\n",
    "updateresults(B_matches, 'Satoshi', 'Sanada', '12:09')\n",
    "updateresults(B_matches, 'Elgin', 'Suzuki', '11:13')\n",
    "updateresults(B_matches, 'Juice', 'Omega','15:36')\n",
    "updateresults(B_matches, 'Evil', 'Okada','22:47')"
   ]
  },
  {
   "cell_type": "code",
   "execution_count": 29,
   "metadata": {},
   "outputs": [
    {
     "name": "stdout",
     "output_type": "stream",
     "text": [
      "YUJI NAGATA,ZACK SABRE JR.\n",
      "KOTA IBUSHI,YOSHI-HASHI\n",
      "BAD LUCK FALE,HIROOKI GOTO\n",
      "TETSUYA NAITO,TOGI MAKABE\n",
      "HIROSHI TANAHASHI,TOMOHIRO ISHII\n"
     ]
    }
   ],
   "source": [
    "updateresults(A_matches, 'Nagata', 'Zack', '15:08') # Day 15\n",
    "updateresults(A_matches, 'Ibushi', 'Yoshi', '14:28') \n",
    "updateresults(A_matches, 'Fale', 'Goto', '9:34')\n",
    "updateresults(A_matches, 'Naito', 'Makabe', '11:31')\n",
    "updateresults(A_matches, 'Tanahashi', 'Ishii', '23:30')"
   ]
  },
  {
   "cell_type": "code",
   "execution_count": 30,
   "metadata": {},
   "outputs": [
    {
     "name": "stdout",
     "output_type": "stream",
     "text": [
      "TAMA TONGA,SATOSHI KOJIMA\n",
      "JUICE ROBINSON,TORU YANO\n",
      "MICHAEL ELGIN,EVIL\n",
      "KENNY OMEGA,SANADA\n",
      "KAZUCHIKA OKADA,MINORU SUZUKI\n"
     ]
    }
   ],
   "source": [
    "updateresults(B_matches, 'Tonga', 'Koji', '10:43') # Day 16\n",
    "updateresults(B_matches, 'Juice', 'Yano', '04:25')\n",
    "updateresults(B_matches, 'Elgin', 'Evil', '11:07')\n",
    "updateresults(B_matches, 'Omega', 'Sanada','15:03')\n",
    "updateresults(B_matches, 'Okada', 'Suzuki','30:00',True)"
   ]
  },
  {
   "cell_type": "code",
   "execution_count": 31,
   "metadata": {},
   "outputs": [
    {
     "name": "stdout",
     "output_type": "stream",
     "text": [
      "BAD LUCK FALE,YUJI NAGATA\n",
      "TOGI MAKABE,YOSHI-HASHI\n",
      "ZACK SABRE JR.,TOMOHIRO ISHII\n",
      "HIROOKI GOTO,KOTA IBUSHI\n",
      "TETSUYA NAITO,HIROSHI TANAHASHI\n"
     ]
    }
   ],
   "source": [
    "updateresults(A_matches, 'Fale', 'Nagata', '11:56') # Day 17\n",
    "updateresults(A_matches, 'Makabe', 'Yoshi', '11:28') \n",
    "updateresults(A_matches, 'Zack', 'Ishii', '15:22')\n",
    "updateresults(A_matches, 'Goto', 'Ibushi', '11:03')\n",
    "updateresults(A_matches, 'Naito', 'Tanahashi', '26:41')"
   ]
  },
  {
   "cell_type": "code",
   "execution_count": 32,
   "metadata": {},
   "outputs": [
    {
     "name": "stdout",
     "output_type": "stream",
     "text": [
      "JUICE ROBINSON,MICHAEL ELGIN\n",
      "TAMA TONGA,SANADA\n",
      "TORU YANO,MINORU SUZUKI\n",
      "EVIL,SATOSHI KOJIMA\n",
      "KENNY OMEGA,KAZUCHIKA OKADA\n"
     ]
    }
   ],
   "source": [
    "updateresults(B_matches, 'Juice', 'Elgin', '11:48') # Day 18\n",
    "updateresults(B_matches, 'Tonga', 'Sanada', '11:59')\n",
    "updateresults(B_matches, 'Yano', 'Suzuki', '06:56')\n",
    "updateresults(B_matches, 'Evil', 'Satoshi','14:23')\n",
    "updateresults(B_matches, 'Omega', 'Okada','24:40')"
   ]
  },
  {
   "cell_type": "code",
   "execution_count": 33,
   "metadata": {},
   "outputs": [
    {
     "data": {
      "text/plain": [
       "HIROSHI TANAHASHI    9\n",
       "TOGI MAKABE          8\n",
       "TOMOHIRO ISHII       7\n",
       "HIROOKI GOTO         6\n",
       "YOSHI-HASHI          5\n",
       "BAD LUCK FALE        4\n",
       "YUJI NAGATA          3\n",
       "ZACK SABRE JR.       2\n",
       "KOTA IBUSHI          1\n",
       "Name: Wrestler 1, dtype: int64"
      ]
     },
     "execution_count": 33,
     "metadata": {},
     "output_type": "execute_result"
    }
   ],
   "source": [
    "A_matches['Wrestler 1'].value_counts()"
   ]
  },
  {
   "cell_type": "code",
   "execution_count": null,
   "metadata": {},
   "outputs": [],
   "source": [
    "A_Block['Wrestler'].map(A_matches['Winner'].value_counts())"
   ]
  },
  {
   "cell_type": "code",
   "execution_count": null,
   "metadata": {},
   "outputs": [],
   "source": [
    "\n",
    "B_matches[['Wrestler 1',B_matches.Draw == True]].groupby('Wrestler 1').count()"
   ]
  },
  {
   "cell_type": "code",
   "execution_count": null,
   "metadata": {},
   "outputs": [],
   "source": [
    "x = B_matches[B_matches.Draw == True]\n",
    "x[['Wrestler 1','Draw']].groupby('Wrestler 1').count()"
   ]
  },
  {
   "cell_type": "code",
   "execution_count": 36,
   "metadata": {},
   "outputs": [
    {
     "ename": "TypeError",
     "evalue": "unsupported operand type(s) for +: 'datetime.time' and 'datetime.time'",
     "output_type": "error",
     "traceback": [
      "\u001b[1;31m---------------------------------------------------------------------------\u001b[0m",
      "\u001b[1;31mTypeError\u001b[0m                                 Traceback (most recent call last)",
      "\u001b[1;32mC:\\Users\\SS\\Anaconda3\\lib\\site-packages\\pandas\\core\\nanops.py\u001b[0m in \u001b[0;36mf\u001b[1;34m(values, axis, skipna, **kwds)\u001b[0m\n\u001b[0;32m    118\u001b[0m                 \u001b[1;32melse\u001b[0m\u001b[1;33m:\u001b[0m\u001b[1;33m\u001b[0m\u001b[0m\n\u001b[1;32m--> 119\u001b[1;33m                     \u001b[0mresult\u001b[0m \u001b[1;33m=\u001b[0m \u001b[0malt\u001b[0m\u001b[1;33m(\u001b[0m\u001b[0mvalues\u001b[0m\u001b[1;33m,\u001b[0m \u001b[0maxis\u001b[0m\u001b[1;33m=\u001b[0m\u001b[0maxis\u001b[0m\u001b[1;33m,\u001b[0m \u001b[0mskipna\u001b[0m\u001b[1;33m=\u001b[0m\u001b[0mskipna\u001b[0m\u001b[1;33m,\u001b[0m \u001b[1;33m**\u001b[0m\u001b[0mkwds\u001b[0m\u001b[1;33m)\u001b[0m\u001b[1;33m\u001b[0m\u001b[0m\n\u001b[0m\u001b[0;32m    120\u001b[0m             \u001b[1;32mexcept\u001b[0m \u001b[0mException\u001b[0m\u001b[1;33m:\u001b[0m\u001b[1;33m\u001b[0m\u001b[0m\n",
      "\u001b[1;32mC:\\Users\\SS\\Anaconda3\\lib\\site-packages\\pandas\\core\\nanops.py\u001b[0m in \u001b[0;36mnansum\u001b[1;34m(values, axis, skipna)\u001b[0m\n\u001b[0;32m    292\u001b[0m         \u001b[0mdtype_sum\u001b[0m \u001b[1;33m=\u001b[0m \u001b[0mnp\u001b[0m\u001b[1;33m.\u001b[0m\u001b[0mfloat64\u001b[0m\u001b[1;33m\u001b[0m\u001b[0m\n\u001b[1;32m--> 293\u001b[1;33m     \u001b[0mthe_sum\u001b[0m \u001b[1;33m=\u001b[0m \u001b[0mvalues\u001b[0m\u001b[1;33m.\u001b[0m\u001b[0msum\u001b[0m\u001b[1;33m(\u001b[0m\u001b[0maxis\u001b[0m\u001b[1;33m,\u001b[0m \u001b[0mdtype\u001b[0m\u001b[1;33m=\u001b[0m\u001b[0mdtype_sum\u001b[0m\u001b[1;33m)\u001b[0m\u001b[1;33m\u001b[0m\u001b[0m\n\u001b[0m\u001b[0;32m    294\u001b[0m     \u001b[0mthe_sum\u001b[0m \u001b[1;33m=\u001b[0m \u001b[0m_maybe_null_out\u001b[0m\u001b[1;33m(\u001b[0m\u001b[0mthe_sum\u001b[0m\u001b[1;33m,\u001b[0m \u001b[0maxis\u001b[0m\u001b[1;33m,\u001b[0m \u001b[0mmask\u001b[0m\u001b[1;33m)\u001b[0m\u001b[1;33m\u001b[0m\u001b[0m\n",
      "\u001b[1;32mC:\\Users\\SS\\Anaconda3\\lib\\site-packages\\numpy\\core\\_methods.py\u001b[0m in \u001b[0;36m_sum\u001b[1;34m(a, axis, dtype, out, keepdims)\u001b[0m\n\u001b[0;32m     31\u001b[0m \u001b[1;32mdef\u001b[0m \u001b[0m_sum\u001b[0m\u001b[1;33m(\u001b[0m\u001b[0ma\u001b[0m\u001b[1;33m,\u001b[0m \u001b[0maxis\u001b[0m\u001b[1;33m=\u001b[0m\u001b[1;32mNone\u001b[0m\u001b[1;33m,\u001b[0m \u001b[0mdtype\u001b[0m\u001b[1;33m=\u001b[0m\u001b[1;32mNone\u001b[0m\u001b[1;33m,\u001b[0m \u001b[0mout\u001b[0m\u001b[1;33m=\u001b[0m\u001b[1;32mNone\u001b[0m\u001b[1;33m,\u001b[0m \u001b[0mkeepdims\u001b[0m\u001b[1;33m=\u001b[0m\u001b[1;32mFalse\u001b[0m\u001b[1;33m)\u001b[0m\u001b[1;33m:\u001b[0m\u001b[1;33m\u001b[0m\u001b[0m\n\u001b[1;32m---> 32\u001b[1;33m     \u001b[1;32mreturn\u001b[0m \u001b[0mumr_sum\u001b[0m\u001b[1;33m(\u001b[0m\u001b[0ma\u001b[0m\u001b[1;33m,\u001b[0m \u001b[0maxis\u001b[0m\u001b[1;33m,\u001b[0m \u001b[0mdtype\u001b[0m\u001b[1;33m,\u001b[0m \u001b[0mout\u001b[0m\u001b[1;33m,\u001b[0m \u001b[0mkeepdims\u001b[0m\u001b[1;33m)\u001b[0m\u001b[1;33m\u001b[0m\u001b[0m\n\u001b[0m\u001b[0;32m     33\u001b[0m \u001b[1;33m\u001b[0m\u001b[0m\n",
      "\u001b[1;31mTypeError\u001b[0m: unsupported operand type(s) for +: 'datetime.time' and 'datetime.time'",
      "\nDuring handling of the above exception, another exception occurred:\n",
      "\u001b[1;31mTypeError\u001b[0m                                 Traceback (most recent call last)",
      "\u001b[1;32m<ipython-input-36-4204706e8f59>\u001b[0m in \u001b[0;36m<module>\u001b[1;34m()\u001b[0m\n\u001b[1;32m----> 1\u001b[1;33m \u001b[0mA_matches\u001b[0m\u001b[1;33m[\u001b[0m\u001b[1;34m'Match_Time'\u001b[0m\u001b[1;33m]\u001b[0m\u001b[1;33m.\u001b[0m\u001b[0msum\u001b[0m\u001b[1;33m(\u001b[0m\u001b[1;33m)\u001b[0m\u001b[1;33m\u001b[0m\u001b[0m\n\u001b[0m",
      "\u001b[1;32mC:\\Users\\SS\\Anaconda3\\lib\\site-packages\\pandas\\core\\generic.py\u001b[0m in \u001b[0;36mstat_func\u001b[1;34m(self, axis, skipna, level, numeric_only, **kwargs)\u001b[0m\n\u001b[0;32m   6195\u001b[0m                                       skipna=skipna)\n\u001b[0;32m   6196\u001b[0m         return self._reduce(f, name, axis=axis, skipna=skipna,\n\u001b[1;32m-> 6197\u001b[1;33m                             numeric_only=numeric_only)\n\u001b[0m\u001b[0;32m   6198\u001b[0m \u001b[1;33m\u001b[0m\u001b[0m\n\u001b[0;32m   6199\u001b[0m     \u001b[1;32mreturn\u001b[0m \u001b[0mset_function_name\u001b[0m\u001b[1;33m(\u001b[0m\u001b[0mstat_func\u001b[0m\u001b[1;33m,\u001b[0m \u001b[0mname\u001b[0m\u001b[1;33m,\u001b[0m \u001b[0mcls\u001b[0m\u001b[1;33m)\u001b[0m\u001b[1;33m\u001b[0m\u001b[0m\n",
      "\u001b[1;32mC:\\Users\\SS\\Anaconda3\\lib\\site-packages\\pandas\\core\\series.py\u001b[0m in \u001b[0;36m_reduce\u001b[1;34m(self, op, name, axis, skipna, numeric_only, filter_type, **kwds)\u001b[0m\n\u001b[0;32m   2379\u001b[0m                                           'numeric_only.'.format(name))\n\u001b[0;32m   2380\u001b[0m             \u001b[1;32mwith\u001b[0m \u001b[0mnp\u001b[0m\u001b[1;33m.\u001b[0m\u001b[0merrstate\u001b[0m\u001b[1;33m(\u001b[0m\u001b[0mall\u001b[0m\u001b[1;33m=\u001b[0m\u001b[1;34m'ignore'\u001b[0m\u001b[1;33m)\u001b[0m\u001b[1;33m:\u001b[0m\u001b[1;33m\u001b[0m\u001b[0m\n\u001b[1;32m-> 2381\u001b[1;33m                 \u001b[1;32mreturn\u001b[0m \u001b[0mop\u001b[0m\u001b[1;33m(\u001b[0m\u001b[0mdelegate\u001b[0m\u001b[1;33m,\u001b[0m \u001b[0mskipna\u001b[0m\u001b[1;33m=\u001b[0m\u001b[0mskipna\u001b[0m\u001b[1;33m,\u001b[0m \u001b[1;33m**\u001b[0m\u001b[0mkwds\u001b[0m\u001b[1;33m)\u001b[0m\u001b[1;33m\u001b[0m\u001b[0m\n\u001b[0m\u001b[0;32m   2382\u001b[0m \u001b[1;33m\u001b[0m\u001b[0m\n\u001b[0;32m   2383\u001b[0m         return delegate._reduce(op=op, name=name, axis=axis, skipna=skipna,\n",
      "\u001b[1;32mC:\\Users\\SS\\Anaconda3\\lib\\site-packages\\pandas\\core\\nanops.py\u001b[0m in \u001b[0;36m_f\u001b[1;34m(*args, **kwargs)\u001b[0m\n\u001b[0;32m     60\u001b[0m             \u001b[1;32mtry\u001b[0m\u001b[1;33m:\u001b[0m\u001b[1;33m\u001b[0m\u001b[0m\n\u001b[0;32m     61\u001b[0m                 \u001b[1;32mwith\u001b[0m \u001b[0mnp\u001b[0m\u001b[1;33m.\u001b[0m\u001b[0merrstate\u001b[0m\u001b[1;33m(\u001b[0m\u001b[0minvalid\u001b[0m\u001b[1;33m=\u001b[0m\u001b[1;34m'ignore'\u001b[0m\u001b[1;33m)\u001b[0m\u001b[1;33m:\u001b[0m\u001b[1;33m\u001b[0m\u001b[0m\n\u001b[1;32m---> 62\u001b[1;33m                     \u001b[1;32mreturn\u001b[0m \u001b[0mf\u001b[0m\u001b[1;33m(\u001b[0m\u001b[1;33m*\u001b[0m\u001b[0margs\u001b[0m\u001b[1;33m,\u001b[0m \u001b[1;33m**\u001b[0m\u001b[0mkwargs\u001b[0m\u001b[1;33m)\u001b[0m\u001b[1;33m\u001b[0m\u001b[0m\n\u001b[0m\u001b[0;32m     63\u001b[0m             \u001b[1;32mexcept\u001b[0m \u001b[0mValueError\u001b[0m \u001b[1;32mas\u001b[0m \u001b[0me\u001b[0m\u001b[1;33m:\u001b[0m\u001b[1;33m\u001b[0m\u001b[0m\n\u001b[0;32m     64\u001b[0m                 \u001b[1;31m# we want to transform an object array\u001b[0m\u001b[1;33m\u001b[0m\u001b[1;33m\u001b[0m\u001b[0m\n",
      "\u001b[1;32mC:\\Users\\SS\\Anaconda3\\lib\\site-packages\\pandas\\core\\nanops.py\u001b[0m in \u001b[0;36mf\u001b[1;34m(values, axis, skipna, **kwds)\u001b[0m\n\u001b[0;32m    120\u001b[0m             \u001b[1;32mexcept\u001b[0m \u001b[0mException\u001b[0m\u001b[1;33m:\u001b[0m\u001b[1;33m\u001b[0m\u001b[0m\n\u001b[0;32m    121\u001b[0m                 \u001b[1;32mtry\u001b[0m\u001b[1;33m:\u001b[0m\u001b[1;33m\u001b[0m\u001b[0m\n\u001b[1;32m--> 122\u001b[1;33m                     \u001b[0mresult\u001b[0m \u001b[1;33m=\u001b[0m \u001b[0malt\u001b[0m\u001b[1;33m(\u001b[0m\u001b[0mvalues\u001b[0m\u001b[1;33m,\u001b[0m \u001b[0maxis\u001b[0m\u001b[1;33m=\u001b[0m\u001b[0maxis\u001b[0m\u001b[1;33m,\u001b[0m \u001b[0mskipna\u001b[0m\u001b[1;33m=\u001b[0m\u001b[0mskipna\u001b[0m\u001b[1;33m,\u001b[0m \u001b[1;33m**\u001b[0m\u001b[0mkwds\u001b[0m\u001b[1;33m)\u001b[0m\u001b[1;33m\u001b[0m\u001b[0m\n\u001b[0m\u001b[0;32m    123\u001b[0m                 \u001b[1;32mexcept\u001b[0m \u001b[0mValueError\u001b[0m \u001b[1;32mas\u001b[0m \u001b[0me\u001b[0m\u001b[1;33m:\u001b[0m\u001b[1;33m\u001b[0m\u001b[0m\n\u001b[0;32m    124\u001b[0m                     \u001b[1;31m# we want to transform an object array\u001b[0m\u001b[1;33m\u001b[0m\u001b[1;33m\u001b[0m\u001b[0m\n",
      "\u001b[1;32mC:\\Users\\SS\\Anaconda3\\lib\\site-packages\\pandas\\core\\nanops.py\u001b[0m in \u001b[0;36mnansum\u001b[1;34m(values, axis, skipna)\u001b[0m\n\u001b[0;32m    291\u001b[0m     \u001b[1;32melif\u001b[0m \u001b[0mis_timedelta64_dtype\u001b[0m\u001b[1;33m(\u001b[0m\u001b[0mdtype\u001b[0m\u001b[1;33m)\u001b[0m\u001b[1;33m:\u001b[0m\u001b[1;33m\u001b[0m\u001b[0m\n\u001b[0;32m    292\u001b[0m         \u001b[0mdtype_sum\u001b[0m \u001b[1;33m=\u001b[0m \u001b[0mnp\u001b[0m\u001b[1;33m.\u001b[0m\u001b[0mfloat64\u001b[0m\u001b[1;33m\u001b[0m\u001b[0m\n\u001b[1;32m--> 293\u001b[1;33m     \u001b[0mthe_sum\u001b[0m \u001b[1;33m=\u001b[0m \u001b[0mvalues\u001b[0m\u001b[1;33m.\u001b[0m\u001b[0msum\u001b[0m\u001b[1;33m(\u001b[0m\u001b[0maxis\u001b[0m\u001b[1;33m,\u001b[0m \u001b[0mdtype\u001b[0m\u001b[1;33m=\u001b[0m\u001b[0mdtype_sum\u001b[0m\u001b[1;33m)\u001b[0m\u001b[1;33m\u001b[0m\u001b[0m\n\u001b[0m\u001b[0;32m    294\u001b[0m     \u001b[0mthe_sum\u001b[0m \u001b[1;33m=\u001b[0m \u001b[0m_maybe_null_out\u001b[0m\u001b[1;33m(\u001b[0m\u001b[0mthe_sum\u001b[0m\u001b[1;33m,\u001b[0m \u001b[0maxis\u001b[0m\u001b[1;33m,\u001b[0m \u001b[0mmask\u001b[0m\u001b[1;33m)\u001b[0m\u001b[1;33m\u001b[0m\u001b[0m\n\u001b[0;32m    295\u001b[0m \u001b[1;33m\u001b[0m\u001b[0m\n",
      "\u001b[1;32mC:\\Users\\SS\\Anaconda3\\lib\\site-packages\\numpy\\core\\_methods.py\u001b[0m in \u001b[0;36m_sum\u001b[1;34m(a, axis, dtype, out, keepdims)\u001b[0m\n\u001b[0;32m     30\u001b[0m \u001b[1;33m\u001b[0m\u001b[0m\n\u001b[0;32m     31\u001b[0m \u001b[1;32mdef\u001b[0m \u001b[0m_sum\u001b[0m\u001b[1;33m(\u001b[0m\u001b[0ma\u001b[0m\u001b[1;33m,\u001b[0m \u001b[0maxis\u001b[0m\u001b[1;33m=\u001b[0m\u001b[1;32mNone\u001b[0m\u001b[1;33m,\u001b[0m \u001b[0mdtype\u001b[0m\u001b[1;33m=\u001b[0m\u001b[1;32mNone\u001b[0m\u001b[1;33m,\u001b[0m \u001b[0mout\u001b[0m\u001b[1;33m=\u001b[0m\u001b[1;32mNone\u001b[0m\u001b[1;33m,\u001b[0m \u001b[0mkeepdims\u001b[0m\u001b[1;33m=\u001b[0m\u001b[1;32mFalse\u001b[0m\u001b[1;33m)\u001b[0m\u001b[1;33m:\u001b[0m\u001b[1;33m\u001b[0m\u001b[0m\n\u001b[1;32m---> 32\u001b[1;33m     \u001b[1;32mreturn\u001b[0m \u001b[0mumr_sum\u001b[0m\u001b[1;33m(\u001b[0m\u001b[0ma\u001b[0m\u001b[1;33m,\u001b[0m \u001b[0maxis\u001b[0m\u001b[1;33m,\u001b[0m \u001b[0mdtype\u001b[0m\u001b[1;33m,\u001b[0m \u001b[0mout\u001b[0m\u001b[1;33m,\u001b[0m \u001b[0mkeepdims\u001b[0m\u001b[1;33m)\u001b[0m\u001b[1;33m\u001b[0m\u001b[0m\n\u001b[0m\u001b[0;32m     33\u001b[0m \u001b[1;33m\u001b[0m\u001b[0m\n\u001b[0;32m     34\u001b[0m \u001b[1;32mdef\u001b[0m \u001b[0m_prod\u001b[0m\u001b[1;33m(\u001b[0m\u001b[0ma\u001b[0m\u001b[1;33m,\u001b[0m \u001b[0maxis\u001b[0m\u001b[1;33m=\u001b[0m\u001b[1;32mNone\u001b[0m\u001b[1;33m,\u001b[0m \u001b[0mdtype\u001b[0m\u001b[1;33m=\u001b[0m\u001b[1;32mNone\u001b[0m\u001b[1;33m,\u001b[0m \u001b[0mout\u001b[0m\u001b[1;33m=\u001b[0m\u001b[1;32mNone\u001b[0m\u001b[1;33m,\u001b[0m \u001b[0mkeepdims\u001b[0m\u001b[1;33m=\u001b[0m\u001b[1;32mFalse\u001b[0m\u001b[1;33m)\u001b[0m\u001b[1;33m:\u001b[0m\u001b[1;33m\u001b[0m\u001b[0m\n",
      "\u001b[1;31mTypeError\u001b[0m: unsupported operand type(s) for +: 'datetime.time' and 'datetime.time'"
     ]
    }
   ],
   "source": [
    "A_matches['Match_Time'].sum()\n"
   ]
  },
  {
   "cell_type": "code",
   "execution_count": 34,
   "metadata": {},
   "outputs": [],
   "source": [
    "A_matches['Match_Time'] = pd.to_datetime(A_matches['Match_Time'], format='%M:%S').dt.time"
   ]
  },
  {
   "cell_type": "code",
   "execution_count": 38,
   "metadata": {},
   "outputs": [
    {
     "data": {
      "text/plain": [
       "Wrestler 1    object\n",
       "Wrestler 2    object\n",
       "Winner        object\n",
       "Loser         object\n",
       "Match          int64\n",
       "Match_Time    object\n",
       "Draw            bool\n",
       "dtype: object"
      ]
     },
     "execution_count": 38,
     "metadata": {},
     "output_type": "execute_result"
    }
   ],
   "source": [
    "A_matches.dtypes"
   ]
  },
  {
   "cell_type": "code",
   "execution_count": 40,
   "metadata": {},
   "outputs": [
    {
     "ename": "ValueError",
     "evalue": "Invalid type for timedelta scalar: <class 'datetime.time'>",
     "output_type": "error",
     "traceback": [
      "\u001b[1;31m---------------------------------------------------------------------------\u001b[0m",
      "\u001b[1;31mTypeError\u001b[0m                                 Traceback (most recent call last)",
      "\u001b[1;32mpandas\\_libs\\tslib.pyx\u001b[0m in \u001b[0;36mpandas._libs.tslib.array_to_timedelta64 (pandas\\_libs\\tslib.c:58322)\u001b[1;34m()\u001b[0m\n",
      "\u001b[1;32mpandas\\_libs\\tslib.pyx\u001b[0m in \u001b[0;36mpandas._libs.tslib.parse_timedelta_string (pandas\\_libs\\tslib.c:59167)\u001b[1;34m()\u001b[0m\n",
      "\u001b[1;31mTypeError\u001b[0m: object of type 'datetime.time' has no len()",
      "\nDuring handling of the above exception, another exception occurred:\n",
      "\u001b[1;31mValueError\u001b[0m                                Traceback (most recent call last)",
      "\u001b[1;32m<ipython-input-40-6f4122d4223d>\u001b[0m in \u001b[0;36m<module>\u001b[1;34m()\u001b[0m\n\u001b[1;32m----> 1\u001b[1;33m \u001b[0mA_matches\u001b[0m\u001b[1;33m[\u001b[0m\u001b[1;34m'Match_Time'\u001b[0m\u001b[1;33m]\u001b[0m\u001b[1;33m=\u001b[0m \u001b[0mpd\u001b[0m\u001b[1;33m.\u001b[0m\u001b[0mto_timedelta\u001b[0m\u001b[1;33m(\u001b[0m\u001b[0mA_matches\u001b[0m\u001b[1;33m.\u001b[0m\u001b[0mMatch_Time\u001b[0m\u001b[1;33m)\u001b[0m\u001b[1;33m\u001b[0m\u001b[0m\n\u001b[0m",
      "\u001b[1;32mC:\\Users\\SS\\Anaconda3\\lib\\site-packages\\pandas\\core\\tools\\timedeltas.py\u001b[0m in \u001b[0;36mto_timedelta\u001b[1;34m(arg, unit, box, errors)\u001b[0m\n\u001b[0;32m     74\u001b[0m         \u001b[1;32mfrom\u001b[0m \u001b[0mpandas\u001b[0m \u001b[1;32mimport\u001b[0m \u001b[0mSeries\u001b[0m\u001b[1;33m\u001b[0m\u001b[0m\n\u001b[0;32m     75\u001b[0m         values = _convert_listlike(arg._values, unit=unit,\n\u001b[1;32m---> 76\u001b[1;33m                                    box=False, errors=errors)\n\u001b[0m\u001b[0;32m     77\u001b[0m         \u001b[1;32mreturn\u001b[0m \u001b[0mSeries\u001b[0m\u001b[1;33m(\u001b[0m\u001b[0mvalues\u001b[0m\u001b[1;33m,\u001b[0m \u001b[0mindex\u001b[0m\u001b[1;33m=\u001b[0m\u001b[0marg\u001b[0m\u001b[1;33m.\u001b[0m\u001b[0mindex\u001b[0m\u001b[1;33m,\u001b[0m \u001b[0mname\u001b[0m\u001b[1;33m=\u001b[0m\u001b[0marg\u001b[0m\u001b[1;33m.\u001b[0m\u001b[0mname\u001b[0m\u001b[1;33m)\u001b[0m\u001b[1;33m\u001b[0m\u001b[0m\n\u001b[0;32m     78\u001b[0m     \u001b[1;32melif\u001b[0m \u001b[0misinstance\u001b[0m\u001b[1;33m(\u001b[0m\u001b[0marg\u001b[0m\u001b[1;33m,\u001b[0m \u001b[0mABCIndexClass\u001b[0m\u001b[1;33m)\u001b[0m\u001b[1;33m:\u001b[0m\u001b[1;33m\u001b[0m\u001b[0m\n",
      "\u001b[1;32mC:\\Users\\SS\\Anaconda3\\lib\\site-packages\\pandas\\core\\tools\\timedeltas.py\u001b[0m in \u001b[0;36m_convert_listlike\u001b[1;34m(arg, unit, box, errors, name)\u001b[0m\n\u001b[0;32m    162\u001b[0m         \u001b[1;32mtry\u001b[0m\u001b[1;33m:\u001b[0m\u001b[1;33m\u001b[0m\u001b[0m\n\u001b[0;32m    163\u001b[0m             value = tslib.array_to_timedelta64(_ensure_object(arg),\n\u001b[1;32m--> 164\u001b[1;33m                                                unit=unit, errors=errors)\n\u001b[0m\u001b[0;32m    165\u001b[0m             \u001b[0mvalue\u001b[0m \u001b[1;33m=\u001b[0m \u001b[0mvalue\u001b[0m\u001b[1;33m.\u001b[0m\u001b[0mastype\u001b[0m\u001b[1;33m(\u001b[0m\u001b[1;34m'timedelta64[ns]'\u001b[0m\u001b[1;33m,\u001b[0m \u001b[0mcopy\u001b[0m\u001b[1;33m=\u001b[0m\u001b[1;32mFalse\u001b[0m\u001b[1;33m)\u001b[0m\u001b[1;33m\u001b[0m\u001b[0m\n\u001b[0;32m    166\u001b[0m         \u001b[1;32mexcept\u001b[0m \u001b[0mValueError\u001b[0m\u001b[1;33m:\u001b[0m\u001b[1;33m\u001b[0m\u001b[0m\n",
      "\u001b[1;32mpandas\\_libs\\tslib.pyx\u001b[0m in \u001b[0;36mpandas._libs.tslib.array_to_timedelta64 (pandas\\_libs\\tslib.c:58701)\u001b[1;34m()\u001b[0m\n",
      "\u001b[1;32mpandas\\_libs\\tslib.pyx\u001b[0m in \u001b[0;36mpandas._libs.tslib.array_to_timedelta64 (pandas\\_libs\\tslib.c:58491)\u001b[1;34m()\u001b[0m\n",
      "\u001b[1;32mpandas\\_libs\\tslib.pyx\u001b[0m in \u001b[0;36mpandas._libs.tslib.array_to_timedelta64 (pandas\\_libs\\tslib.c:58408)\u001b[1;34m()\u001b[0m\n",
      "\u001b[1;32mpandas\\_libs\\tslib.pyx\u001b[0m in \u001b[0;36mpandas._libs.tslib.convert_to_timedelta64 (pandas\\_libs\\tslib.c:62070)\u001b[1;34m()\u001b[0m\n",
      "\u001b[1;31mValueError\u001b[0m: Invalid type for timedelta scalar: <class 'datetime.time'>"
     ]
    }
   ],
   "source": [
    "A_matches['Match_Time']= pd.to_timedelta(A_matches.Match_Time)"
   ]
  },
  {
   "cell_type": "code",
   "execution_count": null,
   "metadata": {
    "collapsed": true
   },
   "outputs": [],
   "source": []
  }
 ],
 "metadata": {
  "anaconda-cloud": {},
  "kernelspec": {
   "display_name": "Python 3",
   "language": "python",
   "name": "python3"
  },
  "language_info": {
   "codemirror_mode": {
    "name": "ipython",
    "version": 3
   },
   "file_extension": ".py",
   "mimetype": "text/x-python",
   "name": "python",
   "nbconvert_exporter": "python",
   "pygments_lexer": "ipython3",
   "version": "3.6.1"
  }
 },
 "nbformat": 4,
 "nbformat_minor": 1
}
