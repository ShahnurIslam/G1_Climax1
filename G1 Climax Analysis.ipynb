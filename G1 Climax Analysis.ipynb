{
 "cells": [
  {
   "cell_type": "markdown",
   "metadata": {},
   "source": [
    "The G1 Climax is an annual Japanase wrestling tournament that's held every summer over 20 days. Rather than a simple knockout tournament it's a league made up two blocks each consisting of 20 wrestlers. The winner of each block then face off and the winner goes to headline wrestle kingdom in January"
   ]
  },
  {
   "cell_type": "markdown",
   "metadata": {},
   "source": [
    "Let's start off with importing all the relevant libraries which will be updated as we go"
   ]
  },
  {
   "cell_type": "markdown",
   "metadata": {},
   "source": [
    "Add times to matches, to see who on average has the longest time. Wrestler style, weight, momemntum?\n",
    "If they won the last match are they going to win the next one\n"
   ]
  },
  {
   "cell_type": "code",
   "execution_count": 1,
   "metadata": {
    "collapsed": true
   },
   "outputs": [],
   "source": [
    "import pandas as pd\n",
    "import math\n",
    "import numpy as np\n",
    "import itertools\n",
    "import matplotlib.pyplot as plt\n",
    "import seaborn as sns\n",
    "pd.options.display.float_format = '{:,.0f}'.format\n",
    "sns.set_style('white')"
   ]
  },
  {
   "cell_type": "markdown",
   "metadata": {},
   "source": [
    "Read the csv file with the block names"
   ]
  },
  {
   "cell_type": "code",
   "execution_count": 2,
   "metadata": {
    "collapsed": true
   },
   "outputs": [],
   "source": [
    "df = pd.read_csv(\"G1 Competitors.csv\")"
   ]
  },
  {
   "cell_type": "code",
   "execution_count": 3,
   "metadata": {
    "collapsed": false,
    "scrolled": true
   },
   "outputs": [
    {
     "name": "stdout",
     "output_type": "stream",
     "text": [
      "<class 'pandas.core.frame.DataFrame'>\n",
      "RangeIndex: 10 entries, 0 to 9\n",
      "Data columns (total 2 columns):\n",
      "A Block    10 non-null object\n",
      "B Block    10 non-null object\n",
      "dtypes: object(2)\n",
      "memory usage: 240.0+ bytes\n"
     ]
    }
   ],
   "source": [
    "df.info()"
   ]
  },
  {
   "cell_type": "markdown",
   "metadata": {},
   "source": [
    "Only 10 entries with No null objects which is good to see, we can see what the whole dataframe looks like. Of course if we had more rows we wouldn't be able to do this."
   ]
  },
  {
   "cell_type": "code",
   "execution_count": 4,
   "metadata": {
    "collapsed": false,
    "scrolled": true
   },
   "outputs": [
    {
     "data": {
      "text/html": [
       "<div>\n",
       "<table border=\"1\" class=\"dataframe\">\n",
       "  <thead>\n",
       "    <tr style=\"text-align: right;\">\n",
       "      <th></th>\n",
       "      <th>A Block</th>\n",
       "      <th>B Block</th>\n",
       "    </tr>\n",
       "  </thead>\n",
       "  <tbody>\n",
       "    <tr>\n",
       "      <th>0</th>\n",
       "      <td>Hiroshi Tanahashi</td>\n",
       "      <td>Kazuchika Okada</td>\n",
       "    </tr>\n",
       "    <tr>\n",
       "      <th>1</th>\n",
       "      <td>Togi Makabe</td>\n",
       "      <td>Toru Yano</td>\n",
       "    </tr>\n",
       "    <tr>\n",
       "      <th>2</th>\n",
       "      <td>Tomohiro Ishii</td>\n",
       "      <td>Satoshi Kojima</td>\n",
       "    </tr>\n",
       "    <tr>\n",
       "      <th>3</th>\n",
       "      <td>Hirooki Goto</td>\n",
       "      <td>Michael Elgin</td>\n",
       "    </tr>\n",
       "    <tr>\n",
       "      <th>4</th>\n",
       "      <td>YOSHI-HASHI</td>\n",
       "      <td>Juice Robinson</td>\n",
       "    </tr>\n",
       "    <tr>\n",
       "      <th>5</th>\n",
       "      <td>Bad Luck Fale</td>\n",
       "      <td>Tama Tonga</td>\n",
       "    </tr>\n",
       "    <tr>\n",
       "      <th>6</th>\n",
       "      <td>Yuji Nagata</td>\n",
       "      <td>SANADA</td>\n",
       "    </tr>\n",
       "    <tr>\n",
       "      <th>7</th>\n",
       "      <td>Zack Sabre Jr.</td>\n",
       "      <td>EVIL</td>\n",
       "    </tr>\n",
       "    <tr>\n",
       "      <th>8</th>\n",
       "      <td>Kota Ibushi</td>\n",
       "      <td>Minoru Suzuki</td>\n",
       "    </tr>\n",
       "    <tr>\n",
       "      <th>9</th>\n",
       "      <td>Tetsuya Naito</td>\n",
       "      <td>Kenny Omega</td>\n",
       "    </tr>\n",
       "  </tbody>\n",
       "</table>\n",
       "</div>"
      ],
      "text/plain": [
       "             A Block          B Block\n",
       "0  Hiroshi Tanahashi  Kazuchika Okada\n",
       "1        Togi Makabe        Toru Yano\n",
       "2     Tomohiro Ishii   Satoshi Kojima\n",
       "3       Hirooki Goto    Michael Elgin\n",
       "4        YOSHI-HASHI   Juice Robinson\n",
       "5      Bad Luck Fale       Tama Tonga\n",
       "6        Yuji Nagata           SANADA\n",
       "7     Zack Sabre Jr.             EVIL\n",
       "8        Kota Ibushi    Minoru Suzuki\n",
       "9      Tetsuya Naito      Kenny Omega"
      ]
     },
     "execution_count": 4,
     "metadata": {},
     "output_type": "execute_result"
    }
   ],
   "source": [
    "df"
   ]
  },
  {
   "cell_type": "markdown",
   "metadata": {},
   "source": [
    "Some of the wrestler's name have capitals while others don't, let's seperate these into two blocks and make sure we convert all strings to uppercase"
   ]
  },
  {
   "cell_type": "code",
   "execution_count": 5,
   "metadata": {
    "collapsed": true
   },
   "outputs": [],
   "source": [
    "A_Block = pd.DataFrame(df['A Block'].str.upper())\n",
    "A_Block.columns = ['Wrestler']\n",
    "B_Block = pd.DataFrame(df['B Block'].str.upper())\n",
    "B_Block.columns = ['Wrestler']"
   ]
  },
  {
   "cell_type": "code",
   "execution_count": 6,
   "metadata": {
    "collapsed": true
   },
   "outputs": [],
   "source": [
    "A_Block['Matches'] = np.NAN\n",
    "A_Block['Wins'] = np.NAN\n",
    "A_Block['Losses'] = np.NAN\n",
    "A_Block['Points'] = np.NAN\n",
    "A_Block['Match_Time'] = np.NAN\n",
    "B_Block['Matches'] = np.NAN\n",
    "B_Block['Wins'] = np.NAN\n",
    "B_Block['Losses'] = np.NAN\n",
    "B_Block['Points'] = np.NAN\n"
   ]
  },
  {
   "cell_type": "markdown",
   "metadata": {},
   "source": [
    "How many potential matches per block?\n",
    "Using the old perpmuations formula"
   ]
  },
  {
   "cell_type": "code",
   "execution_count": 7,
   "metadata": {
    "collapsed": false,
    "scrolled": true
   },
   "outputs": [
    {
     "data": {
      "text/plain": [
       "45.0"
      ]
     },
     "execution_count": 7,
     "metadata": {},
     "output_type": "execute_result"
    }
   ],
   "source": [
    "math.factorial(10)/(math.factorial(2)*math.factorial(10-2))"
   ]
  },
  {
   "cell_type": "markdown",
   "metadata": {},
   "source": [
    "Ok there are 45 possible matches, I was going to write a custom function to list all these out but the python community is so large someone has already done what you need. Luckily they have and it comes from the library itertools. We use the function combinations as we're looking for all unique combinations and not permutations. The combination takes a list so we can't simply pass in the data frame and need to select the Wrestler column as a series. W"
   ]
  },
  {
   "cell_type": "code",
   "execution_count": 30,
   "metadata": {
    "collapsed": true
   },
   "outputs": [],
   "source": [
    "A_matches = pd.DataFrame.from_records(list(itertools.combinations(A_Block['Wrestler'],2)), columns = ['Wrestler 1', 'Wrestler 2'])\n",
    "B_matches = pd.DataFrame.from_records(list(itertools.combinations(B_Block['Wrestler'],2)), columns = ['Wrestler 1', 'Wrestler 2'])\n",
    "A_matches['Winner'] = np.NAN\n",
    "B_matches['Winner'] = np.NAN\n",
    "A_matches['Loser'] = np.NAN\n",
    "B_matches['Loser'] = np.NAN\n",
    "A_matches['Match'] = 1\n",
    "B_matches['Match'] = 1\n",
    "B_matches['Match_Time'] = np.NAN\n",
    "A_matches['Match_Time'] = np.NAN"
   ]
  },
  {
   "cell_type": "code",
   "execution_count": 38,
   "metadata": {
    "collapsed": false,
    "scrolled": false
   },
   "outputs": [
    {
     "data": {
      "text/html": [
       "<div>\n",
       "<table border=\"1\" class=\"dataframe\">\n",
       "  <thead>\n",
       "    <tr style=\"text-align: right;\">\n",
       "      <th></th>\n",
       "      <th>Wrestler 1</th>\n",
       "      <th>Wrestler 2</th>\n",
       "      <th>Winner</th>\n",
       "      <th>Loser</th>\n",
       "      <th>Match</th>\n",
       "      <th>Match_Time</th>\n",
       "    </tr>\n",
       "  </thead>\n",
       "  <tbody>\n",
       "    <tr>\n",
       "      <th>0</th>\n",
       "      <td>HIROSHI TANAHASHI</td>\n",
       "      <td>ZACK SABRE JR.</td>\n",
       "      <td>ZACK SABRE JR.</td>\n",
       "      <td>HIROSHI TANAHASHI</td>\n",
       "      <td>1</td>\n",
       "      <td>17:18</td>\n",
       "    </tr>\n",
       "    <tr>\n",
       "      <th>1</th>\n",
       "      <td>HIROSHI TANAHASHI</td>\n",
       "      <td>TETSUYA NAITO</td>\n",
       "      <td>NaN</td>\n",
       "      <td>NaN</td>\n",
       "      <td>1</td>\n",
       "      <td>NaN</td>\n",
       "    </tr>\n",
       "    <tr>\n",
       "      <th>2</th>\n",
       "      <td>HIROSHI TANAHASHI</td>\n",
       "      <td>HIROOKI GOTO</td>\n",
       "      <td>NaN</td>\n",
       "      <td>NaN</td>\n",
       "      <td>1</td>\n",
       "      <td>NaN</td>\n",
       "    </tr>\n",
       "    <tr>\n",
       "      <th>3</th>\n",
       "      <td>HIROSHI TANAHASHI</td>\n",
       "      <td>BAD LUCK FALE</td>\n",
       "      <td>HIROSHI TANAHASHI</td>\n",
       "      <td>BAD LUCK FALE</td>\n",
       "      <td>1</td>\n",
       "      <td>11:05</td>\n",
       "    </tr>\n",
       "    <tr>\n",
       "      <th>4</th>\n",
       "      <td>HIROSHI TANAHASHI</td>\n",
       "      <td>TOGI MAKABE</td>\n",
       "      <td>NaN</td>\n",
       "      <td>NaN</td>\n",
       "      <td>1</td>\n",
       "      <td>NaN</td>\n",
       "    </tr>\n",
       "    <tr>\n",
       "      <th>5</th>\n",
       "      <td>HIROSHI TANAHASHI</td>\n",
       "      <td>TOMOHIRO ISHII</td>\n",
       "      <td>NaN</td>\n",
       "      <td>NaN</td>\n",
       "      <td>1</td>\n",
       "      <td>NaN</td>\n",
       "    </tr>\n",
       "    <tr>\n",
       "      <th>6</th>\n",
       "      <td>HIROSHI TANAHASHI</td>\n",
       "      <td>KOTA IBUSHI</td>\n",
       "      <td>NaN</td>\n",
       "      <td>NaN</td>\n",
       "      <td>1</td>\n",
       "      <td>NaN</td>\n",
       "    </tr>\n",
       "    <tr>\n",
       "      <th>7</th>\n",
       "      <td>HIROSHI TANAHASHI</td>\n",
       "      <td>YOSHI-HASHI</td>\n",
       "      <td>NaN</td>\n",
       "      <td>NaN</td>\n",
       "      <td>1</td>\n",
       "      <td>NaN</td>\n",
       "    </tr>\n",
       "    <tr>\n",
       "      <th>8</th>\n",
       "      <td>HIROSHI TANAHASHI</td>\n",
       "      <td>YUJI NAGATA</td>\n",
       "      <td>NaN</td>\n",
       "      <td>NaN</td>\n",
       "      <td>1</td>\n",
       "      <td>NaN</td>\n",
       "    </tr>\n",
       "    <tr>\n",
       "      <th>9</th>\n",
       "      <td>ZACK SABRE JR.</td>\n",
       "      <td>TETSUYA NAITO</td>\n",
       "      <td>NaN</td>\n",
       "      <td>NaN</td>\n",
       "      <td>1</td>\n",
       "      <td>NaN</td>\n",
       "    </tr>\n",
       "    <tr>\n",
       "      <th>10</th>\n",
       "      <td>ZACK SABRE JR.</td>\n",
       "      <td>HIROOKI GOTO</td>\n",
       "      <td>NaN</td>\n",
       "      <td>NaN</td>\n",
       "      <td>1</td>\n",
       "      <td>NaN</td>\n",
       "    </tr>\n",
       "    <tr>\n",
       "      <th>11</th>\n",
       "      <td>ZACK SABRE JR.</td>\n",
       "      <td>BAD LUCK FALE</td>\n",
       "      <td>NaN</td>\n",
       "      <td>NaN</td>\n",
       "      <td>1</td>\n",
       "      <td>NaN</td>\n",
       "    </tr>\n",
       "    <tr>\n",
       "      <th>12</th>\n",
       "      <td>ZACK SABRE JR.</td>\n",
       "      <td>TOGI MAKABE</td>\n",
       "      <td>NaN</td>\n",
       "      <td>NaN</td>\n",
       "      <td>1</td>\n",
       "      <td>NaN</td>\n",
       "    </tr>\n",
       "    <tr>\n",
       "      <th>13</th>\n",
       "      <td>ZACK SABRE JR.</td>\n",
       "      <td>TOMOHIRO ISHII</td>\n",
       "      <td>NaN</td>\n",
       "      <td>NaN</td>\n",
       "      <td>1</td>\n",
       "      <td>NaN</td>\n",
       "    </tr>\n",
       "    <tr>\n",
       "      <th>14</th>\n",
       "      <td>ZACK SABRE JR.</td>\n",
       "      <td>KOTA IBUSHI</td>\n",
       "      <td>KOTA IBUSHI</td>\n",
       "      <td>ZACK SABRE JR.</td>\n",
       "      <td>1</td>\n",
       "      <td>15:51</td>\n",
       "    </tr>\n",
       "    <tr>\n",
       "      <th>15</th>\n",
       "      <td>ZACK SABRE JR.</td>\n",
       "      <td>YOSHI-HASHI</td>\n",
       "      <td>NaN</td>\n",
       "      <td>NaN</td>\n",
       "      <td>1</td>\n",
       "      <td>NaN</td>\n",
       "    </tr>\n",
       "    <tr>\n",
       "      <th>16</th>\n",
       "      <td>ZACK SABRE JR.</td>\n",
       "      <td>YUJI NAGATA</td>\n",
       "      <td>NaN</td>\n",
       "      <td>NaN</td>\n",
       "      <td>1</td>\n",
       "      <td>NaN</td>\n",
       "    </tr>\n",
       "    <tr>\n",
       "      <th>17</th>\n",
       "      <td>TETSUYA NAITO</td>\n",
       "      <td>HIROOKI GOTO</td>\n",
       "      <td>NaN</td>\n",
       "      <td>NaN</td>\n",
       "      <td>1</td>\n",
       "      <td>NaN</td>\n",
       "    </tr>\n",
       "    <tr>\n",
       "      <th>18</th>\n",
       "      <td>TETSUYA NAITO</td>\n",
       "      <td>BAD LUCK FALE</td>\n",
       "      <td>NaN</td>\n",
       "      <td>NaN</td>\n",
       "      <td>1</td>\n",
       "      <td>NaN</td>\n",
       "    </tr>\n",
       "    <tr>\n",
       "      <th>19</th>\n",
       "      <td>TETSUYA NAITO</td>\n",
       "      <td>TOGI MAKABE</td>\n",
       "      <td>NaN</td>\n",
       "      <td>NaN</td>\n",
       "      <td>1</td>\n",
       "      <td>NaN</td>\n",
       "    </tr>\n",
       "    <tr>\n",
       "      <th>20</th>\n",
       "      <td>TETSUYA NAITO</td>\n",
       "      <td>TOMOHIRO ISHII</td>\n",
       "      <td>NaN</td>\n",
       "      <td>NaN</td>\n",
       "      <td>1</td>\n",
       "      <td>NaN</td>\n",
       "    </tr>\n",
       "    <tr>\n",
       "      <th>21</th>\n",
       "      <td>TETSUYA NAITO</td>\n",
       "      <td>KOTA IBUSHI</td>\n",
       "      <td>TETSUYA NAITO</td>\n",
       "      <td>KOTA IBUSHI</td>\n",
       "      <td>1</td>\n",
       "      <td>24:41</td>\n",
       "    </tr>\n",
       "    <tr>\n",
       "      <th>22</th>\n",
       "      <td>TETSUYA NAITO</td>\n",
       "      <td>YOSHI-HASHI</td>\n",
       "      <td>TETSUYA NAITO</td>\n",
       "      <td>YOSHI-HASHI</td>\n",
       "      <td>1</td>\n",
       "      <td>22:19</td>\n",
       "    </tr>\n",
       "    <tr>\n",
       "      <th>23</th>\n",
       "      <td>TETSUYA NAITO</td>\n",
       "      <td>YUJI NAGATA</td>\n",
       "      <td>NaN</td>\n",
       "      <td>NaN</td>\n",
       "      <td>1</td>\n",
       "      <td>NaN</td>\n",
       "    </tr>\n",
       "    <tr>\n",
       "      <th>24</th>\n",
       "      <td>HIROOKI GOTO</td>\n",
       "      <td>BAD LUCK FALE</td>\n",
       "      <td>NaN</td>\n",
       "      <td>NaN</td>\n",
       "      <td>1</td>\n",
       "      <td>NaN</td>\n",
       "    </tr>\n",
       "    <tr>\n",
       "      <th>25</th>\n",
       "      <td>HIROOKI GOTO</td>\n",
       "      <td>TOGI MAKABE</td>\n",
       "      <td>NaN</td>\n",
       "      <td>NaN</td>\n",
       "      <td>1</td>\n",
       "      <td>NaN</td>\n",
       "    </tr>\n",
       "    <tr>\n",
       "      <th>26</th>\n",
       "      <td>HIROOKI GOTO</td>\n",
       "      <td>TOMOHIRO ISHII</td>\n",
       "      <td>HIROOKI GOTO</td>\n",
       "      <td>TOMOHIRO ISHII</td>\n",
       "      <td>1</td>\n",
       "      <td>13:43</td>\n",
       "    </tr>\n",
       "    <tr>\n",
       "      <th>27</th>\n",
       "      <td>HIROOKI GOTO</td>\n",
       "      <td>KOTA IBUSHI</td>\n",
       "      <td>NaN</td>\n",
       "      <td>NaN</td>\n",
       "      <td>1</td>\n",
       "      <td>NaN</td>\n",
       "    </tr>\n",
       "    <tr>\n",
       "      <th>28</th>\n",
       "      <td>HIROOKI GOTO</td>\n",
       "      <td>YOSHI-HASHI</td>\n",
       "      <td>NaN</td>\n",
       "      <td>NaN</td>\n",
       "      <td>1</td>\n",
       "      <td>NaN</td>\n",
       "    </tr>\n",
       "    <tr>\n",
       "      <th>29</th>\n",
       "      <td>HIROOKI GOTO</td>\n",
       "      <td>YUJI NAGATA</td>\n",
       "      <td>HIROOKI GOTO</td>\n",
       "      <td>YUJI NAGATA</td>\n",
       "      <td>1</td>\n",
       "      <td>15:02</td>\n",
       "    </tr>\n",
       "    <tr>\n",
       "      <th>30</th>\n",
       "      <td>BAD LUCK FALE</td>\n",
       "      <td>TOGI MAKABE</td>\n",
       "      <td>BAD LUCK FALE</td>\n",
       "      <td>TOGI MAKABE</td>\n",
       "      <td>1</td>\n",
       "      <td>09:25</td>\n",
       "    </tr>\n",
       "    <tr>\n",
       "      <th>31</th>\n",
       "      <td>BAD LUCK FALE</td>\n",
       "      <td>TOMOHIRO ISHII</td>\n",
       "      <td>NaN</td>\n",
       "      <td>NaN</td>\n",
       "      <td>1</td>\n",
       "      <td>NaN</td>\n",
       "    </tr>\n",
       "    <tr>\n",
       "      <th>32</th>\n",
       "      <td>BAD LUCK FALE</td>\n",
       "      <td>KOTA IBUSHI</td>\n",
       "      <td>NaN</td>\n",
       "      <td>NaN</td>\n",
       "      <td>1</td>\n",
       "      <td>NaN</td>\n",
       "    </tr>\n",
       "    <tr>\n",
       "      <th>33</th>\n",
       "      <td>BAD LUCK FALE</td>\n",
       "      <td>YOSHI-HASHI</td>\n",
       "      <td>NaN</td>\n",
       "      <td>NaN</td>\n",
       "      <td>1</td>\n",
       "      <td>NaN</td>\n",
       "    </tr>\n",
       "    <tr>\n",
       "      <th>34</th>\n",
       "      <td>BAD LUCK FALE</td>\n",
       "      <td>YUJI NAGATA</td>\n",
       "      <td>NaN</td>\n",
       "      <td>NaN</td>\n",
       "      <td>1</td>\n",
       "      <td>NaN</td>\n",
       "    </tr>\n",
       "    <tr>\n",
       "      <th>35</th>\n",
       "      <td>TOGI MAKABE</td>\n",
       "      <td>TOMOHIRO ISHII</td>\n",
       "      <td>TOMOHIRO ISHII</td>\n",
       "      <td>TOGI MAKABE</td>\n",
       "      <td>1</td>\n",
       "      <td>15:51</td>\n",
       "    </tr>\n",
       "    <tr>\n",
       "      <th>36</th>\n",
       "      <td>TOGI MAKABE</td>\n",
       "      <td>KOTA IBUSHI</td>\n",
       "      <td>NaN</td>\n",
       "      <td>NaN</td>\n",
       "      <td>1</td>\n",
       "      <td>NaN</td>\n",
       "    </tr>\n",
       "    <tr>\n",
       "      <th>37</th>\n",
       "      <td>TOGI MAKABE</td>\n",
       "      <td>YOSHI-HASHI</td>\n",
       "      <td>NaN</td>\n",
       "      <td>NaN</td>\n",
       "      <td>1</td>\n",
       "      <td>NaN</td>\n",
       "    </tr>\n",
       "    <tr>\n",
       "      <th>38</th>\n",
       "      <td>TOGI MAKABE</td>\n",
       "      <td>YUJI NAGATA</td>\n",
       "      <td>NaN</td>\n",
       "      <td>NaN</td>\n",
       "      <td>1</td>\n",
       "      <td>NaN</td>\n",
       "    </tr>\n",
       "    <tr>\n",
       "      <th>39</th>\n",
       "      <td>TOMOHIRO ISHII</td>\n",
       "      <td>KOTA IBUSHI</td>\n",
       "      <td>NaN</td>\n",
       "      <td>NaN</td>\n",
       "      <td>1</td>\n",
       "      <td>NaN</td>\n",
       "    </tr>\n",
       "    <tr>\n",
       "      <th>40</th>\n",
       "      <td>TOMOHIRO ISHII</td>\n",
       "      <td>YOSHI-HASHI</td>\n",
       "      <td>NaN</td>\n",
       "      <td>NaN</td>\n",
       "      <td>1</td>\n",
       "      <td>NaN</td>\n",
       "    </tr>\n",
       "    <tr>\n",
       "      <th>41</th>\n",
       "      <td>TOMOHIRO ISHII</td>\n",
       "      <td>YUJI NAGATA</td>\n",
       "      <td>NaN</td>\n",
       "      <td>NaN</td>\n",
       "      <td>1</td>\n",
       "      <td>NaN</td>\n",
       "    </tr>\n",
       "    <tr>\n",
       "      <th>42</th>\n",
       "      <td>KOTA IBUSHI</td>\n",
       "      <td>YOSHI-HASHI</td>\n",
       "      <td>NaN</td>\n",
       "      <td>NaN</td>\n",
       "      <td>1</td>\n",
       "      <td>NaN</td>\n",
       "    </tr>\n",
       "    <tr>\n",
       "      <th>43</th>\n",
       "      <td>KOTA IBUSHI</td>\n",
       "      <td>YUJI NAGATA</td>\n",
       "      <td>NaN</td>\n",
       "      <td>NaN</td>\n",
       "      <td>1</td>\n",
       "      <td>NaN</td>\n",
       "    </tr>\n",
       "    <tr>\n",
       "      <th>44</th>\n",
       "      <td>YOSHI-HASHI</td>\n",
       "      <td>YUJI NAGATA</td>\n",
       "      <td>YOSHI-HASHI</td>\n",
       "      <td>YUJI NAGATA</td>\n",
       "      <td>1</td>\n",
       "      <td>16:29</td>\n",
       "    </tr>\n",
       "  </tbody>\n",
       "</table>\n",
       "</div>"
      ],
      "text/plain": [
       "           Wrestler 1      Wrestler 2             Winner              Loser  \\\n",
       "0   HIROSHI TANAHASHI  ZACK SABRE JR.     ZACK SABRE JR.  HIROSHI TANAHASHI   \n",
       "1   HIROSHI TANAHASHI   TETSUYA NAITO                NaN                NaN   \n",
       "2   HIROSHI TANAHASHI    HIROOKI GOTO                NaN                NaN   \n",
       "3   HIROSHI TANAHASHI   BAD LUCK FALE  HIROSHI TANAHASHI      BAD LUCK FALE   \n",
       "4   HIROSHI TANAHASHI     TOGI MAKABE                NaN                NaN   \n",
       "5   HIROSHI TANAHASHI  TOMOHIRO ISHII                NaN                NaN   \n",
       "6   HIROSHI TANAHASHI     KOTA IBUSHI                NaN                NaN   \n",
       "7   HIROSHI TANAHASHI     YOSHI-HASHI                NaN                NaN   \n",
       "8   HIROSHI TANAHASHI     YUJI NAGATA                NaN                NaN   \n",
       "9      ZACK SABRE JR.   TETSUYA NAITO                NaN                NaN   \n",
       "10     ZACK SABRE JR.    HIROOKI GOTO                NaN                NaN   \n",
       "11     ZACK SABRE JR.   BAD LUCK FALE                NaN                NaN   \n",
       "12     ZACK SABRE JR.     TOGI MAKABE                NaN                NaN   \n",
       "13     ZACK SABRE JR.  TOMOHIRO ISHII                NaN                NaN   \n",
       "14     ZACK SABRE JR.     KOTA IBUSHI        KOTA IBUSHI     ZACK SABRE JR.   \n",
       "15     ZACK SABRE JR.     YOSHI-HASHI                NaN                NaN   \n",
       "16     ZACK SABRE JR.     YUJI NAGATA                NaN                NaN   \n",
       "17      TETSUYA NAITO    HIROOKI GOTO                NaN                NaN   \n",
       "18      TETSUYA NAITO   BAD LUCK FALE                NaN                NaN   \n",
       "19      TETSUYA NAITO     TOGI MAKABE                NaN                NaN   \n",
       "20      TETSUYA NAITO  TOMOHIRO ISHII                NaN                NaN   \n",
       "21      TETSUYA NAITO     KOTA IBUSHI      TETSUYA NAITO        KOTA IBUSHI   \n",
       "22      TETSUYA NAITO     YOSHI-HASHI      TETSUYA NAITO        YOSHI-HASHI   \n",
       "23      TETSUYA NAITO     YUJI NAGATA                NaN                NaN   \n",
       "24       HIROOKI GOTO   BAD LUCK FALE                NaN                NaN   \n",
       "25       HIROOKI GOTO     TOGI MAKABE                NaN                NaN   \n",
       "26       HIROOKI GOTO  TOMOHIRO ISHII       HIROOKI GOTO     TOMOHIRO ISHII   \n",
       "27       HIROOKI GOTO     KOTA IBUSHI                NaN                NaN   \n",
       "28       HIROOKI GOTO     YOSHI-HASHI                NaN                NaN   \n",
       "29       HIROOKI GOTO     YUJI NAGATA       HIROOKI GOTO        YUJI NAGATA   \n",
       "30      BAD LUCK FALE     TOGI MAKABE      BAD LUCK FALE        TOGI MAKABE   \n",
       "31      BAD LUCK FALE  TOMOHIRO ISHII                NaN                NaN   \n",
       "32      BAD LUCK FALE     KOTA IBUSHI                NaN                NaN   \n",
       "33      BAD LUCK FALE     YOSHI-HASHI                NaN                NaN   \n",
       "34      BAD LUCK FALE     YUJI NAGATA                NaN                NaN   \n",
       "35        TOGI MAKABE  TOMOHIRO ISHII     TOMOHIRO ISHII        TOGI MAKABE   \n",
       "36        TOGI MAKABE     KOTA IBUSHI                NaN                NaN   \n",
       "37        TOGI MAKABE     YOSHI-HASHI                NaN                NaN   \n",
       "38        TOGI MAKABE     YUJI NAGATA                NaN                NaN   \n",
       "39     TOMOHIRO ISHII     KOTA IBUSHI                NaN                NaN   \n",
       "40     TOMOHIRO ISHII     YOSHI-HASHI                NaN                NaN   \n",
       "41     TOMOHIRO ISHII     YUJI NAGATA                NaN                NaN   \n",
       "42        KOTA IBUSHI     YOSHI-HASHI                NaN                NaN   \n",
       "43        KOTA IBUSHI     YUJI NAGATA                NaN                NaN   \n",
       "44        YOSHI-HASHI     YUJI NAGATA        YOSHI-HASHI        YUJI NAGATA   \n",
       "\n",
       "    Match Match_Time  \n",
       "0       1      17:18  \n",
       "1       1        NaN  \n",
       "2       1        NaN  \n",
       "3       1      11:05  \n",
       "4       1        NaN  \n",
       "5       1        NaN  \n",
       "6       1        NaN  \n",
       "7       1        NaN  \n",
       "8       1        NaN  \n",
       "9       1        NaN  \n",
       "10      1        NaN  \n",
       "11      1        NaN  \n",
       "12      1        NaN  \n",
       "13      1        NaN  \n",
       "14      1      15:51  \n",
       "15      1        NaN  \n",
       "16      1        NaN  \n",
       "17      1        NaN  \n",
       "18      1        NaN  \n",
       "19      1        NaN  \n",
       "20      1        NaN  \n",
       "21      1      24:41  \n",
       "22      1      22:19  \n",
       "23      1        NaN  \n",
       "24      1        NaN  \n",
       "25      1        NaN  \n",
       "26      1      13:43  \n",
       "27      1        NaN  \n",
       "28      1        NaN  \n",
       "29      1      15:02  \n",
       "30      1      09:25  \n",
       "31      1        NaN  \n",
       "32      1        NaN  \n",
       "33      1        NaN  \n",
       "34      1        NaN  \n",
       "35      1      15:51  \n",
       "36      1        NaN  \n",
       "37      1        NaN  \n",
       "38      1        NaN  \n",
       "39      1        NaN  \n",
       "40      1        NaN  \n",
       "41      1        NaN  \n",
       "42      1        NaN  \n",
       "43      1        NaN  \n",
       "44      1      16:29  "
      ]
     },
     "execution_count": 38,
     "metadata": {},
     "output_type": "execute_result"
    }
   ],
   "source": [
    "A_matches"
   ]
  },
  {
   "cell_type": "markdown",
   "metadata": {},
   "source": [
    "Ok we now have a table of the potential matches, I decided to write a quick function to update the dataframe with the results rather than updating each row manually. I didn't want to type out the full names either as the spellings of Japanese names can be quite hard. So the function does a partial match and prints out the names it's matched as a check"
   ]
  },
  {
   "cell_type": "code",
   "execution_count": 31,
   "metadata": {
    "collapsed": true
   },
   "outputs": [],
   "source": [
    "def updateresults(df,winner,loser, time):#We want to find the index for the match for these two wrestlers\n",
    "    winner = winner.upper()\n",
    "    loser = loser.upper()\n",
    "    w1 = list(df[df['Wrestler 1'].str.contains(winner)].index)\n",
    "    w2 = list(df[df['Wrestler 2'].str.contains(winner)].index)\n",
    "    w3 = w1 + w2\n",
    "    if not w1:\n",
    "        winner = df.iloc[w2[0],1]\n",
    "    else:\n",
    "        winner = df.iloc[w1[0],0]\n",
    "\n",
    "    l1 = list(df[df['Wrestler 1'].str.contains(loser)].index)\n",
    "    l2 = list(df[df['Wrestler 2'].str.contains(loser)].index)\n",
    "    l3 = l1 + l2\n",
    "    if not l1:\n",
    "        loser = df.iloc[l2[0],1]\n",
    "    else:\n",
    "        loser = df.iloc[l1[0],0]\n",
    "    i = list(set(w3).intersection(l3))\n",
    "    i = i[0]\n",
    "    print(winner + ',' +loser)\n",
    "    df.iloc[i,2] = winner\n",
    "    df.iloc[i,3] = loser\n",
    "    df.iloc[i,5] = time\n",
    "    updatetable()\n",
    "    "
   ]
  },
  {
   "cell_type": "markdown",
   "metadata": {},
   "source": [
    "Update the A block matches with the Day 1 results. Really suprising results with Zack Sabre Jr going over Tanahashi and Testsuya Naito."
   ]
  },
  {
   "cell_type": "code",
   "execution_count": 13,
   "metadata": {
    "collapsed": true
   },
   "outputs": [],
   "source": [
    "def updatetable():\n",
    "    global A_Block\n",
    "    global B_Block\n",
    "    A_Block['Wins'] = A_Block['Wrestler'].map(A_matches['Winner'].value_counts())\n",
    "    A_Block['Losses'] = A_Block['Wrestler'].map(A_matches['Loser'].value_counts())\n",
    "    A_Block = A_Block.fillna(0)#replace the nan's with zeroes so we can tally later\n",
    "    A_Block['Matches'] = A_Block['Wins'] + A_Block['Losses']\n",
    "    A_Block['Points'] = A_Block['Wins']*2\n",
    "    A_Block = A_Block.sort_values(['Points'],ascending=False).reset_index(drop=True)\n",
    "    B_Block['Wins'] = B_Block['Wrestler'].map(B_matches['Winner'].value_counts())\n",
    "    B_Block['Losses'] = B_Block['Wrestler'].map(B_matches['Loser'].value_counts())\n",
    "    B_Block = B_Block.fillna(0)\n",
    "    B_Block['Matches'] = B_Block['Wins'] + B_Block['Losses']\n",
    "    B_Block = B_Block[['Wrestler','Matches','Wins','Losses']]\n",
    "    B_Block['Points'] = B_Block['Wins']*2\n",
    "    B_Block = B_Block.sort_values(['Points'],ascending=False).reset_index(drop=True)"
   ]
  },
  {
   "cell_type": "code",
   "execution_count": 32,
   "metadata": {
    "collapsed": false
   },
   "outputs": [
    {
     "name": "stdout",
     "output_type": "stream",
     "text": [
      "ZACK SABRE JR.,HIROSHI TANAHASHI\n",
      "YOSHI-HASHI,YUJI NAGATA\n",
      "BAD LUCK FALE,TOGI MAKABE\n",
      "HIROOKI GOTO,TOMOHIRO ISHII\n",
      "TETSUYA NAITO,KOTA IBUSHI\n"
     ]
    }
   ],
   "source": [
    "updateresults(A_matches, 'Zack', 'Tanahashi', '17:18')\n",
    "updateresults(A_matches, 'YOSHI', 'Nagata', '16:29')\n",
    "updateresults(A_matches, 'Fale', 'Togi', '09:25')\n",
    "updateresults(A_matches, 'Hirooki', 'Tomohiro', '13:43')\n",
    "updateresults(A_matches, 'Tetsuya', 'Kota', '24:41')"
   ]
  },
  {
   "cell_type": "markdown",
   "metadata": {},
   "source": [
    "Update the B block matches, no surprises with Okada and Omega going over. I expect one of them to be in the final"
   ]
  },
  {
   "cell_type": "code",
   "execution_count": 35,
   "metadata": {
    "collapsed": false
   },
   "outputs": [
    {
     "name": "stdout",
     "output_type": "stream",
     "text": [
      "JUICE ROBINSON,SATOSHI KOJIMA\n",
      "TAMA TONGA,MICHAEL ELGIN\n",
      "SANADA,EVIL\n",
      "KAZUCHIKA OKADA,TORU YANO\n",
      "KENNY OMEGA,MINORU SUZUKI\n"
     ]
    }
   ],
   "source": [
    "updateresults(B_matches,'Juice','Satoshi', '11:48')\n",
    "updateresults(B_matches,'Tonga','Elgin', '13:46')\n",
    "updateresults(B_matches,'Sanada','Evil','15:48')\n",
    "updateresults(B_matches,'Okada','Yano', '10:31')\n",
    "updateresults(B_matches,'Omega','Suzuki','21:24')"
   ]
  },
  {
   "cell_type": "markdown",
   "metadata": {},
   "source": [
    "Now that we've got some results, let's update the A block and B block tables that summarise the current standings. I was looking for the equivalent of Excel's countif and found that you can the Series.map function. In the tournamenet a win counts as 2 points, tie counts as 1(having factored this in yet) and 0 points for a loss. This can be a function I think that updates"
   ]
  },
  {
   "cell_type": "code",
   "execution_count": 23,
   "metadata": {
    "collapsed": true
   },
   "outputs": [],
   "source": [
    "updatetable()"
   ]
  },
  {
   "cell_type": "code",
   "execution_count": 47,
   "metadata": {
    "collapsed": false,
    "scrolled": false
   },
   "outputs": [
    {
     "data": {
      "image/png": "[encoded data removed]",
      "text/plain": [
       "<matplotlib.figure.Figure at 0x21a8200c518>"
      ]
     },
     "metadata": {},
     "output_type": "display_data"
    },
    {
     "data": {
      "image/png": "[encoded data removed]",
      "text/plain": [
       "<matplotlib.figure.Figure at 0x21a82401c50>"
      ]
     },
     "metadata": {},
     "output_type": "display_data"
    }
   ],
   "source": [
    "\n",
    "ax= sns.barplot(y='Wrestler', x='Points', data=A_Block, color= 'Red')\n",
    "ax.set_xlim(0,18)\n",
    "sns.despine()\n",
    "ax.set_ylabel('')\n",
    "ax.set_xlabel('points')\n",
    "ax.set_title('A Block')\n",
    "plt.show()\n",
    "ax= sns.barplot(y='Wrestler', x='Points', data=B_Block,  color= 'Blue')\n",
    "ax.set_xlim(0,18)\n",
    "sns.despine()\n",
    "ax.set_ylabel('') \n",
    "ax.set_xlabel('points')\n",
    "ax.set_title('B Block')\n",
    "plt.show()"
   ]
  },
  {
   "cell_type": "code",
   "execution_count": 36,
   "metadata": {
    "collapsed": false
   },
   "outputs": [
    {
     "name": "stdout",
     "output_type": "stream",
     "text": [
      "HIROOKI GOTO,YUJI NAGATA\n",
      "TOMOHIRO ISHII,TOGI MAKABE\n",
      "KOTA IBUSHI,ZACK SABRE JR.\n",
      "HIROSHI TANAHASHI,BAD LUCK FALE\n",
      "TETSUYA NAITO,YOSHI-HASHI\n"
     ]
    }
   ],
   "source": [
    "updateresults(A_matches, 'Hirooki', 'Nagata', '15:02')# Day3\n",
    "updateresults(A_matches,'ISHII', 'Togi', '15:51')\n",
    "updateresults(A_matches,'Ibushi', 'Zack', '15:51')\n",
    "updateresults(A_matches,'Tanaha', 'Fale', '11:05')\n",
    "updateresults(A_matches,'Tetsuya', 'Yoshi', '22:19')"
   ]
  },
  {
   "cell_type": "code",
   "execution_count": 37,
   "metadata": {
    "collapsed": false
   },
   "outputs": [
    {
     "name": "stdout",
     "output_type": "stream",
     "text": [
      "TORU YANO,SATOSHI KOJIMA\n",
      "EVIL,JUICE ROBINSON\n",
      "KENNY OMEGA,TAMA TONGA\n",
      "KAZUCHIKA OKADA,MICHAEL ELGIN\n",
      "MINORU SUZUKI,SANADA\n"
     ]
    }
   ],
   "source": [
    "updateresults(B_matches, 'Yano', 'Kojima','09:12') # Day 4\n",
    "updateresults(B_matches, 'Evil', 'Juice','11:46')\n",
    "updateresults(B_matches, 'Omega', 'Tama','11:42')\n",
    "updateresults(B_matches, 'Okada', 'Elgin','25:49')\n",
    "updateresults(B_matches, 'Suzuki', 'Sanada','11:22')"
   ]
  },
  {
   "cell_type": "code",
   "execution_count": 40,
   "metadata": {
    "collapsed": false
   },
   "outputs": [
    {
     "name": "stdout",
     "output_type": "stream",
     "text": [
      "ZACK SABRE JR.,YOSHI-HASHI\n",
      "HIROSHI TANAHASHI,YUJI NAGATA\n",
      "BAD LUCK FALE,TETSUYA NAITO\n",
      "KOTA IBUSHI,TOMOHIRO ISHII\n",
      "TOGI MAKABE,HIROOKI GOTO\n"
     ]
    }
   ],
   "source": [
    "updateresults(A_matches, 'Zack', 'Yoshi','11:48') # Day 5\n",
    "updateresults(A_matches, 'Hiroshi', 'YUji', '14:47')\n",
    "updateresults(A_matches, 'Fale', 'Tetsuya', '11:55')\n",
    "updateresults(A_matches, 'Kota', 'Ishii', '17:14')\n",
    "updateresults(A_matches, 'Togi', 'Hirooki','16:55')"
   ]
  },
  {
   "cell_type": "code",
   "execution_count": 41,
   "metadata": {
    "collapsed": false
   },
   "outputs": [
    {
     "name": "stdout",
     "output_type": "stream",
     "text": [
      "MICHAEL ELGIN,SATOSHI KOJIMA\n",
      "EVIL,TAMA TONGA\n",
      "KENNY OMEGA,TORU YANO\n",
      "KAZUCHIKA OKADA,SANADA\n",
      "MINORU SUZUKI,JUICE ROBINSON\n"
     ]
    }
   ],
   "source": [
    "updateresults(B_matches, 'Elgin', 'Kojima','13:09') # Day 6\n",
    "updateresults(B_matches, 'Evil', 'Tonga','10:27')\n",
    "updateresults(B_matches, 'Omega', 'Yano', '11:31')\n",
    "updateresults(B_matches, 'Okada', 'Sanada', '20:49')\n",
    "updateresults(B_matches, 'Suzuki', 'Juice', '11:23')"
   ]
  },
  {
   "cell_type": "code",
   "execution_count": 42,
   "metadata": {
    "collapsed": false
   },
   "outputs": [
    {
     "name": "stdout",
     "output_type": "stream",
     "text": [
      "TOMOHIRO ISHII,YOSHI-HASHI\n",
      "HIROSHI TANAHASHI,HIROOKI GOTO\n",
      "ZACK SABRE JR.,BAD LUCK FALE\n",
      "TOGI MAKABE,KOTA IBUSHI\n",
      "TETSUYA NAITO,YUJI NAGATA\n"
     ]
    }
   ],
   "source": [
    "updateresults(A_matches, 'Ishii', 'Yoshi', '15:43') # Day 7\n",
    "updateresults(A_matches, 'Hiroshi', 'hirooki', '17:22')\n",
    "updateresults(A_matches, 'Zack', 'Fale', '09:02')\n",
    "updateresults(A_matches, 'Togi', 'Kota', '13:20')\n",
    "updateresults(A_matches, 'Tetsuya', 'Nagata', '15:16')"
   ]
  },
  {
   "cell_type": "code",
   "execution_count": 43,
   "metadata": {
    "collapsed": false
   },
   "outputs": [
    {
     "name": "stdout",
     "output_type": "stream",
     "text": [
      "KAZUCHIKA OKADA,SATOSHI KOJIMA\n",
      "TAMA TONGA,JUICE ROBINSON\n",
      "MICHAEL ELGIN,KENNY OMEGA\n",
      "SANADA,TORU YANO\n",
      "EVIL,MINORU SUZUKI\n"
     ]
    }
   ],
   "source": [
    "updateresults(B_matches, 'Okada', 'Kojima', '15:26') # Day 8\n",
    "updateresults(B_matches, 'Tonga', 'Juice','10:36')\n",
    "updateresults(B_matches, 'Elgin', 'Omega', '24:39')\n",
    "updateresults(B_matches, 'Sanada', 'Toru', '04:33')\n",
    "updateresults(B_matches, 'Evil', 'Suzuki', '08:38')"
   ]
  },
  {
   "cell_type": "code",
   "execution_count": 44,
   "metadata": {
    "collapsed": false
   },
   "outputs": [
    {
     "name": "stdout",
     "output_type": "stream",
     "text": [
      "HIROSHI TANAHASHI,YOSHI-HASHI\n",
      "HIROOKI GOTO,ZACK SABRE JR.\n",
      "BAD LUCK FALE,KOTA IBUSHI\n",
      "TOGI MAKABE,YUJI NAGATA\n",
      "TOMOHIRO ISHII,TETSUYA NAITO\n"
     ]
    }
   ],
   "source": [
    "updateresults(A_matches, 'Hiroshi', 'Yoshi', '13:34') # Day 9\n",
    "updateresults(A_matches, 'Hirooki', 'Zack','10:10')\n",
    "updateresults(A_matches, 'Fale', 'Kota', '11:37')\n",
    "updateresults(A_matches, 'Togi', 'Nagata', '10:45')\n",
    "updateresults(A_matches, 'Ishii', 'Tetsuya', '20:58')"
   ]
  },
  {
   "cell_type": "code",
   "execution_count": 45,
   "metadata": {
    "collapsed": false
   },
   "outputs": [
    {
     "name": "stdout",
     "output_type": "stream",
     "text": [
      "KAZUCHIKA OKADA,JUICE ROBINSON\n",
      "EVIL,TORU YANO\n",
      "SANADA,MICHAEL ELGIN\n",
      "KENNY OMEGA,SATOSHI KOJIMA\n",
      "MINORU SUZUKI,TAMA TONGA\n"
     ]
    }
   ],
   "source": [
    "updateresults(B_matches, 'Okada', 'Juice', '20:29') # Day 10\n",
    "updateresults(B_matches, 'Evil', 'Yano', '1:33')\n",
    "updateresults(B_matches, 'Sanada', 'Elgin', '15:06')\n",
    "updateresults(B_matches, 'Omega', 'Kojima','12:42')\n",
    "updateresults(B_matches, 'Suzuki', 'Tama','10:22')"
   ]
  },
  {
   "cell_type": "code",
   "execution_count": 46,
   "metadata": {
    "collapsed": false
   },
   "outputs": [
    {
     "name": "stdout",
     "output_type": "stream",
     "text": [
      "KOTA IBUSHI,KOTA IBUSHI\n",
      "ZACK SABRE JR.,TOGI MAKABE\n",
      "TOMOHIRO ISHII,YUJI NAGATA\n",
      "TETSUYA NAITO,HIROOKI GOTO\n",
      "YOSHI-HASHI,BAD LUCK FALE\n"
     ]
    }
   ],
   "source": [
    "updateresults(A_matches, 'Ibushi', 'Kota', '20:40') # Day 11\n",
    "updateresults(A_matches, 'Zack', 'Togi', '09:30')\n",
    "updateresults(A_matches, 'Ishii', 'Nagata', '13:51')\n",
    "updateresults(A_matches, 'Naito', 'Goto', '13:30')\n",
    "updateresults(A_matches, 'Yoshi', 'Fale', '10:21')"
   ]
  },
  {
   "cell_type": "code",
   "execution_count": null,
   "metadata": {
    "collapsed": true
   },
   "outputs": [],
   "source": []
  }
 ],
 "metadata": {
  "anaconda-cloud": {},
  "kernelspec": {
   "display_name": "Python [default]",
   "language": "python",
   "name": "python3"
  },
  "language_info": {
   "codemirror_mode": {
    "name": "ipython",
    "version": 3
   },
   "file_extension": ".py",
   "mimetype": "text/x-python",
   "name": "python",
   "nbconvert_exporter": "python",
   "pygments_lexer": "ipython3",
   "version": "3.5.2"
  }
 },
 "nbformat": 4,
 "nbformat_minor": 1
}
